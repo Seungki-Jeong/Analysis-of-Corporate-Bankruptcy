{
 "cells": [
  {
   "cell_type": "code",
   "execution_count": null,
   "outputs": [],
   "source": [
    "import pandas as pd\n",
    "import os"
   ],
   "metadata": {
    "collapsed": false,
    "pycharm": {
     "name": "#%%\n"
    }
   }
  },
  {
   "cell_type": "code",
   "execution_count": null,
   "outputs": [],
   "source": [
    "class company_prerocessing():\n",
    "#     def __init__()\n",
    "    # 파일 열기\n",
    "    def open_df(folder_path):\n",
    "        df = pd.read_csv(folder_path)\n",
    "        return df\n",
    "\n",
    "    # 재무 상태표\n",
    "    def bs_preprocessing(df_bs, cmp_list):\n",
    "\n",
    "        if df_bs.columns[2].isdigit() == True:\n",
    "            try:\n",
    "                df_bs_1 = df_bs.iloc[:, [0, 2, 3, 4]]\n",
    "            except:\n",
    "                pass\n",
    "\n",
    "        elif df_bs.columns[6].isdigit() == True:\n",
    "            df_bs_1 = df_bs.iloc[:, [1, 6, 7, 8]]\n",
    "\n",
    "        elif df_bs.columns[7].isdigit() == True:\n",
    "            df_bs_1 = df_bs.iloc[:, [1, 7, 8, 9]]\n",
    "\n",
    "        elif df_bs.columns[8].isdigit() == True:\n",
    "            df_bs_1 = df_bs.iloc[:, [1, 8, 9, 10]]\n",
    "\n",
    "        else:\n",
    "            df_bs_1 = df_bs.iloc[:, 0:4]\n",
    "\n",
    "        df_bs_1.columns = ['', df_bs_1.columns[1], df_bs_1.columns[2], df_bs_1.columns[3]]\n",
    "        df_bs_1 = df_bs_1.T\n",
    "\n",
    "        df_bs_1 = df_bs_1.rename(columns=df_bs_1.iloc[0])\n",
    "        df_bs_1 = df_bs_1.drop(df_bs_1.index[0])\n",
    "        df_bs_1.drop('label_ko', inplace=True, axis =1)\n",
    "\n",
    "        df_bs_1 = df_bs_1.reset_index().rename(columns={'index': 'date'})\n",
    "\n",
    "\n",
    "        df_bs_1['company'] = cmp_list\n",
    "        print('bs_preprocessing complete')\n",
    "\n",
    "        return df_bs_1\n",
    "\n",
    "    # 포괄손익 계산서\n",
    "    def cis_preprocessing(df_cis, cmp_list):\n",
    "\n",
    "        if '01-20' in df_cis.columns[6]:\n",
    "            if '01-20' in df_cis.columns[8]:\n",
    "                df_cis_1 = df_cis.iloc[:, [1, 6, 7, 8]]\n",
    "            else:\n",
    "                df_cis_1 = df_cis.iloc[:, [1, 6, 7]]\n",
    "\n",
    "        else:\n",
    "            if '01-20' in df_cis.columns[9]:\n",
    "                df_cis_1 = df_cis.iloc[:, [1, 7, 8, 9]]\n",
    "            else:\n",
    "                df_cis_1 = df_cis.iloc[:, [1, 7, 8]]\n",
    "\n",
    "        if len(df_cis_1.columns) == 4:\n",
    "            df_cis_1.columns = ['', df_cis_1.columns[1], df_cis_1.columns[2], df_cis_1.columns[3]]\n",
    "        elif len(df_cis_1.columns) == 3:\n",
    "            df_cis_1.columns = ['', df_cis_1.columns[1], df_cis_1.columns[2]]\n",
    "\n",
    "        df_cis_1 = df_cis_1.T\n",
    "\n",
    "        df_cis_1 = df_cis_1.rename(columns=df_cis_1.iloc[0])\n",
    "        df_cis_1 = df_cis_1.drop(df_cis_1.index[0])\n",
    "        df_cis_1.drop('label_ko', inplace=True, axis =1)\n",
    "\n",
    "        df_cis_1 = df_cis_1.reset_index().rename(columns={'index': 'date'})\n",
    "\n",
    "        df_cis_1['company'] = cmp_list\n",
    "        df_cis_1['date'] = df_cis_1['date'].str[9:]\n",
    "        print('cis_preprocessing complete')\n",
    "\n",
    "        return df_cis_1\n",
    "\n",
    "    # 데이터 프레임 저장\n",
    "    def save_df(folder_path, df, cmp_list):\n",
    "        df.to_csv(folder_path + cmp_list + '.csv', index=False)\n"
   ],
   "metadata": {
    "collapsed": false,
    "pycharm": {
     "name": "#%%\n"
    }
   }
  },
  {
   "cell_type": "code",
   "execution_count": null,
   "outputs": [],
   "source": [
    "# if '__main__' == __name__:\n",
    "\n",
    "FOLDER_PATH = 'data/최종/'\n",
    "\n",
    "# 원본 PATH\n",
    "PATH1 = '재무상태표/'\n",
    "PATH2 = '포괄손익계산서/'\n",
    "\n",
    "# 전처리 PATH\n",
    "PATH3 = '재무재표 전처리/'\n",
    "PATH4 = '포괄손익계산서 전처리/'\n",
    "\n",
    "# 파일 리스트화\n",
    "file_list1 = os.listdir(FOLDER_PATH +'재무상태표/')\n",
    "file_list2 = os.listdir(FOLDER_PATH +'포괄손익계산서/')\n",
    "\n",
    "var_1_dic = {'자본총계': 4, '자산총계': 4, '매입채무': 13, '매출채권': 13, '부채총계': 4, '유동부채': 4, '유동자산': 4, '재고자산': 4}\n",
    "var_2_dic = {'매출총이익': 5, '법인세비용차감': 15, '당기순이익': 10}\n",
    "\n",
    "bs_a = pd.DataFrame(columns=['date', 'company'])\n",
    "cis_a = pd.DataFrame(columns=['date', 'company'])\n",
    "\n",
    "for cmp_list1, cmp_list2 in zip(file_list1, file_list2):\n",
    "    # 재무 상태표\n",
    "    df = company_prerocessing.open_df(os.path.join(FOLDER_PATH + PATH1  + cmp_list1))\n",
    "    df_bs_1 = company_prerocessing.bs_preprocessing(df, cmp_list1[:-13])\n",
    "    company_prerocessing.save_df(os.path.join(FOLDER_PATH + PATH3), df_bs_1, cmp_list1[:-13])\n",
    "\n",
    "    # 변수 전처리\n",
    "    list1 = ['date', 'company']\n",
    "    for var1, var1_ in var_1_dic.items():\n",
    "        for bs in df_bs_1.columns:\n",
    "            if var1 in bs:\n",
    "                if var1_ >= len(bs):\n",
    "                    list1.append(bs)\n",
    "    print(df_bs_1[list1])\n",
    "    bs_a = pd.concat([bs_a, df_bs_1[list1]])\n",
    "\n",
    "    # 포괄 손익 계산서\n",
    "    df = company_prerocessing.open_df(os.path.join(FOLDER_PATH + PATH2 + cmp_list2))\n",
    "    df_cis_1 = company_prerocessing.cis_preprocessing(df, cmp_list2[:-15])\n",
    "    company_prerocessing.save_df(os.path.join(FOLDER_PATH + PATH4), df_cis_1, cmp_list2[:-15])\n",
    "\n",
    "    # 변수 전처리\n",
    "    list2 = ['date', 'company']\n",
    "    for var2, var2_ in var_2_dic.items():\n",
    "        for cis in df_cis_1.columns:\n",
    "            if var2 in cis:\n",
    "                if var2_ >= len(cis):\n",
    "                    list1.append(cis)\n",
    "    print(df_cis_1[list2])\n",
    "    cis_a = pd.concat([cis_a, df_cis_1[list2]])\n",
    "\n",
    "bs_a.reset_index(inplace=True, drop=True)\n",
    "cis_a.reset_index(inplace=True, drop=True)\n",
    "company_prerocessing.save_df(os.path.join(FOLDER_PATH + PATH3), bs_a, '재무상태표 통합')\n",
    "company_prerocessing.save_df(os.path.join(FOLDER_PATH + PATH4), cis_a, '포괄손익계산서 통합')\n"
   ],
   "metadata": {
    "collapsed": false,
    "pycharm": {
     "name": "#%%\n"
    }
   }
  },
  {
   "cell_type": "code",
   "execution_count": null,
   "outputs": [],
   "source": [
    "var_1_dic = {'자본총계': 4, '자산총계': 4, '매입채무': 13, '매출채권': 13, '부채총계': 4, '유동부채': 4, '유동자산': 4, '재고자산': 4}\n",
    "var_2_dic = {'매출총이익': 5, '법인세비용차감': 15, '당기순이익': 10}"
   ],
   "metadata": {
    "collapsed": false,
    "pycharm": {
     "name": "#%%\n"
    }
   }
  },
  {
   "cell_type": "code",
   "execution_count": null,
   "outputs": [],
   "source": [
    "df = company_prerocessing.open_df(os.path.join(FOLDER_PATH + '재무상태표/' + file_list1[0]))\n",
    "df_bs_1 = company_prerocessing.bs_preprocessing(df, cmp_list1[:-13])\n",
    "company_prerocessing.save_df(os.path.join(FOLDER_PATH + '재무재표 전처리/'), df_bs_1, cmp_list1[:-13])"
   ],
   "metadata": {
    "collapsed": false,
    "pycharm": {
     "name": "#%%\n"
    }
   }
  },
  {
   "cell_type": "code",
   "execution_count": null,
   "outputs": [],
   "source": [
    "list1 = ['date', 'company']\n",
    "for var1, var1_ in var_1_dic.items():\n",
    "    for bs in df_bs_1.columns:\n",
    "        if var1 in bs:\n",
    "            if var1_ == len(bs):\n",
    "                print(bs)\n",
    "                list1.append(bs)\n",
    "# print(df_bs_1[list1])\n",
    "# bs_a = pd.concat([bs_a, df_bs_1[list1]])"
   ],
   "metadata": {
    "collapsed": false,
    "pycharm": {
     "name": "#%%\n"
    }
   }
  },
  {
   "cell_type": "code",
   "execution_count": null,
   "outputs": [],
   "source": [
    "len('매출채권 및 기타유동채권')"
   ],
   "metadata": {
    "collapsed": false,
    "pycharm": {
     "name": "#%%\n"
    }
   }
  },
  {
   "cell_type": "code",
   "execution_count": null,
   "outputs": [],
   "source": [],
   "metadata": {
    "collapsed": false,
    "pycharm": {
     "name": "#%%\n"
    }
   }
  }
 ],
 "metadata": {
  "kernelspec": {
   "display_name": "Python 3",
   "language": "python",
   "name": "python3"
  },
  "language_info": {
   "codemirror_mode": {
    "name": "ipython",
    "version": 3
   },
   "file_extension": ".py",
   "mimetype": "text/x-python",
   "name": "python",
   "nbconvert_exporter": "python",
   "pygments_lexer": "ipython3",
   "version": "3.8.5"
  }
 },
 "nbformat": 4,
 "nbformat_minor": 4
}