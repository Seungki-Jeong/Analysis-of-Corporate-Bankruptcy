{
 "cells": [
  {
   "cell_type": "code",
   "execution_count": 1,
   "metadata": {},
   "outputs": [],
   "source": [
    "import pandas as pd\n",
    "import numpy as np\n",
    "import os"
   ]
  },
  {
   "cell_type": "code",
   "execution_count": 2,
   "metadata": {},
   "outputs": [],
   "source": [
    "FOLDER_PATH = 'data/최종/'"
   ]
  },
  {
   "cell_type": "code",
   "execution_count": 3,
   "metadata": {},
   "outputs": [],
   "source": [
    "class company_prerocessing():\n",
    "#     def __init__()\n",
    "    def open_df(folder_path):\n",
    "        df = pd.read_csv(folder_path)\n",
    "\n",
    "        return df\n",
    "    \n",
    "    def cis_preprocessing(df_cis, cmp_list):\n",
    "        \n",
    "        if '01-20' in df_cis.columns[6]:\n",
    "            df_cis_1 = df_cis.iloc[:, [1, 6, 7]]\n",
    "        else:\n",
    "            df_cis_1 = df_cis.iloc[:, [1, 7, 8]]\n",
    "                \n",
    "        df_cis_1.columns = ['', df_cis_1.columns[1], df_cis_1.columns[2]]\n",
    "        df_cis_1 = df_cis_1.T\n",
    "        \n",
    "        \n",
    "        df_cis_1 = df_cis_1.rename(columns=df_cis_1.iloc[0])\n",
    "        df_cis_1 = df_cis_1.drop(df_cis_1.index[0])\n",
    "        df_cis_1.drop('label_ko', inplace=True, axis =1)\n",
    "        \n",
    "        df_cis_1 = df_cis_1.reset_index().rename(columns={'index': 'date'})\n",
    "\n",
    "        df_cis_1['company'] = cmp_list\n",
    "        df_cis_1['date'] = df_cis_1['date'].str[9:]\n",
    "        print('cis_preprocessing complete')\n",
    "\n",
    "        # df_cis_1.to_csv('data/최종/포괄손익계산서 전처리/'+cmp_list+'.csv', index=False)\n",
    "\n",
    "        return df_cis_1\n",
    "    \n",
    "        \n",
    "    def bs_preprocessing(df_bs, cmp_list):\n",
    "        try:\n",
    "            if df_bs.columns[6].isdigit() == True:\n",
    "                df_bs_1 = df_bs.iloc[:, [1, 6, 7, 8]]\n",
    "            elif df_bs.columns[7].isdigit() == True:\n",
    "                df_bs_1 = df_bs.iloc[:, [1, 7, 8, 9]]\n",
    "            else:\n",
    "                df_bs_1 = df_bs.iloc[:, [1, 8, 9, 10]]\n",
    "        except:\n",
    "            df_bs_1 = df_bs.iloc[:, 0:4]\n",
    "            \n",
    "        df_bs_1.columns = ['', df_bs_1.columns[1], df_bs_1.columns[2], df_bs_1.columns[3]]\n",
    "        df_bs_1 = df_bs_1.T\n",
    "        \n",
    "        df_bs_1 = df_bs_1.rename(columns=df_bs_1.iloc[0])\n",
    "        df_bs_1 = df_bs_1.drop(df_bs_1.index[0])\n",
    "        df_bs_1.drop('label_ko', inplace=True, axis =1)\n",
    "            \n",
    "        df_bs_1 = df_bs_1.reset_index().rename(columns={'index': 'date'})\n",
    "        \n",
    "       \n",
    "        df_bs_1['company'] = cmp_list\n",
    "        print('bs_preprocessing complete')\n",
    "        \n",
    "        # df_bs_1.to_csv('data/최종/재무재표 전처리/'+cmp_list+'.csv', index=False)\n",
    "        return df_bs_1\n",
    "\n",
    "    def save_df(folder_path, df, cmp_list):\n",
    "        df.to_csv(folder_path + cmp_list + '.csv', index=False)\n",
    "\n",
    "    def total_dataframe(self, df_cis_1, df_bs_1, df_cf_1, cmp_list):\n",
    "        data_total = pd.merge(df_cis_1, df_bs_1, on='date')\n",
    "        data_total = pd.merge(data_total, df_cf_1, on='date')\n",
    "        data_total.to_csv('data/total/' + cmp_list + ' total.csv', index=False)\n",
    "\n",
    "        return data_total"
   ]
  },
  {
   "cell_type": "code",
   "execution_count": 23,
   "metadata": {},
   "outputs": [
    {
     "name": "stdout",
     "output_type": "stream",
     "text": [
      "bs_preprocessing complete\n",
      "       date company           자본총계            자산총계  매입채무 및 기타유동채무  \\\n",
      "0  20111231    금강제강  61279687814.0  194206670604.0  39110749325.0   \n",
      "1  20101231    금강제강  72211501426.0  179481870466.0  41074511130.0   \n",
      "2  20091231    금강제강  55248061746.0  120141443625.0  21023313155.0   \n",
      "\n",
      "   매출채권 및 기타유동채권            부채총계            유동부채            유동자산  \\\n",
      "0  49725295614.0  132926982790.0  113985044750.0  100969321003.0   \n",
      "1  61178350458.0  107270369040.0   85302556870.0   99806911954.0   \n",
      "2  37786731906.0   64893381879.0   50998611676.0   57435150864.0   \n",
      "\n",
      "            재고자산  \n",
      "0  37436698391.0  \n",
      "1  33343253080.0  \n",
      "2  14166765495.0  \n",
      "cis_preprocessing complete\n",
      "       date company\n",
      "0  20111231    금강제강\n",
      "1  20101231    금강제강\n",
      "bs_preprocessing complete\n",
      "       date company           자본총계            자산총계  매입채무 및 기타유동채무  \\\n",
      "0  20111231    배명금속  95296464290.0  208619609146.0  26367131866.0   \n",
      "1  20101231    배명금속  77745475250.0  179399062436.0  18536080027.0   \n",
      "2  20091231    배명금속  82610217591.0  171171430848.0  14123945120.0   \n",
      "\n",
      "   매출채권 및 기타유동채권            부채총계            유동부채            유동자산  \\\n",
      "0  30166438816.0  113323144856.0  106984768096.0  120559651206.0   \n",
      "1  26118974181.0  101653587186.0   95049265962.0   94315952312.0   \n",
      "2  14175850742.0   88561213257.0   82158201786.0   89565588511.0   \n",
      "\n",
      "            재고자산  \n",
      "0  66618482419.0  \n",
      "1  55218399050.0  \n",
      "2  56707866704.0  \n",
      "cis_preprocessing complete\n",
      "       date company\n",
      "0  20111231    배명금속\n",
      "1  20101231    배명금속\n",
      "bs_preprocessing complete\n",
      "       date company            자본총계             자산총계   매입채무 및 기타유동채무  \\\n",
      "0  20111231    풍림산업  152837431616.0  1374255960342.0  516846395394.0   \n",
      "1  20101231    풍림산업  185149189773.0  1188801152279.0  371141947782.0   \n",
      "2  20091231    풍림산업  261243875520.0  1269465881167.0  327249400675.0   \n",
      "\n",
      "    매출채권 및 기타유동채권             부채총계            유동부채            유동자산  \\\n",
      "0  759265274862.0  1221418528726.0  752955724323.0  919718310569.0   \n",
      "1  658773549500.0  1003651962506.0  954388334556.0  771447482160.0   \n",
      "2  713340312689.0  1008222005647.0  506509390912.0  875186217415.0   \n",
      "\n",
      "            재고자산  \n",
      "0  30002292372.0  \n",
      "1  34818379461.0  \n",
      "2  35314961520.0  \n",
      "cis_preprocessing complete\n",
      "       date company\n",
      "0  20111231    풍림산업\n",
      "1  20101231    풍림산업\n"
     ]
    }
   ],
   "source": [
    "# if '__ma|in__' == __name__:\n",
    "var_1_dic = {'자본총계': 4, '자산총계': 4, '매입채무': 13, '매출채권': 13, '부채총계': 4, '유동부채': 4, '유동자산': 4, '재고자산': 4}\n",
    "var_2_dic = {'매출총이익': 5, '법인세비용차감': 15, '당기순이익': 10}\n",
    "\n",
    "bs_a = pd.DataFrame(columns=['date', 'company'])\n",
    "cis_a = pd.DataFrame(columns=['date', 'company'])\n",
    "\n",
    "file_list1 = os.listdir(FOLDER_PATH +'재무상태표/')\n",
    "file_list2 = os.listdir(FOLDER_PATH +'포괄손익계산서/')\n",
    "\n",
    "\n",
    "\n",
    "for cmp_list1, cmp_list2 in zip(file_list1, file_list2):\n",
    "\n",
    "    # 재무 상태표\n",
    "    df = company_prerocessing.open_df(os.path.join(FOLDER_PATH + '재무상태표/' + cmp_list1))\n",
    "    df_bs_1 = company_prerocessing.bs_preprocessing(df, cmp_list1[:-13])\n",
    "    company_prerocessing.save_df(os.path.join(FOLDER_PATH + '재무재표 전처리/'), df_bs_1, cmp_list1[:-13])\n",
    "\n",
    "    list1 = ['date', 'company']\n",
    "    for var1, var1_ in var_1_dic.items():\n",
    "        for bs in df_bs_1.columns:\n",
    "            if var1 in bs:\n",
    "                if var1_ >= len(bs):\n",
    "                    list1.append(bs)\n",
    "    print(df_bs_1[list1])\n",
    "    bs_a = pd.concat([bs_a, df_bs_1[list1]])\n",
    "\n",
    "\n",
    "\n",
    "\n",
    "    df = company_prerocessing.open_df(os.path.join(FOLDER_PATH + '포괄손익계산서/' + cmp_list2))\n",
    "    df_cis_1 = company_prerocessing.cis_preprocessing(df, cmp_list2[:-15])\n",
    "    company_prerocessing.save_df(os.path.join(FOLDER_PATH + '포괄손익계산서 전처리/'), df_cis_1, cmp_list2[:-15])\n",
    "\n",
    "\n",
    "\n",
    "    list2 = ['date', 'company']\n",
    "    for var2, var2_ in var_2_dic.items():\n",
    "        for cis in df_cis_1.columns:\n",
    "            if var2 in cis:\n",
    "                if var2_ >= len(cis):\n",
    "                    list1.append(cis)\n",
    "    print(df_cis_1[list2])\n",
    "    cis_a = pd.concat([cis_a, df_cis_1[list2]])\n",
    "\n",
    "\n",
    "\n",
    "bs_a.reset_index(inplace=True, drop=True)\n",
    "cis_a.reset_index(inplace=True, drop=True)\n",
    "company_prerocessing.save_df(os.path.join(FOLDER_PATH + '재무재표 전처리/'), bs_a, '재무상태표 통합')\n",
    "company_prerocessing.save_df(os.path.join(FOLDER_PATH + '포괄손익계산서 전처리/'), cis_a, '포괄손익계산서 통합')\n"
   ]
  },
  {
   "cell_type": "code",
   "execution_count": 24,
   "metadata": {},
   "outputs": [
    {
     "data": {
      "text/plain": "       date company\n0  20111231    금강제강\n1  20101231    금강제강\n2  20111231    배명금속\n3  20101231    배명금속\n4  20111231    풍림산업\n5  20101231    풍림산업",
      "text/html": "<div>\n<style scoped>\n    .dataframe tbody tr th:only-of-type {\n        vertical-align: middle;\n    }\n\n    .dataframe tbody tr th {\n        vertical-align: top;\n    }\n\n    .dataframe thead th {\n        text-align: right;\n    }\n</style>\n<table border=\"1\" class=\"dataframe\">\n  <thead>\n    <tr style=\"text-align: right;\">\n      <th></th>\n      <th>date</th>\n      <th>company</th>\n    </tr>\n  </thead>\n  <tbody>\n    <tr>\n      <th>0</th>\n      <td>20111231</td>\n      <td>금강제강</td>\n    </tr>\n    <tr>\n      <th>1</th>\n      <td>20101231</td>\n      <td>금강제강</td>\n    </tr>\n    <tr>\n      <th>2</th>\n      <td>20111231</td>\n      <td>배명금속</td>\n    </tr>\n    <tr>\n      <th>3</th>\n      <td>20101231</td>\n      <td>배명금속</td>\n    </tr>\n    <tr>\n      <th>4</th>\n      <td>20111231</td>\n      <td>풍림산업</td>\n    </tr>\n    <tr>\n      <th>5</th>\n      <td>20101231</td>\n      <td>풍림산업</td>\n    </tr>\n  </tbody>\n</table>\n</div>"
     },
     "execution_count": 24,
     "metadata": {},
     "output_type": "execute_result"
    }
   ],
   "source": [
    "cis_a"
   ]
  },
  {
   "cell_type": "code",
   "execution_count": 25,
   "metadata": {},
   "outputs": [
    {
     "data": {
      "text/plain": "       date company            자본총계             자산총계   매입채무 및 기타유동채무  \\\n0  20111231    금강제강   61279687814.0   194206670604.0   39110749325.0   \n1  20101231    금강제강   72211501426.0   179481870466.0   41074511130.0   \n2  20091231    금강제강   55248061746.0   120141443625.0   21023313155.0   \n3  20111231    배명금속   95296464290.0   208619609146.0   26367131866.0   \n4  20101231    배명금속   77745475250.0   179399062436.0   18536080027.0   \n5  20091231    배명금속   82610217591.0   171171430848.0   14123945120.0   \n6  20111231    풍림산업  152837431616.0  1374255960342.0  516846395394.0   \n7  20101231    풍림산업  185149189773.0  1188801152279.0  371141947782.0   \n8  20091231    풍림산업  261243875520.0  1269465881167.0  327249400675.0   \n\n    매출채권 및 기타유동채권             부채총계            유동부채            유동자산  \\\n0   49725295614.0   132926982790.0  113985044750.0  100969321003.0   \n1   61178350458.0   107270369040.0   85302556870.0   99806911954.0   \n2   37786731906.0    64893381879.0   50998611676.0   57435150864.0   \n3   30166438816.0   113323144856.0  106984768096.0  120559651206.0   \n4   26118974181.0   101653587186.0   95049265962.0   94315952312.0   \n5   14175850742.0    88561213257.0   82158201786.0   89565588511.0   \n6  759265274862.0  1221418528726.0  752955724323.0  919718310569.0   \n7  658773549500.0  1003651962506.0  954388334556.0  771447482160.0   \n8  713340312689.0  1008222005647.0  506509390912.0  875186217415.0   \n\n            재고자산  \n0  37436698391.0  \n1  33343253080.0  \n2  14166765495.0  \n3  66618482419.0  \n4  55218399050.0  \n5  56707866704.0  \n6  30002292372.0  \n7  34818379461.0  \n8  35314961520.0  ",
      "text/html": "<div>\n<style scoped>\n    .dataframe tbody tr th:only-of-type {\n        vertical-align: middle;\n    }\n\n    .dataframe tbody tr th {\n        vertical-align: top;\n    }\n\n    .dataframe thead th {\n        text-align: right;\n    }\n</style>\n<table border=\"1\" class=\"dataframe\">\n  <thead>\n    <tr style=\"text-align: right;\">\n      <th></th>\n      <th>date</th>\n      <th>company</th>\n      <th>자본총계</th>\n      <th>자산총계</th>\n      <th>매입채무 및 기타유동채무</th>\n      <th>매출채권 및 기타유동채권</th>\n      <th>부채총계</th>\n      <th>유동부채</th>\n      <th>유동자산</th>\n      <th>재고자산</th>\n    </tr>\n  </thead>\n  <tbody>\n    <tr>\n      <th>0</th>\n      <td>20111231</td>\n      <td>금강제강</td>\n      <td>61279687814.0</td>\n      <td>194206670604.0</td>\n      <td>39110749325.0</td>\n      <td>49725295614.0</td>\n      <td>132926982790.0</td>\n      <td>113985044750.0</td>\n      <td>100969321003.0</td>\n      <td>37436698391.0</td>\n    </tr>\n    <tr>\n      <th>1</th>\n      <td>20101231</td>\n      <td>금강제강</td>\n      <td>72211501426.0</td>\n      <td>179481870466.0</td>\n      <td>41074511130.0</td>\n      <td>61178350458.0</td>\n      <td>107270369040.0</td>\n      <td>85302556870.0</td>\n      <td>99806911954.0</td>\n      <td>33343253080.0</td>\n    </tr>\n    <tr>\n      <th>2</th>\n      <td>20091231</td>\n      <td>금강제강</td>\n      <td>55248061746.0</td>\n      <td>120141443625.0</td>\n      <td>21023313155.0</td>\n      <td>37786731906.0</td>\n      <td>64893381879.0</td>\n      <td>50998611676.0</td>\n      <td>57435150864.0</td>\n      <td>14166765495.0</td>\n    </tr>\n    <tr>\n      <th>3</th>\n      <td>20111231</td>\n      <td>배명금속</td>\n      <td>95296464290.0</td>\n      <td>208619609146.0</td>\n      <td>26367131866.0</td>\n      <td>30166438816.0</td>\n      <td>113323144856.0</td>\n      <td>106984768096.0</td>\n      <td>120559651206.0</td>\n      <td>66618482419.0</td>\n    </tr>\n    <tr>\n      <th>4</th>\n      <td>20101231</td>\n      <td>배명금속</td>\n      <td>77745475250.0</td>\n      <td>179399062436.0</td>\n      <td>18536080027.0</td>\n      <td>26118974181.0</td>\n      <td>101653587186.0</td>\n      <td>95049265962.0</td>\n      <td>94315952312.0</td>\n      <td>55218399050.0</td>\n    </tr>\n    <tr>\n      <th>5</th>\n      <td>20091231</td>\n      <td>배명금속</td>\n      <td>82610217591.0</td>\n      <td>171171430848.0</td>\n      <td>14123945120.0</td>\n      <td>14175850742.0</td>\n      <td>88561213257.0</td>\n      <td>82158201786.0</td>\n      <td>89565588511.0</td>\n      <td>56707866704.0</td>\n    </tr>\n    <tr>\n      <th>6</th>\n      <td>20111231</td>\n      <td>풍림산업</td>\n      <td>152837431616.0</td>\n      <td>1374255960342.0</td>\n      <td>516846395394.0</td>\n      <td>759265274862.0</td>\n      <td>1221418528726.0</td>\n      <td>752955724323.0</td>\n      <td>919718310569.0</td>\n      <td>30002292372.0</td>\n    </tr>\n    <tr>\n      <th>7</th>\n      <td>20101231</td>\n      <td>풍림산업</td>\n      <td>185149189773.0</td>\n      <td>1188801152279.0</td>\n      <td>371141947782.0</td>\n      <td>658773549500.0</td>\n      <td>1003651962506.0</td>\n      <td>954388334556.0</td>\n      <td>771447482160.0</td>\n      <td>34818379461.0</td>\n    </tr>\n    <tr>\n      <th>8</th>\n      <td>20091231</td>\n      <td>풍림산업</td>\n      <td>261243875520.0</td>\n      <td>1269465881167.0</td>\n      <td>327249400675.0</td>\n      <td>713340312689.0</td>\n      <td>1008222005647.0</td>\n      <td>506509390912.0</td>\n      <td>875186217415.0</td>\n      <td>35314961520.0</td>\n    </tr>\n  </tbody>\n</table>\n</div>"
     },
     "execution_count": 25,
     "metadata": {},
     "output_type": "execute_result"
    }
   ],
   "source": [
    "bs_a"
   ]
  },
  {
   "cell_type": "code",
   "execution_count": 13,
   "metadata": {},
   "outputs": [
    {
     "data": {
      "text/html": [
       "<div>\n",
       "<style scoped>\n",
       "    .dataframe tbody tr th:only-of-type {\n",
       "        vertical-align: middle;\n",
       "    }\n",
       "\n",
       "    .dataframe tbody tr th {\n",
       "        vertical-align: top;\n",
       "    }\n",
       "\n",
       "    .dataframe thead th {\n",
       "        text-align: right;\n",
       "    }\n",
       "</style>\n",
       "<table border=\"1\" class=\"dataframe\">\n",
       "  <thead>\n",
       "    <tr style=\"text-align: right;\">\n",
       "      <th></th>\n",
       "      <th>date</th>\n",
       "      <th>company</th>\n",
       "      <th>매출총이익</th>\n",
       "      <th>법인세비용차감전순이익(손실)</th>\n",
       "      <th>당기순이익(손실)</th>\n",
       "      <th>자본총계</th>\n",
       "      <th>자산총계</th>\n",
       "      <th>부채총계</th>\n",
       "      <th>유동부채</th>\n",
       "      <th>유동자산</th>\n",
       "      <th>재고자산</th>\n",
       "    </tr>\n",
       "  </thead>\n",
       "  <tbody>\n",
       "    <tr>\n",
       "      <th>0</th>\n",
       "      <td>20111231</td>\n",
       "      <td>금강제강</td>\n",
       "      <td>591907148.0</td>\n",
       "      <td>-13509435372.0</td>\n",
       "      <td>-11260872179.0</td>\n",
       "      <td>61279687814.0</td>\n",
       "      <td>194206670604.0</td>\n",
       "      <td>132926982790.0</td>\n",
       "      <td>113985044750.0</td>\n",
       "      <td>100969321003.0</td>\n",
       "      <td>37436698391.0</td>\n",
       "    </tr>\n",
       "    <tr>\n",
       "      <th>1</th>\n",
       "      <td>20101231</td>\n",
       "      <td>금강제강</td>\n",
       "      <td>13444476213.0</td>\n",
       "      <td>2073005833.0</td>\n",
       "      <td>1519307289.0</td>\n",
       "      <td>72211501426.0</td>\n",
       "      <td>179481870466.0</td>\n",
       "      <td>107270369040.0</td>\n",
       "      <td>85302556870.0</td>\n",
       "      <td>99806911954.0</td>\n",
       "      <td>33343253080.0</td>\n",
       "    </tr>\n",
       "    <tr>\n",
       "      <th>2</th>\n",
       "      <td>20111231</td>\n",
       "      <td>배명금속</td>\n",
       "      <td>8510337046.0</td>\n",
       "      <td>376240588.0</td>\n",
       "      <td>627781200.0</td>\n",
       "      <td>95296464290.0</td>\n",
       "      <td>208619609146.0</td>\n",
       "      <td>113323144856.0</td>\n",
       "      <td>106984768096.0</td>\n",
       "      <td>120559651206.0</td>\n",
       "      <td>66618482419.0</td>\n",
       "    </tr>\n",
       "    <tr>\n",
       "      <th>3</th>\n",
       "      <td>20101231</td>\n",
       "      <td>배명금속</td>\n",
       "      <td>7700935418.0</td>\n",
       "      <td>-5482424803.0</td>\n",
       "      <td>-5245282081.0</td>\n",
       "      <td>77745475250.0</td>\n",
       "      <td>179399062436.0</td>\n",
       "      <td>101653587186.0</td>\n",
       "      <td>95049265962.0</td>\n",
       "      <td>94315952312.0</td>\n",
       "      <td>55218399050.0</td>\n",
       "    </tr>\n",
       "    <tr>\n",
       "      <th>4</th>\n",
       "      <td>20111231</td>\n",
       "      <td>풍림산업</td>\n",
       "      <td>2072700894.0</td>\n",
       "      <td>-41366351473.0</td>\n",
       "      <td>-35852563764.0</td>\n",
       "      <td>152837431616.0</td>\n",
       "      <td>1374255960342.0</td>\n",
       "      <td>1221418528726.0</td>\n",
       "      <td>752955724323.0</td>\n",
       "      <td>919718310569.0</td>\n",
       "      <td>30002292372.0</td>\n",
       "    </tr>\n",
       "    <tr>\n",
       "      <th>5</th>\n",
       "      <td>20101231</td>\n",
       "      <td>풍림산업</td>\n",
       "      <td>29044164067.0</td>\n",
       "      <td>-91069640922.0</td>\n",
       "      <td>-74624076085.0</td>\n",
       "      <td>185149189773.0</td>\n",
       "      <td>1188801152279.0</td>\n",
       "      <td>1003651962506.0</td>\n",
       "      <td>954388334556.0</td>\n",
       "      <td>771447482160.0</td>\n",
       "      <td>34818379461.0</td>\n",
       "    </tr>\n",
       "  </tbody>\n",
       "</table>\n",
       "</div>"
      ],
      "text/plain": [
       "       date company          매출총이익 법인세비용차감전순이익(손실)       당기순이익(손실)  \\\n",
       "0  20111231    금강제강    591907148.0  -13509435372.0  -11260872179.0   \n",
       "1  20101231    금강제강  13444476213.0    2073005833.0    1519307289.0   \n",
       "2  20111231    배명금속   8510337046.0     376240588.0     627781200.0   \n",
       "3  20101231    배명금속   7700935418.0   -5482424803.0   -5245282081.0   \n",
       "4  20111231    풍림산업   2072700894.0  -41366351473.0  -35852563764.0   \n",
       "5  20101231    풍림산업  29044164067.0  -91069640922.0  -74624076085.0   \n",
       "\n",
       "             자본총계             자산총계             부채총계            유동부채  \\\n",
       "0   61279687814.0   194206670604.0   132926982790.0  113985044750.0   \n",
       "1   72211501426.0   179481870466.0   107270369040.0   85302556870.0   \n",
       "2   95296464290.0   208619609146.0   113323144856.0  106984768096.0   \n",
       "3   77745475250.0   179399062436.0   101653587186.0   95049265962.0   \n",
       "4  152837431616.0  1374255960342.0  1221418528726.0  752955724323.0   \n",
       "5  185149189773.0  1188801152279.0  1003651962506.0  954388334556.0   \n",
       "\n",
       "             유동자산           재고자산  \n",
       "0  100969321003.0  37436698391.0  \n",
       "1   99806911954.0  33343253080.0  \n",
       "2  120559651206.0  66618482419.0  \n",
       "3   94315952312.0  55218399050.0  \n",
       "4  919718310569.0  30002292372.0  \n",
       "5  771447482160.0  34818379461.0  "
      ]
     },
     "execution_count": 13,
     "metadata": {},
     "output_type": "execute_result"
    }
   ],
   "source": [
    "pd.merge(cis_a, bs_a, on=['date','company'])"
   ]
  },
  {
   "cell_type": "code",
   "execution_count": 55,
   "metadata": {
    "collapsed": false,
    "jupyter": {
     "outputs_hidden": false
    },
    "pycharm": {
     "name": "#%%\n"
    }
   },
   "outputs": [
    {
     "data": {
      "text/html": [
       "<div>\n",
       "<style scoped>\n",
       "    .dataframe tbody tr th:only-of-type {\n",
       "        vertical-align: middle;\n",
       "    }\n",
       "\n",
       "    .dataframe tbody tr th {\n",
       "        vertical-align: top;\n",
       "    }\n",
       "\n",
       "    .dataframe thead th {\n",
       "        text-align: right;\n",
       "    }\n",
       "</style>\n",
       "<table border=\"1\" class=\"dataframe\">\n",
       "  <thead>\n",
       "    <tr style=\"text-align: right;\">\n",
       "      <th></th>\n",
       "      <th>date</th>\n",
       "      <th>label_ko</th>\n",
       "      <th>수익</th>\n",
       "      <th>국내공사수입</th>\n",
       "      <th>해외공사수입</th>\n",
       "      <th>임대수입</th>\n",
       "      <th>제품매출수입</th>\n",
       "      <th>기타매출수입</th>\n",
       "      <th>분양매출수입</th>\n",
       "      <th>매출원가</th>\n",
       "      <th>...</th>\n",
       "      <th>기타포괄손익</th>\n",
       "      <th>해외사업환산손익</th>\n",
       "      <th>매도가능금융자산평가손익</th>\n",
       "      <th>보험수리적손익</th>\n",
       "      <th>총포괄손익</th>\n",
       "      <th>포괄손익, 지배기업의 소유주에게 귀속되는 지분</th>\n",
       "      <th>포괄손익, 비지배지분</th>\n",
       "      <th>기본주당이익(손실)</th>\n",
       "      <th>희석주당이익(손실)</th>\n",
       "      <th>company</th>\n",
       "    </tr>\n",
       "  </thead>\n",
       "  <tbody>\n",
       "    <tr>\n",
       "      <th>0</th>\n",
       "      <td>0</td>\n",
       "      <td>20110101-20111231</td>\n",
       "      <td>수익</td>\n",
       "      <td>국내공사수입</td>\n",
       "      <td>해외공사수입</td>\n",
       "      <td>임대수입</td>\n",
       "      <td>제품매출수입</td>\n",
       "      <td>기타매출수입</td>\n",
       "      <td>분양매출수입</td>\n",
       "      <td>매출원가</td>\n",
       "      <td>...</td>\n",
       "      <td>기타포괄손익</td>\n",
       "      <td>해외사업환산손익</td>\n",
       "      <td>매도가능금융자산평가손익</td>\n",
       "      <td>보험수리적손익</td>\n",
       "      <td>총포괄손익</td>\n",
       "      <td>포괄손익, 지배기업의 소유주에게 귀속되는 지분</td>\n",
       "      <td>포괄손익, 비지배지분</td>\n",
       "      <td>기본주당이익(손실)</td>\n",
       "      <td>희석주당이익(손실)</td>\n",
       "      <td>풍림산업</td>\n",
       "    </tr>\n",
       "    <tr>\n",
       "      <th>1</th>\n",
       "      <td>1</td>\n",
       "      <td>20100101-20101231</td>\n",
       "      <td>1040133868537.0</td>\n",
       "      <td>998594426801.0</td>\n",
       "      <td>5139959955.0</td>\n",
       "      <td>5044777566.0</td>\n",
       "      <td>16346058014.0</td>\n",
       "      <td>14988123813.0</td>\n",
       "      <td>20522388.0</td>\n",
       "      <td>1038061167643.0</td>\n",
       "      <td>...</td>\n",
       "      <td>3540805607.0</td>\n",
       "      <td>2240108630.0</td>\n",
       "      <td>1786556576.0</td>\n",
       "      <td>-485859599.0</td>\n",
       "      <td>-32311758157.0</td>\n",
       "      <td>-32311758157.0</td>\n",
       "      <td>NaN</td>\n",
       "      <td>-2021.0</td>\n",
       "      <td>-2021.0</td>\n",
       "      <td>풍림산업</td>\n",
       "    </tr>\n",
       "    <tr>\n",
       "      <th>2</th>\n",
       "      <td>2</td>\n",
       "      <td>('연결재무제표',)</td>\n",
       "      <td>1115226030432.0</td>\n",
       "      <td>1064823068372.0</td>\n",
       "      <td>10889326571.0</td>\n",
       "      <td>4976794251.0</td>\n",
       "      <td>23829611248.0</td>\n",
       "      <td>10707229990.0</td>\n",
       "      <td>0.0</td>\n",
       "      <td>1086181866365.0</td>\n",
       "      <td>...</td>\n",
       "      <td>-1470609662.0</td>\n",
       "      <td>-628693573.0</td>\n",
       "      <td>-844092501.0</td>\n",
       "      <td>2176412.0</td>\n",
       "      <td>-76094685747.0</td>\n",
       "      <td>-76094685747.0</td>\n",
       "      <td>NaN</td>\n",
       "      <td>-4207.0</td>\n",
       "      <td>-4207.0</td>\n",
       "      <td>풍림산업</td>\n",
       "    </tr>\n",
       "  </tbody>\n",
       "</table>\n",
       "<p>3 rows × 39 columns</p>\n",
       "</div>"
      ],
      "text/plain": [
       "   date           label_ko               수익           국내공사수입         해외공사수입  \\\n",
       "0     0  20110101-20111231               수익           국내공사수입         해외공사수입   \n",
       "1     1  20100101-20101231  1040133868537.0   998594426801.0   5139959955.0   \n",
       "2     2        ('연결재무제표',)  1115226030432.0  1064823068372.0  10889326571.0   \n",
       "\n",
       "           임대수입         제품매출수입         기타매출수입      분양매출수입             매출원가  \\\n",
       "0          임대수입         제품매출수입         기타매출수입      분양매출수입             매출원가   \n",
       "1  5044777566.0  16346058014.0  14988123813.0  20522388.0  1038061167643.0   \n",
       "2  4976794251.0  23829611248.0  10707229990.0         0.0  1086181866365.0   \n",
       "\n",
       "   ...         기타포괄손익      해외사업환산손익  매도가능금융자산평가손익       보험수리적손익  \\\n",
       "0  ...         기타포괄손익      해외사업환산손익  매도가능금융자산평가손익       보험수리적손익   \n",
       "1  ...   3540805607.0  2240108630.0  1786556576.0  -485859599.0   \n",
       "2  ...  -1470609662.0  -628693573.0  -844092501.0     2176412.0   \n",
       "\n",
       "            총포괄손익  포괄손익, 지배기업의 소유주에게 귀속되는 지분  포괄손익, 비지배지분  기본주당이익(손실)  \\\n",
       "0           총포괄손익  포괄손익, 지배기업의 소유주에게 귀속되는 지분  포괄손익, 비지배지분  기본주당이익(손실)   \n",
       "1  -32311758157.0             -32311758157.0          NaN     -2021.0   \n",
       "2  -76094685747.0             -76094685747.0          NaN     -4207.0   \n",
       "\n",
       "   희석주당이익(손실) company  \n",
       "0  희석주당이익(손실)    풍림산업  \n",
       "1     -2021.0    풍림산업  \n",
       "2     -4207.0    풍림산업  \n",
       "\n",
       "[3 rows x 39 columns]"
      ]
     },
     "execution_count": 55,
     "metadata": {},
     "output_type": "execute_result"
    }
   ],
   "source": [
    "df_cis_1\n",
    "df_cis_1"
   ]
  },
  {
   "cell_type": "code",
   "execution_count": 12,
   "metadata": {},
   "outputs": [],
   "source": [
    "var_1_dic = {'자본총계': 4, '자산총계': 4, '매입채무': 13, '매출채권': 13, '부채총계': 4, '유동부채': 4, '유동자산': 4, '재고자산': 4}\n",
    "var_2_dic = {'매출총이익': 5, '법인세비용차감': 15, '당기순이익': 10}\n",
    "var_2_dic = {'date':4, '매출총이익': 5, '법인세비용차감': 15, '당기순이익': 10,\n",
    "         'company': 7}\n",
    "\n",
    "cis_a = pd.DataFrame(0, index= np.arange(15), columns=['date', '매출총이익', '법인세비용차감전순이익', '당기순이익'])\n",
    "\n",
    "file_list1 = os.listdir(FOLDER_PATH +'재무상태표/')\n",
    "file_list2 = os.listdir(FOLDER_PATH +'포괄손익계산서/')\n",
    "\n",
    "count = 0"
   ]
  },
  {
   "cell_type": "code",
   "execution_count": 13,
   "metadata": {},
   "outputs": [
    {
     "data": {
      "text/plain": [
       "['금강제강 포괄손익계산서 원본.csv', '배명금속 포괄손익계산서 원본.csv', '풍림산업 포괄손익계산서 원본.csv']"
      ]
     },
     "execution_count": 13,
     "metadata": {},
     "output_type": "execute_result"
    }
   ],
   "source": [
    "file_list2"
   ]
  },
  {
   "cell_type": "code",
   "execution_count": 14,
   "metadata": {},
   "outputs": [
    {
     "data": {
      "text/html": [
       "<div>\n",
       "<style scoped>\n",
       "    .dataframe tbody tr th:only-of-type {\n",
       "        vertical-align: middle;\n",
       "    }\n",
       "\n",
       "    .dataframe tbody tr th {\n",
       "        vertical-align: top;\n",
       "    }\n",
       "\n",
       "    .dataframe thead th {\n",
       "        text-align: right;\n",
       "    }\n",
       "</style>\n",
       "<table border=\"1\" class=\"dataframe\">\n",
       "  <thead>\n",
       "    <tr style=\"text-align: right;\">\n",
       "      <th></th>\n",
       "      <th>date</th>\n",
       "      <th>매출총이익</th>\n",
       "      <th>법인세비용차감전순이익</th>\n",
       "      <th>당기순이익</th>\n",
       "    </tr>\n",
       "  </thead>\n",
       "  <tbody>\n",
       "    <tr>\n",
       "      <th>0</th>\n",
       "      <td>0</td>\n",
       "      <td>0</td>\n",
       "      <td>0</td>\n",
       "      <td>0</td>\n",
       "    </tr>\n",
       "    <tr>\n",
       "      <th>1</th>\n",
       "      <td>0</td>\n",
       "      <td>0</td>\n",
       "      <td>0</td>\n",
       "      <td>0</td>\n",
       "    </tr>\n",
       "    <tr>\n",
       "      <th>2</th>\n",
       "      <td>0</td>\n",
       "      <td>0</td>\n",
       "      <td>0</td>\n",
       "      <td>0</td>\n",
       "    </tr>\n",
       "    <tr>\n",
       "      <th>3</th>\n",
       "      <td>0</td>\n",
       "      <td>0</td>\n",
       "      <td>0</td>\n",
       "      <td>0</td>\n",
       "    </tr>\n",
       "    <tr>\n",
       "      <th>4</th>\n",
       "      <td>0</td>\n",
       "      <td>0</td>\n",
       "      <td>0</td>\n",
       "      <td>0</td>\n",
       "    </tr>\n",
       "    <tr>\n",
       "      <th>5</th>\n",
       "      <td>0</td>\n",
       "      <td>0</td>\n",
       "      <td>0</td>\n",
       "      <td>0</td>\n",
       "    </tr>\n",
       "    <tr>\n",
       "      <th>6</th>\n",
       "      <td>0</td>\n",
       "      <td>0</td>\n",
       "      <td>0</td>\n",
       "      <td>0</td>\n",
       "    </tr>\n",
       "    <tr>\n",
       "      <th>7</th>\n",
       "      <td>0</td>\n",
       "      <td>0</td>\n",
       "      <td>0</td>\n",
       "      <td>0</td>\n",
       "    </tr>\n",
       "    <tr>\n",
       "      <th>8</th>\n",
       "      <td>0</td>\n",
       "      <td>0</td>\n",
       "      <td>0</td>\n",
       "      <td>0</td>\n",
       "    </tr>\n",
       "    <tr>\n",
       "      <th>9</th>\n",
       "      <td>0</td>\n",
       "      <td>0</td>\n",
       "      <td>0</td>\n",
       "      <td>0</td>\n",
       "    </tr>\n",
       "    <tr>\n",
       "      <th>10</th>\n",
       "      <td>0</td>\n",
       "      <td>0</td>\n",
       "      <td>0</td>\n",
       "      <td>0</td>\n",
       "    </tr>\n",
       "    <tr>\n",
       "      <th>11</th>\n",
       "      <td>0</td>\n",
       "      <td>0</td>\n",
       "      <td>0</td>\n",
       "      <td>0</td>\n",
       "    </tr>\n",
       "    <tr>\n",
       "      <th>12</th>\n",
       "      <td>0</td>\n",
       "      <td>0</td>\n",
       "      <td>0</td>\n",
       "      <td>0</td>\n",
       "    </tr>\n",
       "    <tr>\n",
       "      <th>13</th>\n",
       "      <td>0</td>\n",
       "      <td>0</td>\n",
       "      <td>0</td>\n",
       "      <td>0</td>\n",
       "    </tr>\n",
       "    <tr>\n",
       "      <th>14</th>\n",
       "      <td>0</td>\n",
       "      <td>0</td>\n",
       "      <td>0</td>\n",
       "      <td>0</td>\n",
       "    </tr>\n",
       "  </tbody>\n",
       "</table>\n",
       "</div>"
      ],
      "text/plain": [
       "    date  매출총이익  법인세비용차감전순이익  당기순이익\n",
       "0      0      0            0      0\n",
       "1      0      0            0      0\n",
       "2      0      0            0      0\n",
       "3      0      0            0      0\n",
       "4      0      0            0      0\n",
       "5      0      0            0      0\n",
       "6      0      0            0      0\n",
       "7      0      0            0      0\n",
       "8      0      0            0      0\n",
       "9      0      0            0      0\n",
       "10     0      0            0      0\n",
       "11     0      0            0      0\n",
       "12     0      0            0      0\n",
       "13     0      0            0      0\n",
       "14     0      0            0      0"
      ]
     },
     "execution_count": 14,
     "metadata": {},
     "output_type": "execute_result"
    }
   ],
   "source": [
    "cis_a"
   ]
  },
  {
   "cell_type": "code",
   "execution_count": 15,
   "metadata": {},
   "outputs": [
    {
     "ename": "NameError",
     "evalue": "name 'cmp_list2' is not defined",
     "output_type": "error",
     "traceback": [
      "\u001B[1;31m---------------------------------------------------------------------------\u001B[0m",
      "\u001B[1;31mNameError\u001B[0m                                 Traceback (most recent call last)",
      "\u001B[1;32m<ipython-input-15-c51c1b0ba231>\u001B[0m in \u001B[0;36m<module>\u001B[1;34m\u001B[0m\n\u001B[0;32m      1\u001B[0m \u001B[0mdf\u001B[0m \u001B[1;33m=\u001B[0m \u001B[0mcompany_prerocessing\u001B[0m\u001B[1;33m.\u001B[0m\u001B[0mopen_df\u001B[0m\u001B[1;33m(\u001B[0m\u001B[0mos\u001B[0m\u001B[1;33m.\u001B[0m\u001B[0mpath\u001B[0m\u001B[1;33m.\u001B[0m\u001B[0mjoin\u001B[0m\u001B[1;33m(\u001B[0m\u001B[0mFOLDER_PATH\u001B[0m \u001B[1;33m+\u001B[0m \u001B[1;34m'포괄손익계산서/'\u001B[0m \u001B[1;33m+\u001B[0m \u001B[0mfile_list2\u001B[0m\u001B[1;33m[\u001B[0m\u001B[1;36m0\u001B[0m\u001B[1;33m]\u001B[0m\u001B[1;33m)\u001B[0m\u001B[1;33m)\u001B[0m\u001B[1;33m\u001B[0m\u001B[1;33m\u001B[0m\u001B[0m\n\u001B[1;32m----> 2\u001B[1;33m \u001B[0mdf_cis_1\u001B[0m \u001B[1;33m=\u001B[0m \u001B[0mcompany_prerocessing\u001B[0m\u001B[1;33m.\u001B[0m\u001B[0mcis_preprocessing\u001B[0m\u001B[1;33m(\u001B[0m\u001B[0mdf\u001B[0m\u001B[1;33m,\u001B[0m \u001B[0mcmp_list2\u001B[0m\u001B[1;33m[\u001B[0m\u001B[1;33m:\u001B[0m\u001B[1;33m-\u001B[0m\u001B[1;36m15\u001B[0m\u001B[1;33m]\u001B[0m\u001B[1;33m)\u001B[0m\u001B[1;33m\u001B[0m\u001B[1;33m\u001B[0m\u001B[0m\n\u001B[0m\u001B[0;32m      3\u001B[0m \u001B[1;33m\u001B[0m\u001B[0m\n\u001B[0;32m      4\u001B[0m \u001B[1;32mfor\u001B[0m \u001B[0mvar2\u001B[0m\u001B[1;33m,\u001B[0m \u001B[0mvar2_\u001B[0m \u001B[1;32min\u001B[0m \u001B[0mvar_2_dic\u001B[0m\u001B[1;33m.\u001B[0m\u001B[0mitems\u001B[0m\u001B[1;33m(\u001B[0m\u001B[1;33m)\u001B[0m\u001B[1;33m:\u001B[0m\u001B[1;33m\u001B[0m\u001B[1;33m\u001B[0m\u001B[0m\n\u001B[0;32m      5\u001B[0m     \u001B[1;32mfor\u001B[0m \u001B[0mcis\u001B[0m \u001B[1;32min\u001B[0m \u001B[0mdf_cis_1\u001B[0m\u001B[1;33m.\u001B[0m\u001B[0mcolumns\u001B[0m\u001B[1;33m:\u001B[0m\u001B[1;33m\u001B[0m\u001B[1;33m\u001B[0m\u001B[0m\n",
      "\u001B[1;31mNameError\u001B[0m: name 'cmp_list2' is not defined"
     ]
    }
   ],
   "source": [
    "df = company_prerocessing.open_df(os.path.join(FOLDER_PATH + '포괄손익계산서/' + file_list2[0]))\n",
    "df_cis_1 = company_prerocessing.cis_preprocessing(df, cmp_list2[:-15])\n",
    "\n",
    "for var2, var2_ in var_2_dic.items():\n",
    "    for cis in df_cis_1.columns:\n",
    "        if var2 in cis:\n",
    "            if var2_ >= len(cis):\n",
    "                print(cis)\n",
    "                cis_a.iloc[0][count] = df_cis_1[cis]\n",
    "                count += 1"
   ]
  },
  {
   "cell_type": "code",
   "execution_count": 15,
   "metadata": {},
   "outputs": [],
   "source": []
  },
  {
   "cell_type": "code",
   "execution_count": 16,
   "metadata": {},
   "outputs": [
    {
     "ename": "KeyError",
     "evalue": "\"['level_0'] not found in axis\"",
     "output_type": "error",
     "traceback": [
      "\u001B[1;31m---------------------------------------------------------------------------\u001B[0m",
      "\u001B[1;31mKeyError\u001B[0m                                  Traceback (most recent call last)",
      "\u001B[1;32m<ipython-input-16-6a31d01602ba>\u001B[0m in \u001B[0;36m<module>\u001B[1;34m\u001B[0m\n\u001B[0;32m      1\u001B[0m \u001B[1;32mfor\u001B[0m \u001B[0mcmp_list2\u001B[0m \u001B[1;32min\u001B[0m \u001B[0mfile_list2\u001B[0m\u001B[1;33m:\u001B[0m\u001B[1;33m\u001B[0m\u001B[1;33m\u001B[0m\u001B[0m\n\u001B[0;32m      2\u001B[0m     \u001B[0mdf\u001B[0m \u001B[1;33m=\u001B[0m \u001B[0mcompany_prerocessing\u001B[0m\u001B[1;33m.\u001B[0m\u001B[0mopen_df\u001B[0m\u001B[1;33m(\u001B[0m\u001B[0mos\u001B[0m\u001B[1;33m.\u001B[0m\u001B[0mpath\u001B[0m\u001B[1;33m.\u001B[0m\u001B[0mjoin\u001B[0m\u001B[1;33m(\u001B[0m\u001B[0mFOLDER_PATH\u001B[0m \u001B[1;33m+\u001B[0m \u001B[1;34m'포괄손익계산서/'\u001B[0m \u001B[1;33m+\u001B[0m \u001B[0mcmp_list2\u001B[0m\u001B[1;33m)\u001B[0m\u001B[1;33m)\u001B[0m\u001B[1;33m\u001B[0m\u001B[1;33m\u001B[0m\u001B[0m\n\u001B[1;32m----> 3\u001B[1;33m     \u001B[0mdf_cis_1\u001B[0m \u001B[1;33m=\u001B[0m \u001B[0mcompany_prerocessing\u001B[0m\u001B[1;33m.\u001B[0m\u001B[0mcis_preprocessing\u001B[0m\u001B[1;33m(\u001B[0m\u001B[0mdf\u001B[0m\u001B[1;33m,\u001B[0m \u001B[0mcmp_list2\u001B[0m\u001B[1;33m[\u001B[0m\u001B[1;33m:\u001B[0m\u001B[1;33m-\u001B[0m\u001B[1;36m15\u001B[0m\u001B[1;33m]\u001B[0m\u001B[1;33m)\u001B[0m\u001B[1;33m\u001B[0m\u001B[1;33m\u001B[0m\u001B[0m\n\u001B[0m\u001B[0;32m      4\u001B[0m \u001B[1;33m\u001B[0m\u001B[0m\n\u001B[0;32m      5\u001B[0m     \u001B[1;32mfor\u001B[0m \u001B[0mvar2\u001B[0m\u001B[1;33m,\u001B[0m \u001B[0mvar2_\u001B[0m \u001B[1;32min\u001B[0m \u001B[0mvar_2_dic\u001B[0m\u001B[1;33m.\u001B[0m\u001B[0mitems\u001B[0m\u001B[1;33m(\u001B[0m\u001B[1;33m)\u001B[0m\u001B[1;33m:\u001B[0m\u001B[1;33m\u001B[0m\u001B[1;33m\u001B[0m\u001B[0m\n",
      "\u001B[1;32m<ipython-input-3-63d53b51e09b>\u001B[0m in \u001B[0;36mcis_preprocessing\u001B[1;34m(df_cis, cmp_list)\u001B[0m\n\u001B[0;32m     33\u001B[0m         \u001B[0mdf_cis_1\u001B[0m \u001B[1;33m=\u001B[0m \u001B[0mdf_cis_1\u001B[0m\u001B[1;33m.\u001B[0m\u001B[0mreset_index\u001B[0m\u001B[1;33m(\u001B[0m\u001B[1;33m)\u001B[0m\u001B[1;33m.\u001B[0m\u001B[0mrename\u001B[0m\u001B[1;33m(\u001B[0m\u001B[0mcolumns\u001B[0m\u001B[1;33m=\u001B[0m\u001B[1;33m{\u001B[0m\u001B[1;34m'index'\u001B[0m\u001B[1;33m:\u001B[0m \u001B[1;34m'date'\u001B[0m\u001B[1;33m}\u001B[0m\u001B[1;33m)\u001B[0m\u001B[1;33m\u001B[0m\u001B[1;33m\u001B[0m\u001B[0m\n\u001B[0;32m     34\u001B[0m         \u001B[1;31m# df_cis_1['date'] = df_cis_1['date'].str[9:]\u001B[0m\u001B[1;33m\u001B[0m\u001B[1;33m\u001B[0m\u001B[1;33m\u001B[0m\u001B[0m\n\u001B[1;32m---> 35\u001B[1;33m         \u001B[0mdf_cis_1\u001B[0m\u001B[1;33m.\u001B[0m\u001B[0mdrop\u001B[0m\u001B[1;33m(\u001B[0m\u001B[1;33m[\u001B[0m\u001B[1;34m'level_0'\u001B[0m\u001B[1;33m,\u001B[0m \u001B[1;34m'label_ko'\u001B[0m\u001B[1;33m]\u001B[0m\u001B[1;33m,\u001B[0m \u001B[0maxis\u001B[0m\u001B[1;33m=\u001B[0m\u001B[1;36m1\u001B[0m\u001B[1;33m,\u001B[0m \u001B[0minplace\u001B[0m\u001B[1;33m=\u001B[0m\u001B[1;32mTrue\u001B[0m\u001B[1;33m)\u001B[0m\u001B[1;33m\u001B[0m\u001B[1;33m\u001B[0m\u001B[0m\n\u001B[0m\u001B[0;32m     36\u001B[0m \u001B[1;33m\u001B[0m\u001B[0m\n\u001B[0;32m     37\u001B[0m         \u001B[0mdf_cis_1\u001B[0m\u001B[1;33m[\u001B[0m\u001B[1;34m'company'\u001B[0m\u001B[1;33m]\u001B[0m \u001B[1;33m=\u001B[0m \u001B[0mcmp_list\u001B[0m\u001B[1;33m\u001B[0m\u001B[1;33m\u001B[0m\u001B[0m\n",
      "\u001B[1;32mC:\\ProgramData\\Anaconda3\\envs\\tf2\\lib\\site-packages\\pandas\\core\\frame.py\u001B[0m in \u001B[0;36mdrop\u001B[1;34m(self, labels, axis, index, columns, level, inplace, errors)\u001B[0m\n\u001B[0;32m   3995\u001B[0m             \u001B[0mlevel\u001B[0m\u001B[1;33m=\u001B[0m\u001B[0mlevel\u001B[0m\u001B[1;33m,\u001B[0m\u001B[1;33m\u001B[0m\u001B[1;33m\u001B[0m\u001B[0m\n\u001B[0;32m   3996\u001B[0m             \u001B[0minplace\u001B[0m\u001B[1;33m=\u001B[0m\u001B[0minplace\u001B[0m\u001B[1;33m,\u001B[0m\u001B[1;33m\u001B[0m\u001B[1;33m\u001B[0m\u001B[0m\n\u001B[1;32m-> 3997\u001B[1;33m             \u001B[0merrors\u001B[0m\u001B[1;33m=\u001B[0m\u001B[0merrors\u001B[0m\u001B[1;33m,\u001B[0m\u001B[1;33m\u001B[0m\u001B[1;33m\u001B[0m\u001B[0m\n\u001B[0m\u001B[0;32m   3998\u001B[0m         )\n\u001B[0;32m   3999\u001B[0m \u001B[1;33m\u001B[0m\u001B[0m\n",
      "\u001B[1;32mC:\\ProgramData\\Anaconda3\\envs\\tf2\\lib\\site-packages\\pandas\\core\\generic.py\u001B[0m in \u001B[0;36mdrop\u001B[1;34m(self, labels, axis, index, columns, level, inplace, errors)\u001B[0m\n\u001B[0;32m   3934\u001B[0m         \u001B[1;32mfor\u001B[0m \u001B[0maxis\u001B[0m\u001B[1;33m,\u001B[0m \u001B[0mlabels\u001B[0m \u001B[1;32min\u001B[0m \u001B[0maxes\u001B[0m\u001B[1;33m.\u001B[0m\u001B[0mitems\u001B[0m\u001B[1;33m(\u001B[0m\u001B[1;33m)\u001B[0m\u001B[1;33m:\u001B[0m\u001B[1;33m\u001B[0m\u001B[1;33m\u001B[0m\u001B[0m\n\u001B[0;32m   3935\u001B[0m             \u001B[1;32mif\u001B[0m \u001B[0mlabels\u001B[0m \u001B[1;32mis\u001B[0m \u001B[1;32mnot\u001B[0m \u001B[1;32mNone\u001B[0m\u001B[1;33m:\u001B[0m\u001B[1;33m\u001B[0m\u001B[1;33m\u001B[0m\u001B[0m\n\u001B[1;32m-> 3936\u001B[1;33m                 \u001B[0mobj\u001B[0m \u001B[1;33m=\u001B[0m \u001B[0mobj\u001B[0m\u001B[1;33m.\u001B[0m\u001B[0m_drop_axis\u001B[0m\u001B[1;33m(\u001B[0m\u001B[0mlabels\u001B[0m\u001B[1;33m,\u001B[0m \u001B[0maxis\u001B[0m\u001B[1;33m,\u001B[0m \u001B[0mlevel\u001B[0m\u001B[1;33m=\u001B[0m\u001B[0mlevel\u001B[0m\u001B[1;33m,\u001B[0m \u001B[0merrors\u001B[0m\u001B[1;33m=\u001B[0m\u001B[0merrors\u001B[0m\u001B[1;33m)\u001B[0m\u001B[1;33m\u001B[0m\u001B[1;33m\u001B[0m\u001B[0m\n\u001B[0m\u001B[0;32m   3937\u001B[0m \u001B[1;33m\u001B[0m\u001B[0m\n\u001B[0;32m   3938\u001B[0m         \u001B[1;32mif\u001B[0m \u001B[0minplace\u001B[0m\u001B[1;33m:\u001B[0m\u001B[1;33m\u001B[0m\u001B[1;33m\u001B[0m\u001B[0m\n",
      "\u001B[1;32mC:\\ProgramData\\Anaconda3\\envs\\tf2\\lib\\site-packages\\pandas\\core\\generic.py\u001B[0m in \u001B[0;36m_drop_axis\u001B[1;34m(self, labels, axis, level, errors)\u001B[0m\n\u001B[0;32m   3968\u001B[0m                 \u001B[0mnew_axis\u001B[0m \u001B[1;33m=\u001B[0m \u001B[0maxis\u001B[0m\u001B[1;33m.\u001B[0m\u001B[0mdrop\u001B[0m\u001B[1;33m(\u001B[0m\u001B[0mlabels\u001B[0m\u001B[1;33m,\u001B[0m \u001B[0mlevel\u001B[0m\u001B[1;33m=\u001B[0m\u001B[0mlevel\u001B[0m\u001B[1;33m,\u001B[0m \u001B[0merrors\u001B[0m\u001B[1;33m=\u001B[0m\u001B[0merrors\u001B[0m\u001B[1;33m)\u001B[0m\u001B[1;33m\u001B[0m\u001B[1;33m\u001B[0m\u001B[0m\n\u001B[0;32m   3969\u001B[0m             \u001B[1;32melse\u001B[0m\u001B[1;33m:\u001B[0m\u001B[1;33m\u001B[0m\u001B[1;33m\u001B[0m\u001B[0m\n\u001B[1;32m-> 3970\u001B[1;33m                 \u001B[0mnew_axis\u001B[0m \u001B[1;33m=\u001B[0m \u001B[0maxis\u001B[0m\u001B[1;33m.\u001B[0m\u001B[0mdrop\u001B[0m\u001B[1;33m(\u001B[0m\u001B[0mlabels\u001B[0m\u001B[1;33m,\u001B[0m \u001B[0merrors\u001B[0m\u001B[1;33m=\u001B[0m\u001B[0merrors\u001B[0m\u001B[1;33m)\u001B[0m\u001B[1;33m\u001B[0m\u001B[1;33m\u001B[0m\u001B[0m\n\u001B[0m\u001B[0;32m   3971\u001B[0m             \u001B[0mresult\u001B[0m \u001B[1;33m=\u001B[0m \u001B[0mself\u001B[0m\u001B[1;33m.\u001B[0m\u001B[0mreindex\u001B[0m\u001B[1;33m(\u001B[0m\u001B[1;33m**\u001B[0m\u001B[1;33m{\u001B[0m\u001B[0maxis_name\u001B[0m\u001B[1;33m:\u001B[0m \u001B[0mnew_axis\u001B[0m\u001B[1;33m}\u001B[0m\u001B[1;33m)\u001B[0m\u001B[1;33m\u001B[0m\u001B[1;33m\u001B[0m\u001B[0m\n\u001B[0;32m   3972\u001B[0m \u001B[1;33m\u001B[0m\u001B[0m\n",
      "\u001B[1;32mC:\\ProgramData\\Anaconda3\\envs\\tf2\\lib\\site-packages\\pandas\\core\\indexes\\base.py\u001B[0m in \u001B[0;36mdrop\u001B[1;34m(self, labels, errors)\u001B[0m\n\u001B[0;32m   5016\u001B[0m         \u001B[1;32mif\u001B[0m \u001B[0mmask\u001B[0m\u001B[1;33m.\u001B[0m\u001B[0many\u001B[0m\u001B[1;33m(\u001B[0m\u001B[1;33m)\u001B[0m\u001B[1;33m:\u001B[0m\u001B[1;33m\u001B[0m\u001B[1;33m\u001B[0m\u001B[0m\n\u001B[0;32m   5017\u001B[0m             \u001B[1;32mif\u001B[0m \u001B[0merrors\u001B[0m \u001B[1;33m!=\u001B[0m \u001B[1;34m\"ignore\"\u001B[0m\u001B[1;33m:\u001B[0m\u001B[1;33m\u001B[0m\u001B[1;33m\u001B[0m\u001B[0m\n\u001B[1;32m-> 5018\u001B[1;33m                 \u001B[1;32mraise\u001B[0m \u001B[0mKeyError\u001B[0m\u001B[1;33m(\u001B[0m\u001B[1;34mf\"{labels[mask]} not found in axis\"\u001B[0m\u001B[1;33m)\u001B[0m\u001B[1;33m\u001B[0m\u001B[1;33m\u001B[0m\u001B[0m\n\u001B[0m\u001B[0;32m   5019\u001B[0m             \u001B[0mindexer\u001B[0m \u001B[1;33m=\u001B[0m \u001B[0mindexer\u001B[0m\u001B[1;33m[\u001B[0m\u001B[1;33m~\u001B[0m\u001B[0mmask\u001B[0m\u001B[1;33m]\u001B[0m\u001B[1;33m\u001B[0m\u001B[1;33m\u001B[0m\u001B[0m\n\u001B[0;32m   5020\u001B[0m         \u001B[1;32mreturn\u001B[0m \u001B[0mself\u001B[0m\u001B[1;33m.\u001B[0m\u001B[0mdelete\u001B[0m\u001B[1;33m(\u001B[0m\u001B[0mindexer\u001B[0m\u001B[1;33m)\u001B[0m\u001B[1;33m\u001B[0m\u001B[1;33m\u001B[0m\u001B[0m\n",
      "\u001B[1;31mKeyError\u001B[0m: \"['level_0'] not found in axis\""
     ]
    }
   ],
   "source": [
    "for cmp_list2 in file_list2:\n",
    "    df = company_prerocessing.open_df(os.path.join(FOLDER_PATH + '포괄손익계산서/' + cmp_list2))\n",
    "    df_cis_1 = company_prerocessing.cis_preprocessing(df, cmp_list2[:-15])\n",
    "        \n",
    "    for var2, var2_ in var_2_dic.items():\n",
    "        for cis in df_cis_1.columns:\n",
    "            if var2 in cis:\n",
    "                if var2_ >= len(cis):\n",
    "                    print(cis)\n",
    "                    cis_a.iloc[:, count] = df_cis_1[cis]\n",
    "                    count += 1"
   ]
  },
  {
   "cell_type": "code",
   "execution_count": null,
   "metadata": {},
   "outputs": [],
   "source": []
  },
  {
   "cell_type": "code",
   "execution_count": 56,
   "metadata": {},
   "outputs": [
    {
     "ename": "NameError",
     "evalue": "name 'file_list' is not defined",
     "output_type": "error",
     "traceback": [
      "\u001B[1;31m---------------------------------------------------------------------------\u001B[0m",
      "\u001B[1;31mNameError\u001B[0m                                 Traceback (most recent call last)",
      "\u001B[1;32m<ipython-input-56-e345666a95c4>\u001B[0m in \u001B[0;36m<module>\u001B[1;34m\u001B[0m\n\u001B[1;32m----> 1\u001B[1;33m \u001B[0mos\u001B[0m\u001B[1;33m.\u001B[0m\u001B[0mpath\u001B[0m\u001B[1;33m.\u001B[0m\u001B[0mjoin\u001B[0m\u001B[1;33m(\u001B[0m\u001B[0mFOLDER_PATH\u001B[0m \u001B[1;33m,\u001B[0m \u001B[0mfile_list\u001B[0m\u001B[1;33m[\u001B[0m\u001B[1;36m0\u001B[0m\u001B[1;33m]\u001B[0m\u001B[1;33m)\u001B[0m\u001B[1;33m\u001B[0m\u001B[1;33m\u001B[0m\u001B[0m\n\u001B[0m",
      "\u001B[1;31mNameError\u001B[0m: name 'file_list' is not defined"
     ]
    }
   ],
   "source": [
    "os.path.join(FOLDER_PATH , file_list[0])"
   ]
  },
  {
   "cell_type": "code",
   "execution_count": null,
   "metadata": {},
   "outputs": [],
   "source": [
    "file_list[0]"
   ]
  },
  {
   "cell_type": "code",
   "execution_count": 119,
   "metadata": {},
   "outputs": [],
   "source": [
    "df_cis = company_prerocessing.open_df(os.path.join(FOLDER_PATH +'포괄손익계산서/'+file_list2[1]))"
   ]
  },
  {
   "cell_type": "code",
   "execution_count": 120,
   "metadata": {},
   "outputs": [
    {
     "data": {
      "text/html": [
       "<div>\n",
       "<style scoped>\n",
       "    .dataframe tbody tr th:only-of-type {\n",
       "        vertical-align: middle;\n",
       "    }\n",
       "\n",
       "    .dataframe tbody tr th {\n",
       "        vertical-align: top;\n",
       "    }\n",
       "\n",
       "    .dataframe thead th {\n",
       "        text-align: right;\n",
       "    }\n",
       "</style>\n",
       "<table border=\"1\" class=\"dataframe\">\n",
       "  <thead>\n",
       "    <tr style=\"text-align: right;\">\n",
       "      <th></th>\n",
       "      <th>[D431410] Statement of comprehensive income, by function of expense - Consolidated financial statements (Unit: KRW)</th>\n",
       "      <th>[D431410] Statement of comprehensive income, by function of expense - Consolidated financial statements (Unit: KRW).1</th>\n",
       "      <th>[D431410] Statement of comprehensive income, by function of expense - Consolidated financial statements (Unit: KRW).2</th>\n",
       "      <th>[D431410] Statement of comprehensive income, by function of expense - Consolidated financial statements (Unit: KRW).3</th>\n",
       "      <th>[D431410] Statement of comprehensive income, by function of expense - Consolidated financial statements (Unit: KRW).4</th>\n",
       "      <th>[D431410] Statement of comprehensive income, by function of expense - Consolidated financial statements (Unit: KRW).5</th>\n",
       "      <th>20110101-20111231</th>\n",
       "      <th>20100101-20101231</th>\n",
       "    </tr>\n",
       "  </thead>\n",
       "  <tbody>\n",
       "    <tr>\n",
       "      <th>0</th>\n",
       "      <td>concept_id</td>\n",
       "      <td>label_ko</td>\n",
       "      <td>label_en</td>\n",
       "      <td>class0</td>\n",
       "      <td>class1</td>\n",
       "      <td>class2</td>\n",
       "      <td>('연결재무제표',)</td>\n",
       "      <td>('연결재무제표',)</td>\n",
       "    </tr>\n",
       "    <tr>\n",
       "      <th>1</th>\n",
       "      <td>ifrs_Revenue</td>\n",
       "      <td>수익</td>\n",
       "      <td>Revenue(Sales)</td>\n",
       "      <td>포괄손익계산서 [abstract]</td>\n",
       "      <td>수익</td>\n",
       "      <td>NaN</td>\n",
       "      <td>81567060964.0</td>\n",
       "      <td>102325981917.0</td>\n",
       "    </tr>\n",
       "    <tr>\n",
       "      <th>2</th>\n",
       "      <td>ifrs_CostOfSales</td>\n",
       "      <td>매출원가</td>\n",
       "      <td>Cost of sales</td>\n",
       "      <td>포괄손익계산서 [abstract]</td>\n",
       "      <td>매출원가</td>\n",
       "      <td>NaN</td>\n",
       "      <td>73056723918.0</td>\n",
       "      <td>94625046499.0</td>\n",
       "    </tr>\n",
       "    <tr>\n",
       "      <th>3</th>\n",
       "      <td>ifrs_GrossProfit</td>\n",
       "      <td>매출총이익</td>\n",
       "      <td>Gross profit</td>\n",
       "      <td>포괄손익계산서 [abstract]</td>\n",
       "      <td>매출총이익</td>\n",
       "      <td>NaN</td>\n",
       "      <td>8510337046.0</td>\n",
       "      <td>7700935418.0</td>\n",
       "    </tr>\n",
       "    <tr>\n",
       "      <th>4</th>\n",
       "      <td>dart_TotalSellingGeneralAdministrativeExpenses</td>\n",
       "      <td>판매비와관리비</td>\n",
       "      <td>Selling general administrative expenses       ...</td>\n",
       "      <td>포괄손익계산서 [abstract]</td>\n",
       "      <td>판매비와관리비</td>\n",
       "      <td>NaN</td>\n",
       "      <td>5065406425.0</td>\n",
       "      <td>9233609836.0</td>\n",
       "    </tr>\n",
       "  </tbody>\n",
       "</table>\n",
       "</div>"
      ],
      "text/plain": [
       "  [D431410] Statement of comprehensive income, by function of expense - Consolidated financial statements (Unit: KRW)  \\\n",
       "0                                         concept_id                                                                    \n",
       "1                                       ifrs_Revenue                                                                    \n",
       "2                                   ifrs_CostOfSales                                                                    \n",
       "3                                   ifrs_GrossProfit                                                                    \n",
       "4     dart_TotalSellingGeneralAdministrativeExpenses                                                                    \n",
       "\n",
       "  [D431410] Statement of comprehensive income, by function of expense - Consolidated financial statements (Unit: KRW).1  \\\n",
       "0                                           label_ko                                                                      \n",
       "1                                                 수익                                                                      \n",
       "2                                               매출원가                                                                      \n",
       "3                                              매출총이익                                                                      \n",
       "4                                            판매비와관리비                                                                      \n",
       "\n",
       "  [D431410] Statement of comprehensive income, by function of expense - Consolidated financial statements (Unit: KRW).2  \\\n",
       "0                                           label_en                                                                      \n",
       "1                                     Revenue(Sales)                                                                      \n",
       "2                                      Cost of sales                                                                      \n",
       "3                                       Gross profit                                                                      \n",
       "4  Selling general administrative expenses       ...                                                                      \n",
       "\n",
       "  [D431410] Statement of comprehensive income, by function of expense - Consolidated financial statements (Unit: KRW).3  \\\n",
       "0                                             class0                                                                      \n",
       "1                                 포괄손익계산서 [abstract]                                                                      \n",
       "2                                 포괄손익계산서 [abstract]                                                                      \n",
       "3                                 포괄손익계산서 [abstract]                                                                      \n",
       "4                                 포괄손익계산서 [abstract]                                                                      \n",
       "\n",
       "  [D431410] Statement of comprehensive income, by function of expense - Consolidated financial statements (Unit: KRW).4  \\\n",
       "0                                             class1                                                                      \n",
       "1                                                 수익                                                                      \n",
       "2                                               매출원가                                                                      \n",
       "3                                              매출총이익                                                                      \n",
       "4                                            판매비와관리비                                                                      \n",
       "\n",
       "  [D431410] Statement of comprehensive income, by function of expense - Consolidated financial statements (Unit: KRW).5  \\\n",
       "0                                             class2                                                                      \n",
       "1                                                NaN                                                                      \n",
       "2                                                NaN                                                                      \n",
       "3                                                NaN                                                                      \n",
       "4                                                NaN                                                                      \n",
       "\n",
       "  20110101-20111231 20100101-20101231  \n",
       "0       ('연결재무제표',)       ('연결재무제표',)  \n",
       "1     81567060964.0    102325981917.0  \n",
       "2     73056723918.0     94625046499.0  \n",
       "3      8510337046.0      7700935418.0  \n",
       "4      5065406425.0      9233609836.0  "
      ]
     },
     "execution_count": 120,
     "metadata": {},
     "output_type": "execute_result"
    }
   ],
   "source": [
    "df_cis.head()"
   ]
  },
  {
   "cell_type": "code",
   "execution_count": 135,
   "metadata": {},
   "outputs": [
    {
     "data": {
      "text/html": [
       "<div>\n",
       "<style scoped>\n",
       "    .dataframe tbody tr th:only-of-type {\n",
       "        vertical-align: middle;\n",
       "    }\n",
       "\n",
       "    .dataframe tbody tr th {\n",
       "        vertical-align: top;\n",
       "    }\n",
       "\n",
       "    .dataframe thead th {\n",
       "        text-align: right;\n",
       "    }\n",
       "</style>\n",
       "<table border=\"1\" class=\"dataframe\">\n",
       "  <thead>\n",
       "    <tr style=\"text-align: right;\">\n",
       "      <th></th>\n",
       "      <th>수익</th>\n",
       "      <th>매출원가</th>\n",
       "      <th>매출총이익</th>\n",
       "      <th>판매비와관리비</th>\n",
       "      <th>영업이익(손실)</th>\n",
       "      <th>기타수익</th>\n",
       "      <th>기타비용</th>\n",
       "      <th>금융수익</th>\n",
       "      <th>금융원가</th>\n",
       "      <th>법인세비용차감전순이익(손실)</th>\n",
       "      <th>...</th>\n",
       "      <th>당기순이익(손실)</th>\n",
       "      <th>지배기업의 소유주에게 귀속되는 당기순이익(손실)</th>\n",
       "      <th>비지배지분에 귀속되는 당기순이익(손실)</th>\n",
       "      <th>연결기타포괄손익</th>\n",
       "      <th>해외사업환산손익</th>\n",
       "      <th>보험수리적손익</th>\n",
       "      <th>연결당기총포괄이익</th>\n",
       "      <th>포괄손익, 지배기업의 소유주에게 귀속되는 지분</th>\n",
       "      <th>포괄손익, 비지배지분</th>\n",
       "      <th>기본주당이익(손실)</th>\n",
       "    </tr>\n",
       "  </thead>\n",
       "  <tbody>\n",
       "    <tr>\n",
       "      <th>20110101-20111231</th>\n",
       "      <td>81567060964.0</td>\n",
       "      <td>73056723918.0</td>\n",
       "      <td>8510337046.0</td>\n",
       "      <td>5065406425.0</td>\n",
       "      <td>3444930621.0</td>\n",
       "      <td>3330603897.0</td>\n",
       "      <td>2058192368.0</td>\n",
       "      <td>198325041.0</td>\n",
       "      <td>4539426603.0</td>\n",
       "      <td>376240588.0</td>\n",
       "      <td>...</td>\n",
       "      <td>627781200.0</td>\n",
       "      <td>627781200.0</td>\n",
       "      <td>0.0</td>\n",
       "      <td>1720221602.0</td>\n",
       "      <td>1769414358.0</td>\n",
       "      <td>-49192756.0</td>\n",
       "      <td>2348002802.0</td>\n",
       "      <td>2348002802.0</td>\n",
       "      <td>0.0</td>\n",
       "      <td>7.0</td>\n",
       "    </tr>\n",
       "    <tr>\n",
       "      <th>20100101-20101231</th>\n",
       "      <td>102325981917.0</td>\n",
       "      <td>94625046499.0</td>\n",
       "      <td>7700935418.0</td>\n",
       "      <td>9233609836.0</td>\n",
       "      <td>-1532674418.0</td>\n",
       "      <td>1857924763.0</td>\n",
       "      <td>1751015242.0</td>\n",
       "      <td>100126194.0</td>\n",
       "      <td>4156786100.0</td>\n",
       "      <td>-5482424803.0</td>\n",
       "      <td>...</td>\n",
       "      <td>-5245282081.0</td>\n",
       "      <td>-5245282081.0</td>\n",
       "      <td>0.0</td>\n",
       "      <td>378372976.0</td>\n",
       "      <td>456954301.0</td>\n",
       "      <td>-78581325.0</td>\n",
       "      <td>-4866909105.0</td>\n",
       "      <td>-4866909105.0</td>\n",
       "      <td>0.0</td>\n",
       "      <td>-79.0</td>\n",
       "    </tr>\n",
       "  </tbody>\n",
       "</table>\n",
       "<p>2 rows × 21 columns</p>\n",
       "</div>"
      ],
      "text/plain": [
       "                               수익           매출원가         매출총이익       판매비와관리비  \\\n",
       "20110101-20111231   81567060964.0  73056723918.0  8510337046.0  5065406425.0   \n",
       "20100101-20101231  102325981917.0  94625046499.0  7700935418.0  9233609836.0   \n",
       "\n",
       "                        영업이익(손실)          기타수익          기타비용         금융수익  \\\n",
       "20110101-20111231   3444930621.0  3330603897.0  2058192368.0  198325041.0   \n",
       "20100101-20101231  -1532674418.0  1857924763.0  1751015242.0  100126194.0   \n",
       "\n",
       "                           금융원가 법인세비용차감전순이익(손실)  ...      당기순이익(손실)  \\\n",
       "20110101-20111231  4539426603.0     376240588.0  ...    627781200.0   \n",
       "20100101-20101231  4156786100.0   -5482424803.0  ...  -5245282081.0   \n",
       "\n",
       "                  지배기업의 소유주에게 귀속되는 당기순이익(손실) 비지배지분에 귀속되는 당기순이익(손실)  \\\n",
       "20110101-20111231                627781200.0                   0.0   \n",
       "20100101-20101231              -5245282081.0                   0.0   \n",
       "\n",
       "                       연결기타포괄손익      해외사업환산손익      보험수리적손익      연결당기총포괄이익  \\\n",
       "20110101-20111231  1720221602.0  1769414358.0  -49192756.0   2348002802.0   \n",
       "20100101-20101231   378372976.0   456954301.0  -78581325.0  -4866909105.0   \n",
       "\n",
       "                  포괄손익, 지배기업의 소유주에게 귀속되는 지분 포괄손익, 비지배지분 기본주당이익(손실)  \n",
       "20110101-20111231              2348002802.0         0.0        7.0  \n",
       "20100101-20101231             -4866909105.0         0.0      -79.0  \n",
       "\n",
       "[2 rows x 21 columns]"
      ]
     },
     "execution_count": 135,
     "metadata": {},
     "output_type": "execute_result"
    }
   ],
   "source": [
    "if '01-20' in df_cis.columns[6]:\n",
    "    df_cis_1 = df_cis.iloc[:, [1, 6, 7]]\n",
    "else:\n",
    "    df_cis_1 = df_cis.iloc[:, [1, 7, 8]]\n",
    "\n",
    "\n",
    "df_cis_1.columns\n",
    "\n",
    "df_cis_1.columns[1]\n",
    "\n",
    "df_cis_1.columns = ['', df_cis_1.columns[1], df_cis_1.columns[2]]\n",
    "df_cis_1\n",
    "\n",
    "df_cis_1 = df_cis_1.T\n",
    "\n",
    "df_cis_1\n",
    "\n",
    "df_cis_1 = df_cis_1.rename(columns=df_cis_1.iloc[0])\n",
    "\n",
    "df_cis_1\n",
    "\n",
    "df_cis_1 = df_cis_1.drop(df_cis_1.index[0])\n",
    "\n",
    "df_cis_1\n",
    "\n",
    "df_cis_1.drop('label_ko', inplace=True, axis =1)\n",
    "\n",
    "df_cis_1\n",
    "\n",
    "df_cis_1"
   ]
  },
  {
   "cell_type": "code",
   "execution_count": null,
   "metadata": {},
   "outputs": [],
   "source": [
    "        df_cis_1 = df_cis_1.reset_index().rename(columns={'index': 'date'})\n",
    "        # df_cis_1['date'] = df_cis_1['date'].str[9:]\n",
    "#         df_cis_1.drop(['level_0', 'label_ko'], axis=1, inplace=True)\n",
    "\n",
    "        df_cis_1['company'] = cmp_list\n",
    "        print('cis_preprocessing complete')"
   ]
  },
  {
   "cell_type": "code",
   "execution_count": null,
   "metadata": {},
   "outputs": [],
   "source": []
  },
  {
   "cell_type": "code",
   "execution_count": null,
   "metadata": {},
   "outputs": [],
   "source": []
  },
  {
   "cell_type": "code",
   "execution_count": null,
   "metadata": {},
   "outputs": [],
   "source": []
  },
  {
   "cell_type": "code",
   "execution_count": null,
   "metadata": {},
   "outputs": [],
   "source": []
  },
  {
   "cell_type": "code",
   "execution_count": null,
   "metadata": {},
   "outputs": [],
   "source": []
  },
  {
   "cell_type": "code",
   "execution_count": null,
   "metadata": {},
   "outputs": [],
   "source": [
    "'01-20' in df_cis.columns[6]"
   ]
  },
  {
   "cell_type": "code",
   "execution_count": null,
   "metadata": {},
   "outputs": [],
   "source": [
    "df_cis.columns[6].isdigit() == True"
   ]
  },
  {
   "cell_type": "code",
   "execution_count": null,
   "metadata": {},
   "outputs": [],
   "source": [
    "df_cis.head()"
   ]
  },
  {
   "cell_type": "code",
   "execution_count": null,
   "metadata": {},
   "outputs": [],
   "source": [
    "df_cis_1 = df_cis.iloc[:, [1, 7,8]]"
   ]
  },
  {
   "cell_type": "code",
   "execution_count": null,
   "metadata": {},
   "outputs": [],
   "source": [
    "df_cis_1.head()"
   ]
  },
  {
   "cell_type": "code",
   "execution_count": null,
   "metadata": {},
   "outputs": [],
   "source": [
    "df_cis_1.columns = ['', df_cis_1.columns[1][0], df_cis_1.columns[2][0]]"
   ]
  },
  {
   "cell_type": "code",
   "execution_count": null,
   "metadata": {},
   "outputs": [],
   "source": [
    "df_cis_1 = df_cis_1.T"
   ]
  },
  {
   "cell_type": "code",
   "execution_count": null,
   "metadata": {},
   "outputs": [],
   "source": [
    "df_cis_1.columns = df_cis_1.columns.astype('object')"
   ]
  },
  {
   "cell_type": "code",
   "execution_count": null,
   "metadata": {},
   "outputs": [],
   "source": [
    "for i in range(len(df_cis_1.columns)):\n",
    "            df_cis_1.columns.values[i] = df_cis_1.iloc[0, :][i]"
   ]
  },
  {
   "cell_type": "code",
   "execution_count": null,
   "metadata": {},
   "outputs": [],
   "source": [
    "df_cis_1.reset_index(inplace=True)\n",
    "df_cis_1.drop(0, inplace=True)"
   ]
  },
  {
   "cell_type": "code",
   "execution_count": null,
   "metadata": {},
   "outputs": [],
   "source": [
    "for i in range(2):\n",
    "    df_cis_1.iloc[i, 0] = df_cis.columns.values[i+6]"
   ]
  },
  {
   "cell_type": "code",
   "execution_count": null,
   "metadata": {},
   "outputs": [],
   "source": [
    "df_cis_1 = df_cis_1.reset_index().rename(columns={'index': 'date'})\n",
    "df_cis_1.drop(['level_0', 'label_ko'], axis=1, inplace=True)"
   ]
  },
  {
   "cell_type": "code",
   "execution_count": null,
   "metadata": {},
   "outputs": [],
   "source": [
    "def cis_preprocessing(df_cis):\n",
    "    df_cis_1 = df_cis.iloc[:, [1, 7, 8, 9]]\n",
    "    df_cis_1.columns = ['', df_cis_1.columns[1][0], df_cis_1.columns[2][0], df_cis_1.columns[3][0]]\n",
    "    df_cis_1 = df_cis_1.T\n",
    "    df_cis_1 = df_cis_1.rename(columns=df_cis_1.iloc[0])\n",
    "    df_cis_1 = df_cis_1.drop(df_cis_1.index[0])\n",
    "    df_cis_1 = df_cis_1.reset_index().rename(columns={'index': 'date'})\n",
    "    df_cis_1['date'] = df_cis_1['date'].str[9:]\n",
    "    print('cis_proprocessing complete')\n",
    "\n",
    "    return df_cis_1"
   ]
  },
  {
   "cell_type": "code",
   "execution_count": null,
   "metadata": {},
   "outputs": [],
   "source": []
  },
  {
   "cell_type": "code",
   "execution_count": null,
   "metadata": {},
   "outputs": [],
   "source": []
  },
  {
   "cell_type": "code",
   "execution_count": null,
   "metadata": {},
   "outputs": [],
   "source": [
    "file_list[4]"
   ]
  },
  {
   "cell_type": "code",
   "execution_count": null,
   "metadata": {},
   "outputs": [],
   "source": [
    "df = company_prerocessing.open_df(os.path.join(FOLDER_PATH , file_list[8]))\n",
    "print(file_list[8])\n",
    "df.head()"
   ]
  },
  {
   "cell_type": "code",
   "execution_count": null,
   "metadata": {},
   "outputs": [],
   "source": [
    "df_bs_1 = df.iloc[:, 0:4]"
   ]
  },
  {
   "cell_type": "code",
   "execution_count": null,
   "metadata": {},
   "outputs": [],
   "source": [
    "df_bs_1.head()"
   ]
  },
  {
   "cell_type": "code",
   "execution_count": null,
   "metadata": {},
   "outputs": [],
   "source": [
    "df_bs_1.columns = ['', df_bs_1.columns[1][0], df_bs_1.columns[2][0], df_bs_1.columns[3][0]]"
   ]
  },
  {
   "cell_type": "code",
   "execution_count": null,
   "metadata": {},
   "outputs": [],
   "source": [
    "df_bs_1"
   ]
  },
  {
   "cell_type": "code",
   "execution_count": null,
   "metadata": {},
   "outputs": [],
   "source": [
    "df_bs_1 = df_bs_1.T"
   ]
  },
  {
   "cell_type": "code",
   "execution_count": null,
   "metadata": {},
   "outputs": [],
   "source": [
    "df_bs_1.head()"
   ]
  },
  {
   "cell_type": "code",
   "execution_count": null,
   "metadata": {},
   "outputs": [],
   "source": [
    "df_bs_1.columns = df_bs_1.columns.astype('object')"
   ]
  },
  {
   "cell_type": "code",
   "execution_count": null,
   "metadata": {},
   "outputs": [],
   "source": [
    "for i in range(len(df_bs_1.columns)):\n",
    "    \n",
    "    df_bs_1.columns.values[i] = df_bs_1.iloc[0, :][i]"
   ]
  },
  {
   "cell_type": "code",
   "execution_count": null,
   "metadata": {},
   "outputs": [],
   "source": [
    "df_bs_1.reset_index(inplace=True)"
   ]
  },
  {
   "cell_type": "code",
   "execution_count": null,
   "metadata": {},
   "outputs": [],
   "source": [
    "df_bs_1"
   ]
  },
  {
   "cell_type": "code",
   "execution_count": null,
   "metadata": {},
   "outputs": [],
   "source": [
    "df_bs_1.drop(0, inplace=True)"
   ]
  },
  {
   "cell_type": "code",
   "execution_count": null,
   "metadata": {},
   "outputs": [],
   "source": [
    "df_bs_1.head()"
   ]
  },
  {
   "cell_type": "code",
   "execution_count": null,
   "metadata": {},
   "outputs": [],
   "source": [
    "df_bs_1.iloc[1, 0]"
   ]
  },
  {
   "cell_type": "code",
   "execution_count": null,
   "metadata": {},
   "outputs": [],
   "source": [
    "df.columns.values[1]"
   ]
  },
  {
   "cell_type": "code",
   "execution_count": null,
   "metadata": {},
   "outputs": [],
   "source": [
    "df_bs_1.iloc[0, 0] = df.columns.values[1]\n",
    "df_bs_1.iloc[1, 0] = df.columns.values[2]\n",
    "df_bs_1.iloc[2, 0] = df.columns.values[3]"
   ]
  },
  {
   "cell_type": "code",
   "execution_count": null,
   "metadata": {},
   "outputs": [],
   "source": [
    "df_bs_1"
   ]
  },
  {
   "cell_type": "code",
   "execution_count": null,
   "metadata": {},
   "outputs": [],
   "source": [
    "# df_bs_1 = df_bs_1.rename(columns=df_bs_1.iloc[0])\n",
    "# df_bs_1 = df_bs_1.drop(df_bs_1.index[0])\n",
    "df_bs_1 = df_bs_1.reset_index().rename(columns={'index': 'date'})"
   ]
  },
  {
   "cell_type": "code",
   "execution_count": null,
   "metadata": {},
   "outputs": [],
   "source": [
    "df_bs_1.drop(['level_0', 'label_ko'], axis=1, inplace=True)"
   ]
  },
  {
   "cell_type": "code",
   "execution_count": 21,
   "metadata": {},
   "outputs": [],
   "source": [
    "var_1_dic = {'자본총계': 4, '자산총계': 4, '매입채무': 13, '매출채권': 13, '부채총계': 4, '유동부채': 4, '유동자산': 4, '재고자산': 4}\n",
    "var_2_dic = {'매출총이익': 5, '법인세비용차감': 15, '당기순이익': 10}"
   ]
  },
  {
   "cell_type": "code",
   "execution_count": 17,
   "metadata": {
    "pycharm": {
     "name": "#%%\n"
    }
   },
   "outputs": [
    {
     "name": "stdout",
     "output_type": "stream",
     "text": [
      "bs_preprocessing complete\n"
     ]
    }
   ],
   "source": [
    "df = company_prerocessing.open_df(os.path.join(FOLDER_PATH + '재무상태표/' + file_list1[0]))\n",
    "df_bs_1 = company_prerocessing.bs_preprocessing(df, cmp_list1[:-13])\n",
    "company_prerocessing.save_df(os.path.join(FOLDER_PATH + '재무재표 전처리/'), df_bs_1, cmp_list1[:-13])"
   ]
  },
  {
   "cell_type": "code",
   "execution_count": 29,
   "outputs": [
    {
     "name": "stdout",
     "output_type": "stream",
     "text": [
      "자본총계\n",
      "자산총계\n",
      "매입채무 및 기타유동채무\n",
      "매출채권 및 기타유동채권\n",
      "부채총계\n",
      "유동부채\n",
      "유동자산\n",
      "재고자산\n"
     ]
    }
   ],
   "source": [
    "list1 = ['date', 'company']\n",
    "for var1, var1_ in var_1_dic.items():\n",
    "    for bs in df_bs_1.columns:\n",
    "        if var1 in bs:\n",
    "            if var1_ == len(bs):\n",
    "                print(bs)\n",
    "                list1.append(bs)\n",
    "# print(df_bs_1[list1])\n",
    "# bs_a = pd.concat([bs_a, df_bs_1[list1]])"
   ],
   "metadata": {
    "collapsed": false,
    "pycharm": {
     "name": "#%%\n"
    }
   }
  },
  {
   "cell_type": "code",
   "execution_count": 20,
   "outputs": [
    {
     "data": {
      "text/plain": "13"
     },
     "execution_count": 20,
     "metadata": {},
     "output_type": "execute_result"
    }
   ],
   "source": [
    "len('매출채권 및 기타유동채권')"
   ],
   "metadata": {
    "collapsed": false,
    "pycharm": {
     "name": "#%%\n"
    }
   }
  },
  {
   "cell_type": "code",
   "execution_count": null,
   "outputs": [],
   "source": [],
   "metadata": {
    "collapsed": false,
    "pycharm": {
     "name": "#%%\n"
    }
   }
  }
 ],
 "metadata": {
  "kernelspec": {
   "display_name": "Python 3",
   "language": "python",
   "name": "python3"
  },
  "language_info": {
   "codemirror_mode": {
    "name": "ipython",
    "version": 3
   },
   "file_extension": ".py",
   "mimetype": "text/x-python",
   "name": "python",
   "nbconvert_exporter": "python",
   "pygments_lexer": "ipython3",
   "version": "3.8.5"
  }
 },
 "nbformat": 4,
 "nbformat_minor": 4
}