{
 "cells": [
  {
   "cell_type": "markdown",
   "metadata": {},
   "source": [
    "# 네이버 기사 55개 total / word2vec embedding"
   ]
  },
  {
   "cell_type": "code",
   "execution_count": 1,
   "metadata": {},
   "outputs": [],
   "source": [
    "import pandas as pd\n",
    "import matplotlib.pyplot as plt\n",
    "import urllib.request\n",
    "from gensim.models.word2vec import Word2Vec\n",
    "from konlpy.tag import Okt"
   ]
  },
  {
   "cell_type": "code",
   "execution_count": 2,
   "metadata": {},
   "outputs": [],
   "source": [
    "from konlpy.tag import Hannanum, Okt, Kkma\n",
    "from tqdm.notebook import tqdm"
   ]
  },
  {
   "cell_type": "code",
   "execution_count": 3,
   "metadata": {},
   "outputs": [
    {
     "name": "stdout",
     "output_type": "stream",
     "text": [
      "53000\n"
     ]
    }
   ],
   "source": [
    "train_data =  pd.read_csv('data/네이버 기사55.csv')\n",
    "print(len(train_data)) "
   ]
  },
  {
   "cell_type": "code",
   "execution_count": 4,
   "metadata": {},
   "outputs": [
    {
     "name": "stdout",
     "output_type": "stream",
     "text": [
      "True\n"
     ]
    }
   ],
   "source": [
    "print(train_data.isnull().values.any())"
   ]
  },
  {
   "cell_type": "code",
   "execution_count": 5,
   "metadata": {},
   "outputs": [
    {
     "name": "stdout",
     "output_type": "stream",
     "text": [
      "False\n"
     ]
    }
   ],
   "source": [
    "train_data = train_data.dropna(how = 'any')\n",
    "print(train_data.isnull().values.any())"
   ]
  },
  {
   "cell_type": "code",
   "execution_count": 6,
   "metadata": {},
   "outputs": [
    {
     "name": "stdout",
     "output_type": "stream",
     "text": [
      "52995\n"
     ]
    }
   ],
   "source": [
    "print(len(train_data))"
   ]
  },
  {
   "cell_type": "code",
   "execution_count": 7,
   "metadata": {},
   "outputs": [],
   "source": [
    "train_data['contents'] = train_data['contents'].str.replace(\"[^ㄱ-ㅎㅏ-ㅣ가-힣 ]\",\"\")"
   ]
  },
  {
   "cell_type": "code",
   "execution_count": 8,
   "metadata": {},
   "outputs": [
    {
     "data": {
      "text/html": [
       "<div>\n",
       "<style scoped>\n",
       "    .dataframe tbody tr th:only-of-type {\n",
       "        vertical-align: middle;\n",
       "    }\n",
       "\n",
       "    .dataframe tbody tr th {\n",
       "        vertical-align: top;\n",
       "    }\n",
       "\n",
       "    .dataframe thead th {\n",
       "        text-align: right;\n",
       "    }\n",
       "</style>\n",
       "<table border=\"1\" class=\"dataframe\">\n",
       "  <thead>\n",
       "    <tr style=\"text-align: right;\">\n",
       "      <th></th>\n",
       "      <th>Unnamed: 0</th>\n",
       "      <th>title</th>\n",
       "      <th>date</th>\n",
       "      <th>contents</th>\n",
       "      <th>company</th>\n",
       "    </tr>\n",
       "  </thead>\n",
       "  <tbody>\n",
       "    <tr>\n",
       "      <th>0</th>\n",
       "      <td>0</td>\n",
       "      <td>데코앤이, 장중 하락세, 전일대비 -14.74%... 이 시각 거래량 82만5062주</td>\n",
       "      <td>2019.11.19.</td>\n",
       "      <td>그래프 데코앤이 일봉 차트  표  거래원 상위       기준  이 시각 거래소에...</td>\n",
       "      <td>한국경제TV</td>\n",
       "    </tr>\n",
       "    <tr>\n",
       "      <th>1</th>\n",
       "      <td>1</td>\n",
       "      <td>[장마감보고] 고가대비급락 종목 2위 데코앤이 섬유,의류,신발,호화품 업종내...</td>\n",
       "      <td>2019.11.19.</td>\n",
       "      <td>일 고가대비 급락종목  위 데코앤이 주가 리포트   일   시   분 기준 ...</td>\n",
       "      <td>공감신문</td>\n",
       "    </tr>\n",
       "    <tr>\n",
       "      <th>2</th>\n",
       "      <td>2</td>\n",
       "      <td>데코앤이, 115원까지 올랐으나 115원 후퇴</td>\n",
       "      <td>2019.11.18.</td>\n",
       "      <td>일 데코앤이 하락종목 주가 리포트  일   시   분 현재 데코앤이       ...</td>\n",
       "      <td>내외경제tv</td>\n",
       "    </tr>\n",
       "    <tr>\n",
       "      <th>3</th>\n",
       "      <td>3</td>\n",
       "      <td>[fnRASSI]장마감, 코스닥 하락 종목(데코앤이 -31.2% ↓)</td>\n",
       "      <td>2019.11.18.</td>\n",
       "      <td>일 코스닥 시장에서 하락한 종목으로 데코앤이                 메지온...</td>\n",
       "      <td>파이낸셜뉴스</td>\n",
       "    </tr>\n",
       "    <tr>\n",
       "      <th>4</th>\n",
       "      <td>4</td>\n",
       "      <td>데코앤이, 주가 하락 현재는 -24.64%... 이 시각 거래량 75만7821주</td>\n",
       "      <td>2019.11.18.</td>\n",
       "      <td>그래프 데코앤이 일봉 차트  표  거래원 상위       기준  이 시각 거래소에...</td>\n",
       "      <td>한국경제TV</td>\n",
       "    </tr>\n",
       "  </tbody>\n",
       "</table>\n",
       "</div>"
      ],
      "text/plain": [
       "   Unnamed: 0                                            title         date  \\\n",
       "0           0  데코앤이, 장중 하락세, 전일대비 -14.74%... 이 시각 거래량 82만5062주  2019.11.19.   \n",
       "1           1    [장마감보고] 고가대비급락 종목 2위 데코앤이 섬유,의류,신발,호화품 업종내...  2019.11.19.   \n",
       "2           2                        데코앤이, 115원까지 올랐으나 115원 후퇴  2019.11.18.   \n",
       "3           3           [fnRASSI]장마감, 코스닥 하락 종목(데코앤이 -31.2% ↓)  2019.11.18.   \n",
       "4           4     데코앤이, 주가 하락 현재는 -24.64%... 이 시각 거래량 75만7821주  2019.11.18.   \n",
       "\n",
       "                                            contents company  \n",
       "0   그래프 데코앤이 일봉 차트  표  거래원 상위       기준  이 시각 거래소에...  한국경제TV  \n",
       "1      일 고가대비 급락종목  위 데코앤이 주가 리포트   일   시   분 기준 ...    공감신문  \n",
       "2    일 데코앤이 하락종목 주가 리포트  일   시   분 현재 데코앤이       ...  내외경제tv  \n",
       "3    일 코스닥 시장에서 하락한 종목으로 데코앤이                 메지온...  파이낸셜뉴스  \n",
       "4   그래프 데코앤이 일봉 차트  표  거래원 상위       기준  이 시각 거래소에...  한국경제TV  "
      ]
     },
     "execution_count": 8,
     "metadata": {},
     "output_type": "execute_result"
    }
   ],
   "source": [
    "train_data.head()"
   ]
  },
  {
   "cell_type": "code",
   "execution_count": 64,
   "metadata": {},
   "outputs": [],
   "source": [
    "stopwords = ['청주지방법원','인하다','하청','따르다','정상화','자구','못','으로부터','수표','으로서의','견디다','최종','처리','결제','불똥','밟다','공공기관','응','수사','신청서','인가','사태','관계없이','또는','수익모델','법원','절차','재산',\n",
    "             '은행권','효력','지방법원','신청','의', '회계기준','개시','종결','가','난','미노','보전처분','이','말리다','에이콘','된서리','등급','탐방','회차','무','한정','화의','화의','작업','은','들','는','좀','잘','걍','과','도','를','으로',\n",
    "             '자','에','와','한','하다','돼다','따르다','요건','강의','내다','설','적정','대해','전액','해소']"
   ]
  },
  {
   "cell_type": "code",
   "execution_count": 65,
   "metadata": {},
   "outputs": [],
   "source": [
    "okt = Okt()\n",
    "tokenized_data = []\n",
    "for sentence in train_data['contents']:\n",
    "    temp_X = okt.morphs(sentence, stem=True)\n",
    "    temp_X = [word for word in temp_X if not word in stopwords]\n",
    "    tokenized_data.append(temp_X)"
   ]
  },
  {
   "cell_type": "code",
   "execution_count": 42,
   "metadata": {},
   "outputs": [
    {
     "name": "stdout",
     "output_type": "stream",
     "text": [
      "기사의 최대 길이 : 56\n",
      "기사의 평균 길이 : 33.16935559958487\n"
     ]
    },
    {
     "data": {
      "image/png": "[encoded data removed]",
      "text/plain": [
       "<Figure size 432x288 with 1 Axes>"
      ]
     },
     "metadata": {
      "needs_background": "light"
     },
     "output_type": "display_data"
    }
   ],
   "source": [
    "print('기사의 최대 길이 :',max(len(l) for l in tokenized_data))\n",
    "print('기사의 평균 길이 :',sum(map(len, tokenized_data))/len(tokenized_data))\n",
    "plt.hist([len(s) for s in tokenized_data], bins=50)\n",
    "plt.xlabel('length of samples')\n",
    "plt.ylabel('number of samples')\n",
    "plt.show()"
   ]
  },
  {
   "cell_type": "code",
   "execution_count": 66,
   "metadata": {},
   "outputs": [],
   "source": [
    "from gensim.models import Word2Vec\n",
    "model = Word2Vec(sentences = tokenized_data, size = 30, window = 5, min_count = 5, workers = 4, sg = 0)"
   ]
  },
  {
   "cell_type": "code",
   "execution_count": 67,
   "metadata": {},
   "outputs": [
    {
     "data": {
      "text/plain": [
       "(12528, 30)"
      ]
     },
     "execution_count": 67,
     "metadata": {},
     "output_type": "execute_result"
    }
   ],
   "source": [
    "model.wv.vectors.shape  # 완성된 임베딩 매트릭스의 크기 확인"
   ]
  },
  {
   "cell_type": "code",
   "execution_count": 68,
   "metadata": {},
   "outputs": [
    {
     "data": {
      "text/plain": [
       "[('어음', 0.6769577264785767),\n",
       " ('발생', 0.6609410047531128),\n",
       " ('당좌', 0.6584922075271606),\n",
       " ('막다', 0.6481066942214966),\n",
       " ('상장폐지', 0.6288944482803345),\n",
       " ('거래소', 0.6192703247070312),\n",
       " ('부족', 0.6020933389663696),\n",
       " ('위기', 0.6013829112052917),\n",
       " ('사취', 0.5994348526000977),\n",
       " ('연체', 0.592388391494751),\n",
       " ('특별이익', 0.5883732438087463),\n",
       " ('법정관리', 0.5818017721176147),\n",
       " ('퇴출위기', 0.581061601638794),\n",
       " ('변조', 0.5733981132507324),\n",
       " ('기도', 0.5704929232597351),\n",
       " ('일자', 0.5675440430641174),\n",
       " ('폐지', 0.5636925101280212),\n",
       " ('퇴', 0.5617879033088684),\n",
       " ('결국', 0.5604302883148193),\n",
       " ('횡령', 0.5549488067626953)]"
      ]
     },
     "execution_count": 68,
     "metadata": {},
     "output_type": "execute_result"
    }
   ],
   "source": [
    "model.wv.most_similar('부도', topn=20)"
   ]
  },
  {
   "cell_type": "markdown",
   "metadata": {},
   "source": [
    "## company 분석"
   ]
  },
  {
   "cell_type": "code",
   "execution_count": 23,
   "metadata": {},
   "outputs": [
    {
     "data": {
      "text/plain": [
       "53000"
      ]
     },
     "execution_count": 23,
     "metadata": {},
     "output_type": "execute_result"
    }
   ],
   "source": [
    "df1 =  pd.read_csv('data/네이버 기사55.csv')\n",
    "len(df1)"
   ]
  },
  {
   "cell_type": "code",
   "execution_count": 24,
   "metadata": {},
   "outputs": [
    {
     "name": "stdout",
     "output_type": "stream",
     "text": [
      "True\n"
     ]
    }
   ],
   "source": [
    "print(df1.isnull().values.any())"
   ]
  },
  {
   "cell_type": "code",
   "execution_count": 25,
   "metadata": {},
   "outputs": [
    {
     "name": "stdout",
     "output_type": "stream",
     "text": [
      "False\n",
      "52995\n"
     ]
    }
   ],
   "source": [
    "df1 = df1.dropna(how = 'any')\n",
    "print(df1.isnull().values.any())\n",
    "print(len(df1))"
   ]
  },
  {
   "cell_type": "code",
   "execution_count": 33,
   "metadata": {},
   "outputs": [
    {
     "data": {
      "text/html": [
       "<div>\n",
       "<style scoped>\n",
       "    .dataframe tbody tr th:only-of-type {\n",
       "        vertical-align: middle;\n",
       "    }\n",
       "\n",
       "    .dataframe tbody tr th {\n",
       "        vertical-align: top;\n",
       "    }\n",
       "\n",
       "    .dataframe thead th {\n",
       "        text-align: right;\n",
       "    }\n",
       "</style>\n",
       "<table border=\"1\" class=\"dataframe\">\n",
       "  <thead>\n",
       "    <tr style=\"text-align: right;\">\n",
       "      <th></th>\n",
       "      <th>company</th>\n",
       "    </tr>\n",
       "    <tr>\n",
       "      <th></th>\n",
       "      <th></th>\n",
       "    </tr>\n",
       "  </thead>\n",
       "  <tbody>\n",
       "    <tr>\n",
       "      <th>머니투데이</th>\n",
       "      <td>7551</td>\n",
       "    </tr>\n",
       "    <tr>\n",
       "      <th>한국경제</th>\n",
       "      <td>6086</td>\n",
       "    </tr>\n",
       "    <tr>\n",
       "      <th>매일경제</th>\n",
       "      <td>5573</td>\n",
       "    </tr>\n",
       "    <tr>\n",
       "      <th>이데일리</th>\n",
       "      <td>4936</td>\n",
       "    </tr>\n",
       "    <tr>\n",
       "      <th>연합뉴스</th>\n",
       "      <td>3600</td>\n",
       "    </tr>\n",
       "    <tr>\n",
       "      <th>...</th>\n",
       "      <td>...</td>\n",
       "    </tr>\n",
       "    <tr>\n",
       "      <th>라디오코리아</th>\n",
       "      <td>1</td>\n",
       "    </tr>\n",
       "    <tr>\n",
       "      <th>르몽드</th>\n",
       "      <td>1</td>\n",
       "    </tr>\n",
       "    <tr>\n",
       "      <th>마켓뉴스</th>\n",
       "      <td>1</td>\n",
       "    </tr>\n",
       "    <tr>\n",
       "      <th>전남일보</th>\n",
       "      <td>1</td>\n",
       "    </tr>\n",
       "    <tr>\n",
       "      <th>현대축산뉴스</th>\n",
       "      <td>1</td>\n",
       "    </tr>\n",
       "  </tbody>\n",
       "</table>\n",
       "<p>271 rows × 1 columns</p>\n",
       "</div>"
      ],
      "text/plain": [
       "        company\n",
       "               \n",
       "머니투데이      7551\n",
       "한국경제       6086\n",
       "매일경제       5573\n",
       "이데일리       4936\n",
       "연합뉴스       3600\n",
       "...         ...\n",
       "라디오코리아        1\n",
       "르몽드           1\n",
       "마켓뉴스          1\n",
       "전남일보          1\n",
       "현대축산뉴스        1\n",
       "\n",
       "[271 rows x 1 columns]"
      ]
     },
     "execution_count": 33,
     "metadata": {},
     "output_type": "execute_result"
    }
   ],
   "source": [
    "# 뉴스 업체별 기사 갯수\n",
    "g_data = df1.groupby('company')['company'].count()\n",
    "g_data = pd.DataFrame(g_data)\n",
    "g_data = g_data.index.name = ''\n",
    "g_data = g_data.columns.name = ''\n",
    "g_data = g_data.sort_values(by='company', ascending=False)"
   ]
  },
  {
   "cell_type": "code",
   "execution_count": 146,
   "metadata": {},
   "outputs": [
    {
     "data": {
      "text/html": [
       "<div>\n",
       "<style scoped>\n",
       "    .dataframe tbody tr th:only-of-type {\n",
       "        vertical-align: middle;\n",
       "    }\n",
       "\n",
       "    .dataframe tbody tr th {\n",
       "        vertical-align: top;\n",
       "    }\n",
       "\n",
       "    .dataframe thead th {\n",
       "        text-align: right;\n",
       "    }\n",
       "</style>\n",
       "<table border=\"1\" class=\"dataframe\">\n",
       "  <thead>\n",
       "    <tr style=\"text-align: right;\">\n",
       "      <th></th>\n",
       "      <th>count</th>\n",
       "    </tr>\n",
       "  </thead>\n",
       "  <tbody>\n",
       "    <tr>\n",
       "      <th>머니투데이</th>\n",
       "      <td>7551</td>\n",
       "    </tr>\n",
       "    <tr>\n",
       "      <th>한국경제</th>\n",
       "      <td>6086</td>\n",
       "    </tr>\n",
       "    <tr>\n",
       "      <th>매일경제</th>\n",
       "      <td>5573</td>\n",
       "    </tr>\n",
       "    <tr>\n",
       "      <th>이데일리</th>\n",
       "      <td>4936</td>\n",
       "    </tr>\n",
       "    <tr>\n",
       "      <th>연합뉴스</th>\n",
       "      <td>3600</td>\n",
       "    </tr>\n",
       "  </tbody>\n",
       "</table>\n",
       "</div>"
      ],
      "text/plain": [
       "       count\n",
       "머니투데이   7551\n",
       "한국경제    6086\n",
       "매일경제    5573\n",
       "이데일리    4936\n",
       "연합뉴스    3600"
      ]
     },
     "execution_count": 146,
     "metadata": {},
     "output_type": "execute_result"
    }
   ],
   "source": [
    "v_data = df1['company'].value_counts()\n",
    "v_data = pd.DataFrame(v_data)\n",
    "v_data.rename(columns={'':'company','company':'count'}, inplace = True)\n",
    "v_data.head()\n",
    "# v_data.columns = ['company','count']\n",
    "# v_data.columns.values[0] = 'company'\n",
    "# v_data.sort_values(by=['company'], axis=0, ascending=False)"
   ]
  }
 ],
 "metadata": {
  "kernelspec": {
   "display_name": "Python 3",
   "language": "python",
   "name": "python3"
  },
  "language_info": {
   "codemirror_mode": {
    "name": "ipython",
    "version": 3
   },
   "file_extension": ".py",
   "mimetype": "text/x-python",
   "name": "python",
   "nbconvert_exporter": "python",
   "pygments_lexer": "ipython3",
   "version": "3.7.7"
  }
 },
 "nbformat": 4,
 "nbformat_minor": 4
}
