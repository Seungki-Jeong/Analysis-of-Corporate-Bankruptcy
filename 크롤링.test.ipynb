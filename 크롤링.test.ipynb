{
 "cells": [
  {
   "cell_type": "code",
   "execution_count": 6,
   "metadata": {},
   "outputs": [],
   "source": [
    "import urllib\n",
    "from urllib.request import urlopen\n",
    "from bs4 import BeautifulSoup\n",
    "import webbrowser"
   ]
  },
  {
   "cell_type": "code",
   "execution_count": 1,
   "metadata": {},
   "outputs": [
    {
     "data": {
      "text/plain": [
       "(str, 40)"
      ]
     },
     "execution_count": 1,
     "metadata": {},
     "output_type": "execute_result"
    }
   ],
   "source": [
    "apikey = \"18f6ca148253e6ed358c05298a5755060c73b584\" # 실제 키값을 입력\n",
    "type(apikey), len(apikey)"
   ]
  },
  {
   "cell_type": "code",
   "execution_count": null,
   "metadata": {},
   "outputs": [],
   "source": []
  },
  {
   "cell_type": "code",
   "execution_count": 8,
   "metadata": {},
   "outputs": [],
   "source": [
    "url_company = \"http://dart.fss.or.kr/api/company.json?auth={0}&crp_cd={1}\"\n",
    "crpcode = \"00126380\"\n",
    "# url = url_company.format(apikey, crpcode)\n",
    "url = \"http://dart.fss.or.kr/api/search.xml?auth=\"+apikey+\"&crp_cd\"+crpcode+\"&start_dt=19990101&bsn_tp=A001&bsn_tp=A002&bsn_tp=A003\"\n",
    "resultXML=urlopen(url)\n",
    "result=resultXML.read()"
   ]
  },
  {
   "cell_type": "code",
   "execution_count": 9,
   "metadata": {},
   "outputs": [],
   "source": [
    "xmlsoup=BeautifulSoup(result,'html.parser')"
   ]
  },
  {
   "cell_type": "code",
   "execution_count": 10,
   "metadata": {},
   "outputs": [
    {
     "name": "stdout",
     "output_type": "stream",
     "text": [
      "<?xml version=\"1.0\" encoding=\"utf-8\"?>\n",
      "<result>\n",
      "<err_code>900</err_code>\n",
      "<err_msg>OpenDART(https://opendart.fss.or.kr) 서비스 이관으로 인한 기존 API 서비스 중단</err_msg>\n",
      "<page_no>1</page_no>\n",
      "<page_set>10</page_set>\n",
      "<total_count>0</total_count>\n",
      "<total_page>0</total_page>\n",
      "</result>\n"
     ]
    }
   ],
   "source": [
    "print(xmlsoup)"
   ]
  },
  {
   "cell_type": "code",
   "execution_count": 5,
   "metadata": {
    "scrolled": true
   },
   "outputs": [
    {
     "name": "stdout",
     "output_type": "stream",
     "text": [
      "{'acc_mt': '',\n",
      " 'adr': '',\n",
      " 'bsn_no': '',\n",
      " 'ceo_nm': '',\n",
      " 'crp_cls': '',\n",
      " 'crp_nm': '',\n",
      " 'crp_nm_e': '',\n",
      " 'crp_nm_i': '',\n",
      " 'crp_no': '',\n",
      " 'err_code': '900',\n",
      " 'err_msg': 'OpenDART(https://opendart.fss.or.kr) 서비스 이관으로 인한 기존 API 서비스 중단',\n",
      " 'est_dt': '',\n",
      " 'fax_no': '',\n",
      " 'hm_url': '',\n",
      " 'ind_cd': None,\n",
      " 'ir_url': '',\n",
      " 'phn_no': '',\n",
      " 'stock_cd': ''}\n"
     ]
    }
   ],
   "source": [
    "import requests\n",
    "import json\n",
    "from konlpy.utils import pprint\n",
    "response = requests.get(url)\n",
    "data = json.loads(response.content)\n",
    "pprint(data)"
   ]
  },
  {
   "cell_type": "code",
   "execution_count": 34,
   "metadata": {},
   "outputs": [
    {
     "data": {
      "text/plain": [
       "''"
      ]
     },
     "execution_count": 34,
     "metadata": {},
     "output_type": "execute_result"
    }
   ],
   "source": [
    "data[\"crp_no\"]"
   ]
  },
  {
   "cell_type": "code",
   "execution_count": 12,
   "metadata": {},
   "outputs": [],
   "source": [
    "import dart_fss as dart"
   ]
  },
  {
   "cell_type": "code",
   "execution_count": 13,
   "metadata": {},
   "outputs": [
    {
     "data": {
      "text/plain": [
       "'18f6ca148253e6ed358c05298a5755060c73b584'"
      ]
     },
     "execution_count": 13,
     "metadata": {},
     "output_type": "execute_result"
    }
   ],
   "source": [
    "api_key = \"18f6ca148253e6ed358c05298a5755060c73b584\"\n",
    "dart.set_api_key(api_key=api_key)"
   ]
  },
  {
   "cell_type": "code",
   "execution_count": 14,
   "metadata": {},
   "outputs": [
    {
     "data": {
      "application/vnd.jupyter.widget-view+json": {
       "model_id": "a3192468796b464a8e2d5dbaab190651",
       "version_major": 2,
       "version_minor": 0
      },
      "text/plain": [
       "Output()"
      ]
     },
     "metadata": {},
     "output_type": "display_data"
    },
    {
     "data": {
      "application/vnd.jupyter.widget-view+json": {
       "model_id": "09296fd4cad841a2a2ec1302cdf9a191",
       "version_major": 2,
       "version_minor": 0
      },
      "text/plain": [
       "Output()"
      ]
     },
     "metadata": {},
     "output_type": "display_data"
    },
    {
     "data": {
      "application/vnd.jupyter.widget-view+json": {
       "model_id": "e6658a1651614a94b53349f6c5fc116e",
       "version_major": 2,
       "version_minor": 0
      },
      "text/plain": [
       "Output()"
      ]
     },
     "metadata": {},
     "output_type": "display_data"
    },
    {
     "data": {
      "text/plain": [
       "Number of companies: 81469"
      ]
     },
     "execution_count": 14,
     "metadata": {},
     "output_type": "execute_result"
    }
   ],
   "source": [
    "# 상장된 회사 리스트\n",
    "dart.get_corp_list()"
   ]
  },
  {
   "cell_type": "code",
   "execution_count": 19,
   "metadata": {},
   "outputs": [
    {
     "data": {
      "application/vnd.jupyter.widget-view+json": {
       "model_id": "a7e4488280c843e4b36021fbb91a561d",
       "version_major": 2,
       "version_minor": 0
      },
      "text/plain": [
       "Output()"
      ]
     },
     "metadata": {},
     "output_type": "display_data"
    },
    {
     "data": {
      "application/vnd.jupyter.widget-view+json": {
       "model_id": "dce867e3e8c24dd39cb57a4c1dcfe224",
       "version_major": 2,
       "version_minor": 0
      },
      "text/plain": [
       "Output()"
      ]
     },
     "metadata": {},
     "output_type": "display_data"
    },
    {
     "data": {
      "application/vnd.jupyter.widget-view+json": {
       "model_id": "64e8656e47694ea8b8d98d4b4aac25ce",
       "version_major": 2,
       "version_minor": 0
      },
      "text/plain": [
       "HBox(children=(FloatProgress(value=1.0, bar_style='info', description='Annual reports', max=1.0, style=Progres…"
      ]
     },
     "metadata": {},
     "output_type": "display_data"
    },
    {
     "name": "stdout",
     "output_type": "stream",
     "text": [
      "\n"
     ]
    },
    {
     "data": {
      "text/plain": [
       "'d:\\\\workspace\\\\Analysis of Corporate Bankruptcy\\\\fsdata\\\\00112819_annual.xlsx'"
      ]
     },
     "execution_count": 19,
     "metadata": {},
     "output_type": "execute_result"
    }
   ],
   "source": [
    "import dart_fss as dart\n",
    "\n",
    "\n",
    "# Open DART API KEY 설정\n",
    "api_key='7bba91f51399cd6256c184c5ad0b2539c0bfd8b6'\n",
    "dart.set_api_key(api_key=api_key)\n",
    "\n",
    "# DART 에 공시된 회사 리스트 불러오기\n",
    "corp_list = dart.get_corp_list()\n",
    "\n",
    "# 삼성전자 검색\n",
    "samsung = corp_list.find_by_corp_name('데코앤이', exactly=True)[0]\n",
    "\n",
    "# 2012년부터 연간 연결재무제표 불러오기\n",
    "# fs = samsung.get_financial_statement(start_dt='20120101')\n",
    "fs = samsung.extract_fs(bgn_de='20181107', end_de='20191107')\n",
    "\n",
    "# 재무제표 검색 결과를 엑셀파일로 저장 ( 기본저장위치: 실행폴더/fsdata )\n",
    "fs.save()"
   ]
  },
  {
   "cell_type": "code",
   "execution_count": 86,
   "metadata": {
    "scrolled": true
   },
   "outputs": [
    {
     "data": {
      "application/vnd.jupyter.widget-view+json": {
       "model_id": "ce919ed01bd24cfa90165803aff8f2ac",
       "version_major": 2,
       "version_minor": 0
      },
      "text/plain": [
       "Output()"
      ]
     },
     "metadata": {},
     "output_type": "display_data"
    },
    {
     "data": {
      "application/vnd.jupyter.widget-view+json": {
       "model_id": "de95853b04d14e049f27a545128bdff7",
       "version_major": 2,
       "version_minor": 0
      },
      "text/plain": [
       "Output()"
      ]
     },
     "metadata": {},
     "output_type": "display_data"
    },
    {
     "data": {
      "application/vnd.jupyter.widget-view+json": {
       "model_id": "d572587659154f3997600e16d7997871",
       "version_major": 2,
       "version_minor": 0
      },
      "text/plain": [
       "HBox(children=(FloatProgress(value=0.0, description='Annual reports', max=8.0, style=ProgressStyle(description…"
      ]
     },
     "metadata": {},
     "output_type": "display_data"
    },
    {
     "name": "stdout",
     "output_type": "stream",
     "text": [
      "\n",
      "{'bgn_de': '20120101',\n",
      " 'corp_code': '00126380',\n",
      " 'end_de': None,\n",
      " 'financial statement': [{'title': '[D210000] Statement of financial position, '\n",
      "                                   'current/non-current - Consolidated '\n",
      "                                   'financial statements (Unit: KRW)'},\n",
      "                         {'title': '[D310000] Income statement, by function of '\n",
      "                                   'expense - Consolidated financial '\n",
      "                                   'statements (Unit: KRW)'},\n",
      "                         {'title': '[D410000] Statement of comprehensive '\n",
      "                                   'income - Consolidated financial statements '\n",
      "                                   '(Unit: KRW)'},\n",
      "                         {'title': '[D520000] Statement of cash flows, '\n",
      "                                   'indirect method - Consolidated financial '\n",
      "                                   'statements (Unit: KRW)'}],\n",
      " 'lang': 'ko',\n",
      " 'report_tp': 'annual',\n",
      " 'separate': False,\n",
      " 'separator': True}\n"
     ]
    }
   ],
   "source": [
    "print(samsung.extract_fs(bgn_de='20120101'))"
   ]
  },
  {
   "cell_type": "code",
   "execution_count": 95,
   "metadata": {},
   "outputs": [
    {
     "name": "stdout",
     "output_type": "stream",
     "text": [
      "[00126380]삼성전자\n"
     ]
    }
   ],
   "source": [
    "print(samsung)"
   ]
  },
  {
   "cell_type": "code",
   "execution_count": 101,
   "metadata": {},
   "outputs": [
    {
     "data": {
      "application/vnd.jupyter.widget-view+json": {
       "model_id": "cd2affe6755246eab506cb88df2ece63",
       "version_major": 2,
       "version_minor": 0
      },
      "text/plain": [
       "Output()"
      ]
     },
     "metadata": {},
     "output_type": "display_data"
    },
    {
     "data": {
      "application/vnd.jupyter.widget-view+json": {
       "model_id": "0927b0547ead4436b8d1161760dad001",
       "version_major": 2,
       "version_minor": 0
      },
      "text/plain": [
       "Output()"
      ]
     },
     "metadata": {},
     "output_type": "display_data"
    },
    {
     "data": {
      "application/vnd.jupyter.widget-view+json": {
       "model_id": "13f329670d3042518d468e260af5e64c",
       "version_major": 2,
       "version_minor": 0
      },
      "text/plain": [
       "HBox(children=(FloatProgress(value=0.0, description='Annual reports', max=8.0, style=ProgressStyle(description…"
      ]
     },
     "metadata": {},
     "output_type": "display_data"
    },
    {
     "name": "stdout",
     "output_type": "stream",
     "text": [
      "\n"
     ]
    }
   ],
   "source": [
    "tsm = corp_list.find_by_corp_name('SK하이닉스', exactly=True)[0]\n",
    "tsmfs = tsm.extract_fs(bgn_de='20120101')"
   ]
  },
  {
   "cell_type": "code",
   "execution_count": 104,
   "metadata": {},
   "outputs": [],
   "source": [
    "import datetime\n",
    "\n",
    "now = datetime.datetime.now()\n",
    "nowDate = now.strftime('%Y%m%d%H%M')"
   ]
  },
  {
   "cell_type": "code",
   "execution_count": 106,
   "metadata": {},
   "outputs": [],
   "source": [
    "bgn_de = '20190101'\n",
    "end_de = now.strftime('%Y%m%d')\n"
   ]
  },
  {
   "cell_type": "code",
   "execution_count": 107,
   "metadata": {},
   "outputs": [
    {
     "name": "stdout",
     "output_type": "stream",
     "text": [
      "20200821\n"
     ]
    }
   ],
   "source": [
    "print(end_de)"
   ]
  },
  {
   "cell_type": "code",
   "execution_count": 108,
   "metadata": {},
   "outputs": [],
   "source": [
    "corp_list = dart.get_corp_list()"
   ]
  },
  {
   "cell_type": "code",
   "execution_count": 119,
   "metadata": {},
   "outputs": [],
   "source": [
    "corp_name = '삼성전자'\n",
    "corp_code = corp_list.find_by_corp_name(corp_name=corp_name)[0]\n",
    "\n",
    "# # corp_code = corp_list.find_by_corp_name(corp_name = corp_name)[0]\n",
    "corp_code = corp_code._info['corp_code']"
   ]
  },
  {
   "cell_type": "code",
   "execution_count": 124,
   "metadata": {
    "scrolled": true
   },
   "outputs": [
    {
     "data": {
      "application/vnd.jupyter.widget-view+json": {
       "model_id": "6fc9849cb7b94e16977c394b1ea6eece",
       "version_major": 2,
       "version_minor": 0
      },
      "text/plain": [
       "Output()"
      ]
     },
     "metadata": {},
     "output_type": "display_data"
    },
    {
     "data": {
      "application/vnd.jupyter.widget-view+json": {
       "model_id": "04f6ba11fec84dd19056a7379ff8fd36",
       "version_major": 2,
       "version_minor": 0
      },
      "text/plain": [
       "Output()"
      ]
     },
     "metadata": {},
     "output_type": "display_data"
    },
    {
     "data": {
      "application/vnd.jupyter.widget-view+json": {
       "model_id": "76cc2d97b3824ffd8150a7d2186dc98c",
       "version_major": 2,
       "version_minor": 0
      },
      "text/plain": [
       "HBox(children=(FloatProgress(value=0.0, description='Annual reports', max=1.0, style=ProgressStyle(description…"
      ]
     },
     "metadata": {},
     "output_type": "display_data"
    },
    {
     "name": "stdout",
     "output_type": "stream",
     "text": [
      "\n"
     ]
    }
   ],
   "source": [
    "fs = dart.fs.extract(corp_code = corp_code, bgn_de = bgn_de, end_de = end_de, lang='ko', separator=False)"
   ]
  },
  {
   "cell_type": "code",
   "execution_count": 125,
   "metadata": {},
   "outputs": [
    {
     "name": "stdout",
     "output_type": "stream",
     "text": [
      "{'bgn_de': '20190101',\n",
      " 'corp_code': '00126380',\n",
      " 'end_de': '20200821',\n",
      " 'financial statement': [{'title': '[D210000] Statement of financial position, '\n",
      "                                   'current/non-current - Consolidated '\n",
      "                                   'financial statements (Unit: KRW)'},\n",
      "                         {'title': '[D310000] Income statement, by function of '\n",
      "                                   'expense - Consolidated financial '\n",
      "                                   'statements (Unit: KRW)'},\n",
      "                         {'title': '[D410000] Statement of comprehensive '\n",
      "                                   'income - Consolidated financial statements '\n",
      "                                   '(Unit: KRW)'},\n",
      "                         {'title': '[D520000] Statement of cash flows, '\n",
      "                                   'indirect method - Consolidated financial '\n",
      "                                   'statements (Unit: KRW)'}],\n",
      " 'lang': 'ko',\n",
      " 'report_tp': 'annual',\n",
      " 'separate': False,\n",
      " 'separator': False}\n"
     ]
    }
   ],
   "source": [
    "print(fs)"
   ]
  },
  {
   "cell_type": "code",
   "execution_count": 126,
   "metadata": {},
   "outputs": [
    {
     "data": {
      "application/vnd.jupyter.widget-view+json": {
       "model_id": "1bbf145162f74bf4bd9bd83676766762",
       "version_major": 2,
       "version_minor": 0
      },
      "text/plain": [
       "Output()"
      ]
     },
     "metadata": {},
     "output_type": "display_data"
    },
    {
     "data": {
      "application/vnd.jupyter.widget-view+json": {
       "model_id": "5087d2b4e892464497b22569c0cd1a81",
       "version_major": 2,
       "version_minor": 0
      },
      "text/plain": [
       "Output()"
      ]
     },
     "metadata": {},
     "output_type": "display_data"
    },
    {
     "data": {
      "application/vnd.jupyter.widget-view+json": {
       "model_id": "239e789c3b04441db68595d4c68ed3a3",
       "version_major": 2,
       "version_minor": 0
      },
      "text/plain": [
       "HBox(children=(FloatProgress(value=0.0, description='Annual reports', max=1.0, style=ProgressStyle(description…"
      ]
     },
     "metadata": {},
     "output_type": "display_data"
    },
    {
     "name": "stdout",
     "output_type": "stream",
     "text": [
      "\n"
     ]
    },
    {
     "data": {
      "application/vnd.jupyter.widget-view+json": {
       "model_id": "bf66aeefecc5470d8159c6941ba2da7b",
       "version_major": 2,
       "version_minor": 0
      },
      "text/plain": [
       "HBox(children=(FloatProgress(value=0.0, description='Semiannual reports', max=2.0, style=ProgressStyle(descrip…"
      ]
     },
     "metadata": {},
     "output_type": "display_data"
    },
    {
     "name": "stdout",
     "output_type": "stream",
     "text": [
      "\n"
     ]
    }
   ],
   "source": [
    "fs = dart.fs.extract(corp_code=corp_code, bgn_de=bgn_de, end_de=end_de, report_tp='half', lang='ko', separator=False)"
   ]
  },
  {
   "cell_type": "code",
   "execution_count": 127,
   "metadata": {},
   "outputs": [
    {
     "name": "stdout",
     "output_type": "stream",
     "text": [
      "{'bgn_de': '20190101',\n",
      " 'corp_code': '00126380',\n",
      " 'end_de': '20200821',\n",
      " 'financial statement': [{'title': '[D210000] Statement of financial position, '\n",
      "                                   'current/non-current - Consolidated '\n",
      "                                   'financial statements (Unit: KRW)'},\n",
      "                         {'title': '[D310000] Income statement, by function of '\n",
      "                                   'expense - Consolidated financial '\n",
      "                                   'statements (Unit: KRW)'},\n",
      "                         {'title': '[D410000] Statement of comprehensive '\n",
      "                                   'income - Consolidated financial statements '\n",
      "                                   '(Unit: KRW)'},\n",
      "                         {'title': '[D520000] Statement of cash flows, '\n",
      "                                   'indirect method - Consolidated financial '\n",
      "                                   'statements (Unit: KRW)'}],\n",
      " 'lang': 'ko',\n",
      " 'report_tp': 'half',\n",
      " 'separate': False,\n",
      " 'separator': False}\n"
     ]
    }
   ],
   "source": [
    "print(fs)"
   ]
  },
  {
   "cell_type": "code",
   "execution_count": 128,
   "metadata": {},
   "outputs": [
    {
     "data": {
      "application/vnd.jupyter.widget-view+json": {
       "model_id": "b421e26b36ac41d6a9ad2e90144a9a91",
       "version_major": 2,
       "version_minor": 0
      },
      "text/plain": [
       "Output()"
      ]
     },
     "metadata": {},
     "output_type": "display_data"
    },
    {
     "data": {
      "application/vnd.jupyter.widget-view+json": {
       "model_id": "14ec16fdfec54b56ac0d03e7148a2f1c",
       "version_major": 2,
       "version_minor": 0
      },
      "text/plain": [
       "Output()"
      ]
     },
     "metadata": {},
     "output_type": "display_data"
    },
    {
     "data": {
      "application/vnd.jupyter.widget-view+json": {
       "model_id": "d645745b6e4748588953a191c0d1e797",
       "version_major": 2,
       "version_minor": 0
      },
      "text/plain": [
       "HBox(children=(FloatProgress(value=0.0, description='Annual reports', max=1.0, style=ProgressStyle(description…"
      ]
     },
     "metadata": {},
     "output_type": "display_data"
    },
    {
     "name": "stdout",
     "output_type": "stream",
     "text": [
      "\n"
     ]
    },
    {
     "data": {
      "application/vnd.jupyter.widget-view+json": {
       "model_id": "74cb141fbceb4c549687022ef960bcfe",
       "version_major": 2,
       "version_minor": 0
      },
      "text/plain": [
       "HBox(children=(FloatProgress(value=0.0, description='Semiannual reports', max=2.0, style=ProgressStyle(descrip…"
      ]
     },
     "metadata": {},
     "output_type": "display_data"
    },
    {
     "name": "stdout",
     "output_type": "stream",
     "text": [
      "\n"
     ]
    },
    {
     "data": {
      "application/vnd.jupyter.widget-view+json": {
       "model_id": "ee58681ed17b43d1b48d542424df4249",
       "version_major": 2,
       "version_minor": 0
      },
      "text/plain": [
       "HBox(children=(FloatProgress(value=0.0, description='Quarterly report', max=3.0, style=ProgressStyle(descripti…"
      ]
     },
     "metadata": {},
     "output_type": "display_data"
    },
    {
     "name": "stdout",
     "output_type": "stream",
     "text": [
      "\n"
     ]
    }
   ],
   "source": [
    "fs = dart.fs.extract(corp_code=corp_code, bgn_de=bgn_de, end_de=end_de, report_tp='quarter', lang='ko', separator=False)"
   ]
  },
  {
   "cell_type": "code",
   "execution_count": 129,
   "metadata": {},
   "outputs": [
    {
     "name": "stdout",
     "output_type": "stream",
     "text": [
      "{'bgn_de': '20190101',\n",
      " 'corp_code': '00126380',\n",
      " 'end_de': '20200821',\n",
      " 'financial statement': [{'title': '[D210000] Statement of financial position, '\n",
      "                                   'current/non-current - Consolidated '\n",
      "                                   'financial statements (Unit: KRW)'},\n",
      "                         {'title': '[D310000] Income statement, by function of '\n",
      "                                   'expense - Consolidated financial '\n",
      "                                   'statements (Unit: KRW)'},\n",
      "                         {'title': '[D410000] Statement of comprehensive '\n",
      "                                   'income - Consolidated financial statements '\n",
      "                                   '(Unit: KRW)'},\n",
      "                         {'title': '[D520000] Statement of cash flows, '\n",
      "                                   'indirect method - Consolidated financial '\n",
      "                                   'statements (Unit: KRW)'}],\n",
      " 'lang': 'ko',\n",
      " 'report_tp': 'quarter',\n",
      " 'separate': False,\n",
      " 'separator': False}\n"
     ]
    }
   ],
   "source": [
    "print(fs)"
   ]
  },
  {
   "cell_type": "code",
   "execution_count": null,
   "metadata": {},
   "outputs": [],
   "source": []
  },
  {
   "cell_type": "code",
   "execution_count": null,
   "metadata": {},
   "outputs": [],
   "source": []
  },
  {
   "cell_type": "code",
   "execution_count": null,
   "metadata": {},
   "outputs": [],
   "source": []
  },
  {
   "cell_type": "code",
   "execution_count": null,
   "metadata": {},
   "outputs": [],
   "source": []
  },
  {
   "cell_type": "code",
   "execution_count": null,
   "metadata": {},
   "outputs": [],
   "source": []
  },
  {
   "cell_type": "code",
   "execution_count": null,
   "metadata": {},
   "outputs": [],
   "source": []
  },
  {
   "cell_type": "code",
   "execution_count": null,
   "metadata": {},
   "outputs": [],
   "source": []
  },
  {
   "cell_type": "code",
   "execution_count": null,
   "metadata": {},
   "outputs": [],
   "source": []
  },
  {
   "cell_type": "code",
   "execution_count": null,
   "metadata": {},
   "outputs": [],
   "source": []
  },
  {
   "cell_type": "code",
   "execution_count": null,
   "metadata": {},
   "outputs": [],
   "source": []
  },
  {
   "cell_type": "code",
   "execution_count": null,
   "metadata": {},
   "outputs": [],
   "source": []
  },
  {
   "cell_type": "code",
   "execution_count": null,
   "metadata": {},
   "outputs": [],
   "source": []
  },
  {
   "cell_type": "code",
   "execution_count": null,
   "metadata": {},
   "outputs": [],
   "source": []
  },
  {
   "cell_type": "code",
   "execution_count": null,
   "metadata": {},
   "outputs": [],
   "source": []
  },
  {
   "cell_type": "code",
   "execution_count": null,
   "metadata": {},
   "outputs": [],
   "source": []
  },
  {
   "cell_type": "code",
   "execution_count": null,
   "metadata": {},
   "outputs": [],
   "source": []
  },
  {
   "cell_type": "code",
   "execution_count": null,
   "metadata": {},
   "outputs": [],
   "source": []
  },
  {
   "cell_type": "code",
   "execution_count": null,
   "metadata": {},
   "outputs": [],
   "source": []
  },
  {
   "cell_type": "code",
   "execution_count": null,
   "metadata": {},
   "outputs": [],
   "source": []
  },
  {
   "cell_type": "code",
   "execution_count": null,
   "metadata": {},
   "outputs": [],
   "source": []
  }
 ],
 "metadata": {
  "kernelspec": {
   "display_name": "Python 3",
   "language": "python",
   "name": "python3"
  },
  "language_info": {
   "codemirror_mode": {
    "name": "ipython",
    "version": 3
   },
   "file_extension": ".py",
   "mimetype": "text/x-python",
   "name": "python",
   "nbconvert_exporter": "python",
   "pygments_lexer": "ipython3",
   "version": "3.7.7"
  }
 },
 "nbformat": 4,
 "nbformat_minor": 4
}
