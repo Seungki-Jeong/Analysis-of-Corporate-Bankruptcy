{
 "cells": [
  {
   "cell_type": "code",
   "execution_count": 1,
   "metadata": {},
   "outputs": [],
   "source": [
    "import urllib.request\n",
    "import urllib.parse\n",
    "from bs4 import BeautifulSoup\n",
    "import re"
   ]
  },
  {
   "cell_type": "code",
   "execution_count": 2,
   "metadata": {},
   "outputs": [
    {
     "name": "stdin",
     "output_type": "stream",
     "text": [
      "검색어를 입력하세요 :  동해건설\n"
     ]
    }
   ],
   "source": [
    "baseUrl = 'https://search.naver.com/search.naver?&where=news&query='\n",
    "plusUrl = input('검색어를 입력하세요 : ')\n",
    "url = baseUrl + urllib.parse.quote_plus(plusUrl) \n",
    "html = urllib.request.urlopen(url).read()\n",
    "soup = BeautifulSoup(html, 'html.parser')"
   ]
  },
  {
   "cell_type": "markdown",
   "metadata": {},
   "source": [
    "# 기사 내용 선택"
   ]
  },
  {
   "cell_type": "code",
   "execution_count": 3,
   "metadata": {
    "scrolled": true
   },
   "outputs": [
    {
     "data": {
      "text/plain": [
       "'김연철 장관은 기념사에서 \"동해북부선 건설은 우리 경제에 활력을 불어넣을 \\'한반도 뉴딜\\' 사업\"이라며 \"한반도 신경제 구상의 중심축 중 하나인 환동해 경제권이 완성돼 대륙과 해양을 잇는 동해안 시대를 열어갈 것...'"
      ]
     },
     "execution_count": 3,
     "metadata": {},
     "output_type": "execute_result"
    }
   ],
   "source": [
    "word = soup.find_all(class_='type01')[0]\n",
    "word = word.find_all('dl')[1]\n",
    "word = word.find_all('dd')[1].get_text()\n",
    "word"
   ]
  },
  {
   "cell_type": "markdown",
   "metadata": {},
   "source": [
    "# 기사 제목 선택"
   ]
  },
  {
   "cell_type": "code",
   "execution_count": 4,
   "metadata": {},
   "outputs": [
    {
     "data": {
      "text/plain": [
       "'동서고속화철도-동해북부선 건설 본격 추진'"
      ]
     },
     "execution_count": 4,
     "metadata": {},
     "output_type": "execute_result"
    }
   ],
   "source": [
    "title = soup.find_all(class_='_sp_each_title')\n",
    "soup.find_all(class_='_sp_each_title')[0].get_text()"
   ]
  },
  {
   "cell_type": "markdown",
   "metadata": {},
   "source": [
    "# 일자 선택"
   ]
  },
  {
   "cell_type": "code",
   "execution_count": 5,
   "metadata": {},
   "outputs": [],
   "source": [
    "date_re = re.compile(r'\\d\\d\\d\\d.\\d\\d.\\d\\d.') # 숫자 찾아서 추출"
   ]
  },
  {
   "cell_type": "code",
   "execution_count": 6,
   "metadata": {},
   "outputs": [
    {
     "name": "stdout",
     "output_type": "stream",
     "text": [
      "2020.08.10.\n"
     ]
    }
   ],
   "source": [
    "day = soup.find_all(class_='txt_inline')[0]\n",
    "match = date_re.search(day.get_text())\n",
    "print(match.group())"
   ]
  },
  {
   "cell_type": "markdown",
   "metadata": {},
   "source": [
    "# 신문사 선택"
   ]
  },
  {
   "cell_type": "code",
   "execution_count": 7,
   "metadata": {},
   "outputs": [
    {
     "data": {
      "text/plain": [
       "[<span class=\"_sp_each_source\">G1</span>,\n",
       " <span class=\"_sp_each_source\">연합뉴스<i class=\"sprenew api_ico_pick\">언론사 선정</i></span>,\n",
       " <span class=\"_sp_each_source\">서울경제<i class=\"sprenew api_ico_pick\">언론사 선정</i></span>,\n",
       " <span class=\"_sp_each_source\">파이낸셜뉴스<i class=\"sprenew api_ico_pick\">언론사 선정</i></span>,\n",
       " <span class=\"_sp_each_source\">이데일리<i class=\"sprenew api_ico_pick\">언론사 선정</i></span>,\n",
       " <span class=\"_sp_each_source\">뉴시스</span>,\n",
       " <span class=\"_sp_each_source\">부산일보<i class=\"sprenew api_ico_pick\">언론사 선정</i></span>,\n",
       " <span class=\"_sp_each_source\">강원일보<i class=\"sprenew api_ico_pick\">언론사 선정</i></span>,\n",
       " <span class=\"_sp_each_source\">프레시안</span>,\n",
       " <span class=\"_sp_each_source\">YTN<i class=\"sprenew api_ico_pick\">언론사 선정</i></span>]"
      ]
     },
     "execution_count": 7,
     "metadata": {},
     "output_type": "execute_result"
    }
   ],
   "source": [
    "com = soup.find_all(class_='_sp_each_source')\n",
    "com"
   ]
  },
  {
   "cell_type": "code",
   "execution_count": 8,
   "metadata": {},
   "outputs": [
    {
     "name": "stdout",
     "output_type": "stream",
     "text": [
      "G1\n",
      "연합뉴스\n",
      "서울경제\n",
      "파이낸셜뉴스\n",
      "이데일리\n",
      "뉴시스\n",
      "부산일보\n",
      "강원일보\n",
      "프레시안\n",
      "YTN\n"
     ]
    }
   ],
   "source": [
    "for coms in com:\n",
    "    if coms.get_text()[-2:] == '선정':\n",
    "        print(coms.get_text()[:-6])\n",
    "    else:\n",
    "        print(coms.get_text())"
   ]
  },
  {
   "cell_type": "markdown",
   "metadata": {},
   "source": [
    "# 읽을 페이지 수 계산"
   ]
  },
  {
   "cell_type": "code",
   "execution_count": 9,
   "metadata": {},
   "outputs": [
    {
     "data": {
      "text/plain": [
       "' 2,038'"
      ]
     },
     "execution_count": 9,
     "metadata": {},
     "output_type": "execute_result"
    }
   ],
   "source": [
    "count = soup.find_all(class_='title_desc all_my')\n",
    "count = count[0].find('span')\n",
    "count = count.get_text()[-7:-1]\n",
    "count"
   ]
  },
  {
   "cell_type": "code",
   "execution_count": 12,
   "metadata": {},
   "outputs": [
    {
     "data": {
      "text/plain": [
       "2038"
      ]
     },
     "execution_count": 12,
     "metadata": {},
     "output_type": "execute_result"
    }
   ],
   "source": [
    "count = int(count.replace(',', ''))\n",
    "count"
   ]
  },
  {
   "cell_type": "code",
   "execution_count": 13,
   "metadata": {
    "scrolled": true
   },
   "outputs": [
    {
     "name": "stdout",
     "output_type": "stream",
     "text": [
      "1 11 21 31 41 51 61 71 81 91 101 111 121 131 141 151 161 171 181 191 201 211 221 231 241 251 261 271 281 291 301 311 321 331 341 351 361 371 381 391 401 411 421 431 441 451 461 471 481 491 501 511 521 531 541 551 561 571 581 591 601 611 621 631 641 651 661 671 681 691 701 711 721 731 741 751 761 771 781 791 801 811 821 831 841 851 861 871 881 891 901 911 921 931 941 951 961 971 981 991 1001 1011 1021 1031 1041 1051 1061 1071 1081 1091 1101 1111 1121 1131 1141 1151 1161 1171 1181 1191 1201 1211 1221 1231 1241 1251 1261 1271 1281 1291 1301 1311 1321 1331 1341 1351 1361 1371 1381 1391 1401 1411 1421 1431 1441 1451 1461 1471 1481 1491 1501 1511 1521 1531 1541 1551 1561 1571 1581 1591 1601 1611 1621 1631 1641 1651 1661 1671 1681 1691 1701 1711 1721 1731 1741 1751 1761 1771 1781 1791 1801 1811 1821 1831 1841 1851 1861 1871 1881 1891 1901 1911 1921 1931 1941 1951 1961 1971 1981 1991 2001 2011 2021 2031 "
     ]
    }
   ],
   "source": [
    "subject = []\n",
    "date = []\n",
    "contents = []\n",
    "lists = []\n",
    "\n",
    "for page in range(1, count+1, 10):\n",
    "    print(page, end=' ')\n",
    "    url = baseUrl + urllib.parse.quote_plus(plusUrl) + '&start=' + str(page)\n",
    "    html = urllib.request.urlopen(url).read()\n",
    "    soup = BeautifulSoup(html, 'html.parser')\n",
    "#     print(url)    \n",
    "    word = soup.find_all(class_='type01')[0]\n",
    "    word = word.find_all('dl')\n",
    "    title = soup.find_all(class_='_sp_each_title')\n",
    "    com = soup.find_all(class_='_sp_each_source')\n",
    "    date_re = re.compile(r'\\d\\d\\d\\d.\\d\\d.\\d\\d.')\n",
    "    day = soup.find_all(class_='txt_inline')\n",
    "#     for i, words in enumerate(word): 카운드 확인\n",
    "#         print(i, words.find_all('dd')[1].get_text())\n",
    "    for words in word:\n",
    "        contents.append(words.find_all('dd')[1].get_text())\n",
    "    for tie in title:\n",
    "        subject.append(tie.get_text())\n",
    "    for list in com:\n",
    "        if list.get_text()[-2:] == '선정':\n",
    "            lists.append(list.get_text()[:-6])\n",
    "        else:\n",
    "            lists.append(list.get_text())\n",
    "    for dates in day:\n",
    "        try:\n",
    "            match = date_re.search(dates.get_text())\n",
    "            date.append(match.group())\n",
    "        except:\n",
    "            date_re2 = re.compile(r'\\d')\n",
    "            match = date_re2.search(dates.get_text())\n",
    "            m = int(match.group())\n",
    "            year = str(datetime.datetime.today().year)\n",
    "            month = str(datetime.datetime.today().month)\n",
    "            day = str(datetime.datetime.today().day-m)\n",
    "            result = year + '.' + month + '.' + day + '.'\n",
    "            date.append(result)"
   ]
  },
  {
   "cell_type": "code",
   "execution_count": 34,
   "metadata": {
    "scrolled": true
   },
   "outputs": [
    {
     "data": {
      "text/html": [
       "<div>\n",
       "<style scoped>\n",
       "    .dataframe tbody tr th:only-of-type {\n",
       "        vertical-align: middle;\n",
       "    }\n",
       "\n",
       "    .dataframe tbody tr th {\n",
       "        vertical-align: top;\n",
       "    }\n",
       "\n",
       "    .dataframe thead th {\n",
       "        text-align: right;\n",
       "    }\n",
       "</style>\n",
       "<table border=\"1\" class=\"dataframe\">\n",
       "  <thead>\n",
       "    <tr style=\"text-align: right;\">\n",
       "      <th></th>\n",
       "      <th>title</th>\n",
       "      <th>date</th>\n",
       "      <th>list</th>\n",
       "      <th>contents</th>\n",
       "    </tr>\n",
       "  </thead>\n",
       "  <tbody>\n",
       "    <tr>\n",
       "      <th>0</th>\n",
       "      <td>동서고속화철도-동해북부선 건설 본격 추진</td>\n",
       "      <td>2020.08.10.</td>\n",
       "      <td>G1</td>\n",
       "      <td>춘천~속초간 동서고속화철도와 강릉~제진간 동해북부선 건설 사업이 속도를 내고 있습니...</td>\n",
       "    </tr>\n",
       "    <tr>\n",
       "      <th>1</th>\n",
       "      <td>'남북철도 기반' 동해북부선 53년만에 복원한다</td>\n",
       "      <td>2020.04.27.</td>\n",
       "      <td>연합뉴스</td>\n",
       "      <td>김연철 장관은 기념사에서 \"동해북부선 건설은 우리 경제에 활력을 불어넣을 '한반도 ...</td>\n",
       "    </tr>\n",
       "    <tr>\n",
       "      <th>2</th>\n",
       "      <td>[전문] 김연철 \"동해북부선은 코로나19 경제회복 선제 조치\"</td>\n",
       "      <td>2020.04.27.</td>\n",
       "      <td>서울경제</td>\n",
       "      <td>동해북부선 건설 사업은 2000년부터 추진돼 왔던 남북 철도 연결 사업의 일환이다....</td>\n",
       "    </tr>\n",
       "    <tr>\n",
       "      <th>3</th>\n",
       "      <td>정부, '동해북부선' 마중물로 남북관계 개선 시동</td>\n",
       "      <td>2020.04.27.</td>\n",
       "      <td>파이낸셜뉴스</td>\n",
       "      <td>김연철 장관은 기념사를 통해 \"동해북부선 건설은 우리 경제에 활력을 불어넣을 새로운...</td>\n",
       "    </tr>\n",
       "    <tr>\n",
       "      <th>4</th>\n",
       "      <td>‘2.8兆 투입’ 동해북부선, 53년만에 잇는다…“한국판 뉴딜”</td>\n",
       "      <td>2020.04.27.</td>\n",
       "      <td>이데일리</td>\n",
       "      <td>동해북부선 건설사업은 지난 2000년부터 남북간 합의에 따라 추진해 온 남북 철도 ...</td>\n",
       "    </tr>\n",
       "    <tr>\n",
       "      <th>...</th>\n",
       "      <td>...</td>\n",
       "      <td>...</td>\n",
       "      <td>...</td>\n",
       "      <td>...</td>\n",
       "    </tr>\n",
       "    <tr>\n",
       "      <th>2035</th>\n",
       "      <td>[14일 낙찰/계약 동향] 구포역 외 1개역 에스컬레이터 보조브레이크 설치공사...</td>\n",
       "      <td>2020.04.14.</td>\n",
       "      <td>블록체인밸리</td>\n",
       "      <td>▲ 낙찰업체 : 동해건설 주식회사, 계약금액 : 56,632,600(원), 계약명 ...</td>\n",
       "    </tr>\n",
       "    <tr>\n",
       "      <th>2036</th>\n",
       "      <td>[6일 낙찰/계약 동향] 2층, 3층 복도 추락방지용 스텐안전봉 용접비 지급, 본...</td>\n",
       "      <td>2020.04.06.</td>\n",
       "      <td>블록체인밸리</td>\n",
       "      <td>▲ 낙찰업체 : 동해건설 주식회사, 계약금액 : 140,880,000(원), 계약명...</td>\n",
       "    </tr>\n",
       "    <tr>\n",
       "      <th>2037</th>\n",
       "      <td>[11일 낙찰/계약 동향] 화성시 전통시장 활성화 홍보영상 제작, 용산초 석면농...</td>\n",
       "      <td>2019.12.11.</td>\n",
       "      <td>블록체인밸리</td>\n",
       "      <td>▲ 낙찰업체 : 주식회사 동해건설, 계약금액 : 768,824,000(원), 계약명...</td>\n",
       "    </tr>\n",
       "    <tr>\n",
       "      <th>2038</th>\n",
       "      <td>[6일 낙찰/계약 동향] 2020년 하수도 소파수선공사(단가계약), 해남서초 소방...</td>\n",
       "      <td>2020.02.06.</td>\n",
       "      <td>블록체인밸리</td>\n",
       "      <td>▲ 낙찰업체 : (주)동해종합건설, 계약금액 : 133,326,900(원), 계약명...</td>\n",
       "    </tr>\n",
       "    <tr>\n",
       "      <th>2039</th>\n",
       "      <td>[9일 낙찰/계약 동향] 밀양강 푸르지오 아파트 신규급수공사, 화산 가좌 농로...</td>\n",
       "      <td>2019.10.09.</td>\n",
       "      <td>블록체인밸리</td>\n",
       "      <td>▲ 낙찰업체 : 동해건설주식회사, 계약금액 : 72,817,560(원), 계약명 :...</td>\n",
       "    </tr>\n",
       "  </tbody>\n",
       "</table>\n",
       "<p>2040 rows × 4 columns</p>\n",
       "</div>"
      ],
      "text/plain": [
       "                                                 title         date    list  \\\n",
       "0                               동서고속화철도-동해북부선 건설 본격 추진  2020.08.10.      G1   \n",
       "1                           '남북철도 기반' 동해북부선 53년만에 복원한다  2020.04.27.    연합뉴스   \n",
       "2                   [전문] 김연철 \"동해북부선은 코로나19 경제회복 선제 조치\"  2020.04.27.    서울경제   \n",
       "3                          정부, '동해북부선' 마중물로 남북관계 개선 시동  2020.04.27.  파이낸셜뉴스   \n",
       "4                  ‘2.8兆 투입’ 동해북부선, 53년만에 잇는다…“한국판 뉴딜”  2020.04.27.    이데일리   \n",
       "...                                                ...          ...     ...   \n",
       "2035    [14일 낙찰/계약 동향] 구포역 외 1개역 에스컬레이터 보조브레이크 설치공사...  2020.04.14.  블록체인밸리   \n",
       "2036  [6일 낙찰/계약 동향] 2층, 3층 복도 추락방지용 스텐안전봉 용접비 지급, 본...  2020.04.06.  블록체인밸리   \n",
       "2037   [11일 낙찰/계약 동향] 화성시 전통시장 활성화 홍보영상 제작, 용산초 석면농...  2019.12.11.  블록체인밸리   \n",
       "2038  [6일 낙찰/계약 동향] 2020년 하수도 소파수선공사(단가계약), 해남서초 소방...  2020.02.06.  블록체인밸리   \n",
       "2039    [9일 낙찰/계약 동향] 밀양강 푸르지오 아파트 신규급수공사, 화산 가좌 농로...  2019.10.09.  블록체인밸리   \n",
       "\n",
       "                                               contents  \n",
       "0     춘천~속초간 동서고속화철도와 강릉~제진간 동해북부선 건설 사업이 속도를 내고 있습니...  \n",
       "1     김연철 장관은 기념사에서 \"동해북부선 건설은 우리 경제에 활력을 불어넣을 '한반도 ...  \n",
       "2     동해북부선 건설 사업은 2000년부터 추진돼 왔던 남북 철도 연결 사업의 일환이다....  \n",
       "3     김연철 장관은 기념사를 통해 \"동해북부선 건설은 우리 경제에 활력을 불어넣을 새로운...  \n",
       "4     동해북부선 건설사업은 지난 2000년부터 남북간 합의에 따라 추진해 온 남북 철도 ...  \n",
       "...                                                 ...  \n",
       "2035  ▲ 낙찰업체 : 동해건설 주식회사, 계약금액 : 56,632,600(원), 계약명 ...  \n",
       "2036  ▲ 낙찰업체 : 동해건설 주식회사, 계약금액 : 140,880,000(원), 계약명...  \n",
       "2037  ▲ 낙찰업체 : 주식회사 동해건설, 계약금액 : 768,824,000(원), 계약명...  \n",
       "2038  ▲ 낙찰업체 : (주)동해종합건설, 계약금액 : 133,326,900(원), 계약명...  \n",
       "2039  ▲ 낙찰업체 : 동해건설주식회사, 계약금액 : 72,817,560(원), 계약명 :...  \n",
       "\n",
       "[2040 rows x 4 columns]"
      ]
     },
     "execution_count": 34,
     "metadata": {},
     "output_type": "execute_result"
    }
   ],
   "source": [
    "import pandas as pd\n",
    "df = pd.DataFrame({'title': subject, 'date': date, 'list': lists, 'contents': contents})\n",
    "df"
   ]
  },
  {
   "cell_type": "code",
   "execution_count": 35,
   "metadata": {},
   "outputs": [
    {
     "name": "stdout",
     "output_type": "stream",
     "text": [
      "2040 2040 2040 2040\n"
     ]
    }
   ],
   "source": [
    "print(len(subject), len(date), len(lists), len(contents))"
   ]
  },
  {
   "cell_type": "code",
   "execution_count": 49,
   "metadata": {},
   "outputs": [],
   "source": [
    "from konlpy.tag import Hannanum\n",
    "from tqdm.notebook import tqdm\n",
    "import datetime"
   ]
  },
  {
   "cell_type": "code",
   "execution_count": 50,
   "metadata": {},
   "outputs": [],
   "source": [
    "def sentence(df):\n",
    "    df['contents'] = df['contents'].str.replace(\"[^ㄱ-ㅎㅏ-ㅣ가-힣]\",\" \")\n",
    "\n",
    "    stopwords = ['을', '로', '의','가','이','은','들','는','좀','잘','걍',\n",
    "                 '과','도','를','으로','자','에','와','한','하다''의','가','이',\n",
    "                 '은','들','는','좀','잘','걍','과','도','를','으로','자','에','와',\n",
    "                 '한','하다']\n",
    "    hannanum = Hannanum()\n",
    "\n",
    "    content = []\n",
    "\n",
    "    for sentence in tqdm(df['contents']):\n",
    "        temp_x = []\n",
    "        temp_x = hnananum.nouns(sentence)\n",
    "        temp_x = [word for word in temp_x if not word in stopwords]\n",
    "        contents.append(temp_x)\n",
    "        \n",
    "    return contents   "
   ]
  },
  {
   "cell_type": "code",
   "execution_count": 51,
   "metadata": {},
   "outputs": [],
   "source": [
    "def tokenizers(contents):\n",
    "    tokenizer = Tokenizer()\n",
    "    tokenizer.fit_on_texts(contents)\n",
    "    sequences = tokenizer.texts_to_sequences(contents)\n",
    "    \n",
    "    word_to_index = tokenizer.word_index\n",
    "    index_to_word = {}\n",
    "    for key, value in word_to_index.items():\n",
    "        index_to_word[value] = key\n",
    "        \n",
    "    return index_to_word"
   ]
  },
  {
   "cell_type": "code",
   "execution_count": 52,
   "metadata": {},
   "outputs": [],
   "source": [
    "def word_count(contents):\n",
    "    wordlist = sum(contents, [])\n",
    "    word_counts = {}\n",
    "    \n",
    "    for word in wordlist:\n",
    "        word_counts[word] = word_counts.get(word, 0) + 1\n",
    "        keys = sorted(word_counts.keys())\n",
    "        \n",
    "    for word in keys:\n",
    "        print(word + ':' + str(word_counts[word]))"
   ]
  },
  {
   "cell_type": "code",
   "execution_count": 53,
   "metadata": {},
   "outputs": [],
   "source": [
    "name_list1 = '동해건설'"
   ]
  },
  {
   "cell_type": "code",
   "execution_count": 54,
   "metadata": {},
   "outputs": [
    {
     "ename": "NameError",
     "evalue": "name 'search' is not defined",
     "output_type": "error",
     "traceback": [
      "\u001b[1;31m---------------------------------------------------------------------------\u001b[0m",
      "\u001b[1;31mNameError\u001b[0m                                 Traceback (most recent call last)",
      "\u001b[1;32m<ipython-input-54-caadbd8c8eb6>\u001b[0m in \u001b[0;36m<module>\u001b[1;34m\u001b[0m\n\u001b[1;32m----> 1\u001b[1;33m \u001b[0mbankrup1\u001b[0m \u001b[1;33m=\u001b[0m \u001b[0msearch\u001b[0m\u001b[1;33m(\u001b[0m\u001b[0mname_list1\u001b[0m\u001b[1;33m)\u001b[0m\u001b[1;33m\u001b[0m\u001b[1;33m\u001b[0m\u001b[0m\n\u001b[0m",
      "\u001b[1;31mNameError\u001b[0m: name 'search' is not defined"
     ]
    }
   ],
   "source": [
    "bankrup1 = search(name_list1)"
   ]
  },
  {
   "cell_type": "code",
   "execution_count": null,
   "metadata": {},
   "outputs": [],
   "source": []
  }
 ],
 "metadata": {
  "kernelspec": {
   "display_name": "Python 3",
   "language": "python",
   "name": "python3"
  },
  "language_info": {
   "codemirror_mode": {
    "name": "ipython",
    "version": 3
   },
   "file_extension": ".py",
   "mimetype": "text/x-python",
   "name": "python",
   "nbconvert_exporter": "python",
   "pygments_lexer": "ipython3",
   "version": "3.7.7"
  }
 },
 "nbformat": 4,
 "nbformat_minor": 4
}
