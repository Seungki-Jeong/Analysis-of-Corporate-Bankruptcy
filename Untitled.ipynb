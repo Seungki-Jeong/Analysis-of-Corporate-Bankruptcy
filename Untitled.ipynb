{
 "cells": [
  {
   "cell_type": "markdown",
   "metadata": {},
   "source": [
    "## 전체 합치기"
   ]
  },
  {
   "cell_type": "code",
   "execution_count": 1,
   "metadata": {},
   "outputs": [],
   "source": [
    "import pandas as pd"
   ]
  },
  {
   "cell_type": "code",
   "execution_count": 6,
   "metadata": {},
   "outputs": [
    {
     "data": {
      "text/html": [
       "<div>\n",
       "<style scoped>\n",
       "    .dataframe tbody tr th:only-of-type {\n",
       "        vertical-align: middle;\n",
       "    }\n",
       "\n",
       "    .dataframe tbody tr th {\n",
       "        vertical-align: top;\n",
       "    }\n",
       "\n",
       "    .dataframe thead th {\n",
       "        text-align: right;\n",
       "    }\n",
       "</style>\n",
       "<table border=\"1\" class=\"dataframe\">\n",
       "  <thead>\n",
       "    <tr style=\"text-align: right;\">\n",
       "      <th></th>\n",
       "      <th>Unnamed: 0</th>\n",
       "      <th>date</th>\n",
       "      <th>유동자산</th>\n",
       "      <th>현금및현금성자산</th>\n",
       "      <th>매출채권 및 기타유동채권</th>\n",
       "      <th>단기금융상품</th>\n",
       "      <th>재고자산</th>\n",
       "      <th>당기법인세자산</th>\n",
       "      <th>기타유동자산</th>\n",
       "      <th>비유동자산</th>\n",
       "      <th>...</th>\n",
       "      <th>신주인수권부사채.1</th>\n",
       "      <th>부채총계</th>\n",
       "      <th>지배기업의 소유주에게 귀속되는 자본</th>\n",
       "      <th>자본금</th>\n",
       "      <th>기타자본구성요소</th>\n",
       "      <th>이익잉여금(결손금)</th>\n",
       "      <th>비지배지분</th>\n",
       "      <th>자본총계</th>\n",
       "      <th>자본과부채총계</th>\n",
       "      <th>company</th>\n",
       "    </tr>\n",
       "  </thead>\n",
       "  <tbody>\n",
       "    <tr>\n",
       "      <th>0</th>\n",
       "      <td>0</td>\n",
       "      <td>20111231</td>\n",
       "      <td>1.009693e+11</td>\n",
       "      <td>1.203523e+10</td>\n",
       "      <td>4.972530e+10</td>\n",
       "      <td>594819285.0</td>\n",
       "      <td>3.743670e+10</td>\n",
       "      <td>479333540.0</td>\n",
       "      <td>697948317.0</td>\n",
       "      <td>9.323735e+10</td>\n",
       "      <td>...</td>\n",
       "      <td>0.000000e+00</td>\n",
       "      <td>1.329270e+11</td>\n",
       "      <td>6.127969e+10</td>\n",
       "      <td>3.396000e+09</td>\n",
       "      <td>2.522143e+10</td>\n",
       "      <td>3.266226e+10</td>\n",
       "      <td>0.0</td>\n",
       "      <td>6.127969e+10</td>\n",
       "      <td>1.942067e+11</td>\n",
       "      <td>금강제강</td>\n",
       "    </tr>\n",
       "    <tr>\n",
       "      <th>1</th>\n",
       "      <td>1</td>\n",
       "      <td>20101231</td>\n",
       "      <td>9.980691e+10</td>\n",
       "      <td>3.971039e+09</td>\n",
       "      <td>6.117835e+10</td>\n",
       "      <td>841299167.0</td>\n",
       "      <td>3.334325e+10</td>\n",
       "      <td>29764124.0</td>\n",
       "      <td>443206523.0</td>\n",
       "      <td>7.967496e+10</td>\n",
       "      <td>...</td>\n",
       "      <td>4.509490e+09</td>\n",
       "      <td>1.072704e+11</td>\n",
       "      <td>7.221150e+10</td>\n",
       "      <td>3.396000e+09</td>\n",
       "      <td>2.522143e+10</td>\n",
       "      <td>4.359408e+10</td>\n",
       "      <td>0.0</td>\n",
       "      <td>7.221150e+10</td>\n",
       "      <td>1.794819e+11</td>\n",
       "      <td>금강제강</td>\n",
       "    </tr>\n",
       "    <tr>\n",
       "      <th>2</th>\n",
       "      <td>2</td>\n",
       "      <td>20091231</td>\n",
       "      <td>5.743515e+10</td>\n",
       "      <td>4.705984e+09</td>\n",
       "      <td>3.778673e+10</td>\n",
       "      <td>0.0</td>\n",
       "      <td>1.416677e+10</td>\n",
       "      <td>0.0</td>\n",
       "      <td>775669137.0</td>\n",
       "      <td>6.270629e+10</td>\n",
       "      <td>...</td>\n",
       "      <td>0.000000e+00</td>\n",
       "      <td>6.489338e+10</td>\n",
       "      <td>5.524806e+10</td>\n",
       "      <td>2.300000e+09</td>\n",
       "      <td>1.067746e+10</td>\n",
       "      <td>4.227061e+10</td>\n",
       "      <td>0.0</td>\n",
       "      <td>5.524806e+10</td>\n",
       "      <td>1.201414e+11</td>\n",
       "      <td>금강제강</td>\n",
       "    </tr>\n",
       "  </tbody>\n",
       "</table>\n",
       "<p>3 rows × 41 columns</p>\n",
       "</div>"
      ],
      "text/plain": [
       "   Unnamed: 0      date          유동자산      현금및현금성자산  매출채권 및 기타유동채권  \\\n",
       "0           0  20111231  1.009693e+11  1.203523e+10   4.972530e+10   \n",
       "1           1  20101231  9.980691e+10  3.971039e+09   6.117835e+10   \n",
       "2           2  20091231  5.743515e+10  4.705984e+09   3.778673e+10   \n",
       "\n",
       "        단기금융상품          재고자산      당기법인세자산       기타유동자산         비유동자산  ...  \\\n",
       "0  594819285.0  3.743670e+10  479333540.0  697948317.0  9.323735e+10  ...   \n",
       "1  841299167.0  3.334325e+10   29764124.0  443206523.0  7.967496e+10  ...   \n",
       "2          0.0  1.416677e+10          0.0  775669137.0  6.270629e+10  ...   \n",
       "\n",
       "     신주인수권부사채.1          부채총계  지배기업의 소유주에게 귀속되는 자본           자본금  \\\n",
       "0  0.000000e+00  1.329270e+11         6.127969e+10  3.396000e+09   \n",
       "1  4.509490e+09  1.072704e+11         7.221150e+10  3.396000e+09   \n",
       "2  0.000000e+00  6.489338e+10         5.524806e+10  2.300000e+09   \n",
       "\n",
       "       기타자본구성요소    이익잉여금(결손금)  비지배지분          자본총계       자본과부채총계  company  \n",
       "0  2.522143e+10  3.266226e+10    0.0  6.127969e+10  1.942067e+11     금강제강  \n",
       "1  2.522143e+10  4.359408e+10    0.0  7.221150e+10  1.794819e+11     금강제강  \n",
       "2  1.067746e+10  4.227061e+10    0.0  5.524806e+10  1.201414e+11     금강제강  \n",
       "\n",
       "[3 rows x 41 columns]"
      ]
     },
     "execution_count": 6,
     "metadata": {},
     "output_type": "execute_result"
    }
   ],
   "source": [
    "a = pd.read_csv(\"data/test 금강제강.csv\")\n",
    "b = pd.read_csv('data/test 데코앤이.csv')\n",
    "c = pd.read_csv('data/test 미주제강.csv')\n",
    "e = pd.read_csv('data/test 배명금속.csv')\n",
    "f = pd.read_csv('data/test 풍림산업.csv')\n",
    "a.head()"
   ]
  },
  {
   "cell_type": "code",
   "execution_count": 8,
   "metadata": {},
   "outputs": [
    {
     "data": {
      "text/plain": [
       "Index(['Unnamed: 0', 'date', '유동자산', '현금및현금성자산', '단기금융상품', '매출채권 및 기타유동채권',\n",
       "       '만기보유금융자산', '재고자산', '기타유동자산', '비유동자산', '매도가능금융자산', '만기보유금융자산.1',\n",
       "       '장기금융상품', '장기매출채권 및 기타비유동채권', '당기손익인식금융자산', '유형자산', '투자부동산', '무형자산',\n",
       "       '이연법인세자산', '기타비유동자산', '자산총계', '유동부채', '매입채무 및 기타유동채무', '단기차입부채',\n",
       "       '금융보증부채', '하자보수충당부채', '손해배상충당부채', '기타유동부채', '비유동부채', '장기매입채무 및 기타비유동채무',\n",
       "       '장기차입부채', '당기손인인식금융부채', '확정급여부채', '기타비유동채무', '이연법인세부채', '부채총계',\n",
       "       '지배기업소유주지분', '자본금', '자본잉여금', '자기주식', '기타자본', '이익잉여금(결손금)',\n",
       "       '지배기업소유주지분 합계', '비지배지분', '자본총계', '자본과부채총계', 'company'],\n",
       "      dtype='object')"
      ]
     },
     "execution_count": 8,
     "metadata": {},
     "output_type": "execute_result"
    }
   ],
   "source": [
    "f.columns"
   ]
  },
  {
   "cell_type": "code",
   "execution_count": 9,
   "metadata": {},
   "outputs": [
    {
     "data": {
      "text/plain": [
       "Index(['Unnamed: 0', 'date', '유동자산', '현금및현금성자산', '기타유동금융자산', '매출채권 및 기타유동채권',\n",
       "       '기타유동비금융자산', '당기법인세자산', '재고자산', '비유동자산', '기타비유동금융자산', '매도가능금융자산',\n",
       "       '유형자산', '영업권 이외의 무형자산', '기타비유동비금융자산', '투자부동산', '매각예정비유동자산', '자산총계',\n",
       "       '유동부채', '매입채무 및 기타유동채무', '단기차입금', '기타유동비금융부채', '당기법인세부채', '손해배상충당부채',\n",
       "       '신주인수권부사채', '비유동부채', '퇴직급여채무', '비유동충당부채합계', '이연법인세부채', '부채총계',\n",
       "       '지배기업의 소유주에게 귀속되는 자본', '납입자본', '기타자본구성요소', '기타포괄손익누계액', '이익잉여금(결손금)',\n",
       "       '비지배지분', '자본총계', '자본과부채총계', 'company'],\n",
       "      dtype='object')"
      ]
     },
     "execution_count": 9,
     "metadata": {},
     "output_type": "execute_result"
    }
   ],
   "source": [
    "e.columns"
   ]
  },
  {
   "cell_type": "code",
   "execution_count": null,
   "metadata": {},
   "outputs": [],
   "source": []
  }
 ],
 "metadata": {
  "kernelspec": {
   "display_name": "Python 3",
   "language": "python",
   "name": "python3"
  },
  "language_info": {
   "codemirror_mode": {
    "name": "ipython",
    "version": 3
   },
   "file_extension": ".py",
   "mimetype": "text/x-python",
   "name": "python",
   "nbconvert_exporter": "python",
   "pygments_lexer": "ipython3",
   "version": "3.7.7"
  }
 },
 "nbformat": 4,
 "nbformat_minor": 4
}
