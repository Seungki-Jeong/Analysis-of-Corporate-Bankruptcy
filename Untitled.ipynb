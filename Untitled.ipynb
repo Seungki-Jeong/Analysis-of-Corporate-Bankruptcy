{
 "cells": [
  {
   "cell_type": "markdown",
   "metadata": {},
   "source": [
    "## 전체 합치기"
   ]
  },
  {
   "cell_type": "code",
   "execution_count": 43,
   "metadata": {},
   "outputs": [],
   "source": [
    "import pandas as pd\n",
    "import os"
   ]
  },
  {
   "cell_type": "code",
   "execution_count": 44,
   "metadata": {},
   "outputs": [],
   "source": [
    "PATH = 'data/최종/'"
   ]
  },
  {
   "cell_type": "code",
   "execution_count": 45,
   "metadata": {},
   "outputs": [
    {
     "data": {
      "text/plain": [
       "'data/최종/'"
      ]
     },
     "execution_count": 45,
     "metadata": {},
     "output_type": "execute_result"
    }
   ],
   "source": [
    "os.path.join(PATH)"
   ]
  },
  {
   "cell_type": "code",
   "execution_count": 46,
   "metadata": {},
   "outputs": [],
   "source": [
    "bs_list = os.listdir(os.path.join(PATH+'재무재표 전처리'))\n",
    "cis_list = os.listdir(os.path.join(PATH+'포괄손익계산서 전처리'))"
   ]
  },
  {
   "cell_type": "code",
   "execution_count": 47,
   "metadata": {},
   "outputs": [
    {
     "data": {
      "text/plain": [
       "['금강제강.csv', '배명금속.csv', '재무상태표 통합.csv', '풍림산업.csv']"
      ]
     },
     "execution_count": 47,
     "metadata": {},
     "output_type": "execute_result"
    }
   ],
   "source": [
    "bs_list"
   ]
  },
  {
   "cell_type": "code",
   "execution_count": 48,
   "metadata": {},
   "outputs": [],
   "source": [
    "bin2 = pd.DataFrame()"
   ]
  },
  {
   "cell_type": "code",
   "execution_count": 49,
   "metadata": {},
   "outputs": [
    {
     "name": "stdout",
     "output_type": "stream",
     "text": [
      "금강제강.csv\n",
      "배명금속.csv\n",
      "포괄손익계산서 통합.csv\n",
      "풍림산업.csv\n"
     ]
    }
   ],
   "source": [
    "for bl in cis_list:\n",
    "    print(bl)\n",
    "    df = pd.read_csv(os.path.join(PATH+'포괄손익계산서 전처리/')+bl)\n",
    "    bin2 = pd.concat([bin2, df])"
   ]
  },
  {
   "cell_type": "code",
   "execution_count": 50,
   "metadata": {},
   "outputs": [],
   "source": [
    "bin2.to_csv('test.csv')"
   ]
  },
  {
   "cell_type": "code",
   "execution_count": 17,
   "metadata": {},
   "outputs": [
    {
     "name": "stdout",
     "output_type": "stream",
     "text": [
      "금강제강.csv\n",
      "Index(['date', '수익', '매출원가', '매출총이익', '판매비', '관리비', '경상개발비', '기타수익',\n",
      "       '기타비용(기능별)', '영업이익(손실)', '금융수익', '금융원가', '법인세비용차감전순이익(손실)', '법인세비용',\n",
      "       '당기순이익(손실)', '지배기업의 소유주에게 귀속되는 당기순이익(손실)', '비지배지분에 귀속되는 당기순이익(손실)',\n",
      "       '기타포괄손익', '보험수리적이익(손실)', '기타포괄손익법인세효과', '총포괄손익',\n",
      "       '포괄손익, 지배기업의 소유주에게 귀속되는 지분', '포괄손익, 비지배지분', '기본주당이익(손실)', 'company'],\n",
      "      dtype='object')\n",
      "배명금속.csv\n",
      "Index(['date', '수익', '매출원가', '매출총이익', '판매비와관리비', '영업이익(손실)', '기타수익', '기타비용',\n",
      "       '금융수익', '금융원가', '법인세비용차감전순이익(손실)', '법인세비용', '당기순이익(손실)',\n",
      "       '지배기업의 소유주에게 귀속되는 당기순이익(손실)', '비지배지분에 귀속되는 당기순이익(손실)', '연결기타포괄손익',\n",
      "       '해외사업환산손익', '보험수리적손익', '연결당기총포괄이익', '포괄손익, 지배기업의 소유주에게 귀속되는 지분',\n",
      "       '포괄손익, 비지배지분', '기본주당이익(손실)', 'company'],\n",
      "      dtype='object')\n",
      "포괄손익계산서 통합.csv\n",
      "Index(['date', 'company', '매출총이익', '법인세비용차감전순이익(손실)', '당기순이익(손실)'], dtype='object')\n",
      "풍림산업.csv\n",
      "Index(['date', '수익', '국내공사수입', '해외공사수입', '임대수입', '제품매출수입', '기타매출수입', '분양매출수입',\n",
      "       '매출원가', '국내공사원가', '해외공사원가', '임대원가', '제품매출원가', '기타매출원가', '분양매출원가',\n",
      "       '매출총이익', '판매비와관리비', '기타수익', '기타비용', '영업이익(손실)', '금융수익', '금융원가',\n",
      "       '법인세비용차감전순이익(손실)', '법인세비용', '당기순이익(손실)', '당기순손실의 귀속:', '지배기업 소유주지분',\n",
      "       '비지배지분', '기타포괄손익', '해외사업환산손익', '매도가능금융자산평가손익', '보험수리적손익', '총포괄손익',\n",
      "       '포괄손익, 지배기업의 소유주에게 귀속되는 지분', '포괄손익, 비지배지분', '기본주당이익(손실)', '희석주당이익(손실)',\n",
      "       'company'],\n",
      "      dtype='object')\n"
     ]
    }
   ],
   "source": [
    "for cl in cis_list:\n",
    "    print(cl)\n",
    "    df = pd.read_csv(os.path.join(PATH+'포괄손익계산서 전처리/')+cl)\n",
    "    print(df.columns)"
   ]
  },
  {
   "cell_type": "code",
   "execution_count": 8,
   "metadata": {},
   "outputs": [
    {
     "data": {
      "text/plain": [
       "Index(['Unnamed: 0', 'date', '유동자산', '현금및현금성자산', '단기금융상품', '매출채권 및 기타유동채권',\n",
       "       '만기보유금융자산', '재고자산', '기타유동자산', '비유동자산', '매도가능금융자산', '만기보유금융자산.1',\n",
       "       '장기금융상품', '장기매출채권 및 기타비유동채권', '당기손익인식금융자산', '유형자산', '투자부동산', '무형자산',\n",
       "       '이연법인세자산', '기타비유동자산', '자산총계', '유동부채', '매입채무 및 기타유동채무', '단기차입부채',\n",
       "       '금융보증부채', '하자보수충당부채', '손해배상충당부채', '기타유동부채', '비유동부채', '장기매입채무 및 기타비유동채무',\n",
       "       '장기차입부채', '당기손인인식금융부채', '확정급여부채', '기타비유동채무', '이연법인세부채', '부채총계',\n",
       "       '지배기업소유주지분', '자본금', '자본잉여금', '자기주식', '기타자본', '이익잉여금(결손금)',\n",
       "       '지배기업소유주지분 합계', '비지배지분', '자본총계', '자본과부채총계', 'company'],\n",
       "      dtype='object')"
      ]
     },
     "execution_count": 8,
     "metadata": {},
     "output_type": "execute_result"
    }
   ],
   "source": [
    "f.columns"
   ]
  },
  {
   "cell_type": "code",
   "execution_count": 9,
   "metadata": {},
   "outputs": [
    {
     "data": {
      "text/plain": [
       "Index(['Unnamed: 0', 'date', '유동자산', '현금및현금성자산', '기타유동금융자산', '매출채권 및 기타유동채권',\n",
       "       '기타유동비금융자산', '당기법인세자산', '재고자산', '비유동자산', '기타비유동금융자산', '매도가능금융자산',\n",
       "       '유형자산', '영업권 이외의 무형자산', '기타비유동비금융자산', '투자부동산', '매각예정비유동자산', '자산총계',\n",
       "       '유동부채', '매입채무 및 기타유동채무', '단기차입금', '기타유동비금융부채', '당기법인세부채', '손해배상충당부채',\n",
       "       '신주인수권부사채', '비유동부채', '퇴직급여채무', '비유동충당부채합계', '이연법인세부채', '부채총계',\n",
       "       '지배기업의 소유주에게 귀속되는 자본', '납입자본', '기타자본구성요소', '기타포괄손익누계액', '이익잉여금(결손금)',\n",
       "       '비지배지분', '자본총계', '자본과부채총계', 'company'],\n",
       "      dtype='object')"
      ]
     },
     "execution_count": 9,
     "metadata": {},
     "output_type": "execute_result"
    }
   ],
   "source": [
    "e.columns"
   ]
  },
  {
   "cell_type": "code",
   "execution_count": null,
   "metadata": {},
   "outputs": [],
   "source": []
  }
 ],
 "metadata": {
  "kernelspec": {
   "display_name": "Python 3",
   "language": "python",
   "name": "python3"
  },
  "language_info": {
   "codemirror_mode": {
    "name": "ipython",
    "version": 3
   },
   "file_extension": ".py",
   "mimetype": "text/x-python",
   "name": "python",
   "nbconvert_exporter": "python",
   "pygments_lexer": "ipython3",
   "version": "3.7.9"
  }
 },
 "nbformat": 4,
 "nbformat_minor": 4
}
