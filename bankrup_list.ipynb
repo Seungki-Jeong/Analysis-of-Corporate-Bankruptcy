{
 "cells": [
  {
   "cell_type": "code",
   "execution_count": 123,
   "metadata": {},
   "outputs": [],
   "source": [
    "from selenium import webdriver\n",
    "from bs4 import BeautifulSoup\n",
    "import pandas as pd"
   ]
  },
  {
   "cell_type": "code",
   "execution_count": 21,
   "metadata": {},
   "outputs": [],
   "source": [
    "driver = webdriver.Chrome('D:/workspace/chromedriver')\n",
    "driver.implicitly_wait(3)\n",
    "driver.get('https://www.knote.kr/qryDangjwaStop.do')\n",
    "driver.find_element_by_xpath('//*[@id=\"sort_02\"]').click()\n",
    "driver.find_element_by_name('beginYear').send_keys('2018')\n",
    "driver.find_element_by_name('beginMonth').send_keys('1')\n",
    "driver.find_element_by_name('beginDay').send_keys('1')\n",
    "driver.find_element_by_name('endYear').send_keys('2019')\n",
    "driver.find_element_by_name('endMonth').send_keys('12')\n",
    "driver.find_element_by_name('endDay').send_keys('31')\n",
    "driver.find_element_by_xpath('//*[@class=\"btn_ty4\"]').click()\n",
    "html = driver.page_source"
   ]
  },
  {
   "cell_type": "code",
   "execution_count": 70,
   "metadata": {},
   "outputs": [],
   "source": [
    "soup = BeautifulSoup(html, 'html.parser')\n",
    "source = soup.select('tbody > tr > td')\n",
    "comp_name = source\n",
    "date = source"
   ]
  },
  {
   "cell_type": "code",
   "execution_count": 119,
   "metadata": {},
   "outputs": [],
   "source": [
    "name_list = []\n",
    "date_list = []\n",
    "\n",
    "name_num = 4\n",
    "date_num = 7\n",
    "\n",
    "count = 0\n",
    "for li in range(len(source)):\n",
    "    if li == name_num:\n",
    "        name_list.append(comp_name[name_num].text)\n",
    "        name_num += 5\n",
    "    if li == date_num:\n",
    "        date_list.append(date[date_num].text)\n",
    "        date_num += 5\n",
    "    else:\n",
    "        pass"
   ]
  },
  {
   "cell_type": "code",
   "execution_count": 171,
   "metadata": {},
   "outputs": [
    {
     "name": "stdout",
     "output_type": "stream",
     "text": [
      "2903 580 580\n"
     ]
    }
   ],
   "source": [
    "print(len(source), len(name_list), len(date_list))"
   ]
  },
  {
   "cell_type": "code",
   "execution_count": 167,
   "metadata": {},
   "outputs": [
    {
     "data": {
      "text/html": [
       "<div>\n",
       "<style scoped>\n",
       "    .dataframe tbody tr th:only-of-type {\n",
       "        vertical-align: middle;\n",
       "    }\n",
       "\n",
       "    .dataframe tbody tr th {\n",
       "        vertical-align: top;\n",
       "    }\n",
       "\n",
       "    .dataframe thead th {\n",
       "        text-align: right;\n",
       "    }\n",
       "</style>\n",
       "<table border=\"1\" class=\"dataframe\">\n",
       "  <thead>\n",
       "    <tr style=\"text-align: right;\">\n",
       "      <th></th>\n",
       "      <th>company</th>\n",
       "      <th>date</th>\n",
       "    </tr>\n",
       "  </thead>\n",
       "  <tbody>\n",
       "    <tr>\n",
       "      <th>0</th>\n",
       "      <td>(유)동해건업</td>\n",
       "      <td>20190403</td>\n",
       "    </tr>\n",
       "    <tr>\n",
       "      <th>1</th>\n",
       "      <td>(유)부강산업개발</td>\n",
       "      <td>20181017</td>\n",
       "    </tr>\n",
       "    <tr>\n",
       "      <th>2</th>\n",
       "      <td>(유)세일디앤아이</td>\n",
       "      <td>20190110</td>\n",
       "    </tr>\n",
       "    <tr>\n",
       "      <th>3</th>\n",
       "      <td>(유)장수</td>\n",
       "      <td>20181107</td>\n",
       "    </tr>\n",
       "    <tr>\n",
       "      <th>4</th>\n",
       "      <td>(의)서구의료재단여수성심병원</td>\n",
       "      <td>20191204</td>\n",
       "    </tr>\n",
       "  </tbody>\n",
       "</table>\n",
       "</div>"
      ],
      "text/plain": [
       "                       company      date\n",
       "0    (유)동해건업                    20190403\n",
       "1      (유)부강산업개발                20181017\n",
       "2      (유)세일디앤아이                20190110\n",
       "3  (유)장수                        20181107\n",
       "4            (의)서구의료재단여수성심병원    20191204"
      ]
     },
     "execution_count": 167,
     "metadata": {},
     "output_type": "execute_result"
    }
   ],
   "source": [
    "bankrup = pd.DataFrame(data = list(zip(name_list, date_list)), columns = ['company', 'date'])\n",
    "bankrup.head()"
   ]
  },
  {
   "cell_type": "code",
   "execution_count": 168,
   "metadata": {},
   "outputs": [],
   "source": [
    "bankrup = bankrup.loc[bankrup['company'] != ' '].reset_index(drop=True)"
   ]
  },
  {
   "cell_type": "code",
   "execution_count": 169,
   "metadata": {},
   "outputs": [
    {
     "data": {
      "text/html": [
       "<div>\n",
       "<style scoped>\n",
       "    .dataframe tbody tr th:only-of-type {\n",
       "        vertical-align: middle;\n",
       "    }\n",
       "\n",
       "    .dataframe tbody tr th {\n",
       "        vertical-align: top;\n",
       "    }\n",
       "\n",
       "    .dataframe thead th {\n",
       "        text-align: right;\n",
       "    }\n",
       "</style>\n",
       "<table border=\"1\" class=\"dataframe\">\n",
       "  <thead>\n",
       "    <tr style=\"text-align: right;\">\n",
       "      <th></th>\n",
       "      <th>company</th>\n",
       "      <th>date</th>\n",
       "    </tr>\n",
       "  </thead>\n",
       "  <tbody>\n",
       "    <tr>\n",
       "      <th>0</th>\n",
       "      <td>(유)동해건업</td>\n",
       "      <td>20190403</td>\n",
       "    </tr>\n",
       "    <tr>\n",
       "      <th>1</th>\n",
       "      <td>(유)부강산업개발</td>\n",
       "      <td>20181017</td>\n",
       "    </tr>\n",
       "    <tr>\n",
       "      <th>2</th>\n",
       "      <td>(유)세일디앤아이</td>\n",
       "      <td>20190110</td>\n",
       "    </tr>\n",
       "    <tr>\n",
       "      <th>3</th>\n",
       "      <td>(유)장수</td>\n",
       "      <td>20181107</td>\n",
       "    </tr>\n",
       "    <tr>\n",
       "      <th>4</th>\n",
       "      <td>(의)서구의료재단여수성심병원</td>\n",
       "      <td>20191204</td>\n",
       "    </tr>\n",
       "    <tr>\n",
       "      <th>...</th>\n",
       "      <td>...</td>\n",
       "      <td>...</td>\n",
       "    </tr>\n",
       "    <tr>\n",
       "      <th>434</th>\n",
       "      <td>홍익엔지니어링(주)</td>\n",
       "      <td>20190402</td>\n",
       "    </tr>\n",
       "    <tr>\n",
       "      <th>435</th>\n",
       "      <td>홍주실업(주)</td>\n",
       "      <td>20181024</td>\n",
       "    </tr>\n",
       "    <tr>\n",
       "      <th>436</th>\n",
       "      <td>화신산업(주)</td>\n",
       "      <td>20191126</td>\n",
       "    </tr>\n",
       "    <tr>\n",
       "      <th>437</th>\n",
       "      <td>효진종합건설(주)</td>\n",
       "      <td>20181204</td>\n",
       "    </tr>\n",
       "    <tr>\n",
       "      <th>438</th>\n",
       "      <td>JS무역</td>\n",
       "      <td>20180907</td>\n",
       "    </tr>\n",
       "  </tbody>\n",
       "</table>\n",
       "<p>439 rows × 2 columns</p>\n",
       "</div>"
      ],
      "text/plain": [
       "                          company      date\n",
       "0       (유)동해건업                    20190403\n",
       "1         (유)부강산업개발                20181017\n",
       "2         (유)세일디앤아이                20190110\n",
       "3     (유)장수                        20181107\n",
       "4               (의)서구의료재단여수성심병원    20191204\n",
       "..                            ...       ...\n",
       "434        홍익엔지니어링(주)              20190402\n",
       "435     홍주실업(주)                    20181024\n",
       "436     화신산업(주)                    20191126\n",
       "437       효진종합건설(주)                20181204\n",
       "438  JS무역                          20180907\n",
       "\n",
       "[439 rows x 2 columns]"
      ]
     },
     "execution_count": 169,
     "metadata": {},
     "output_type": "execute_result"
    }
   ],
   "source": [
    "bankrup"
   ]
  },
  {
   "cell_type": "code",
   "execution_count": 170,
   "metadata": {},
   "outputs": [],
   "source": [
    "bankrup.to_csv(\"data/bankrup_list.csv\",index = False)"
   ]
  },
  {
   "cell_type": "code",
   "execution_count": null,
   "metadata": {},
   "outputs": [],
   "source": []
  }
 ],
 "metadata": {
  "kernelspec": {
   "display_name": "Python 3",
   "language": "python",
   "name": "python3"
  },
  "language_info": {
   "codemirror_mode": {
    "name": "ipython",
    "version": 3
   },
   "file_extension": ".py",
   "mimetype": "text/x-python",
   "name": "python",
   "nbconvert_exporter": "python",
   "pygments_lexer": "ipython3",
   "version": "3.7.7"
  }
 },
 "nbformat": 4,
 "nbformat_minor": 4
}