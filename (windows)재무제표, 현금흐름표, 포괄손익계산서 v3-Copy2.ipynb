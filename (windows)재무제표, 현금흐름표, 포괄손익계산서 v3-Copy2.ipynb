{
 "cells": [
  {
   "cell_type": "code",
   "execution_count": 49,
   "metadata": {},
   "outputs": [],
   "source": [
    "import pandas as pd\n",
    "import re\n",
    "import os"
   ]
  },
  {
   "cell_type": "code",
   "execution_count": 10,
   "metadata": {},
   "outputs": [],
   "source": [
    "FOLDER_PATH = 'data/최종/'"
   ]
  },
  {
   "cell_type": "code",
   "execution_count": 3,
   "metadata": {},
   "outputs": [],
   "source": [
    "file_list = os.listdir(FOLDER_PATH)\n"
   ]
  },
  {
   "cell_type": "code",
   "execution_count": 56,
   "metadata": {},
   "outputs": [],
   "source": [
    "var1 = ['자본총계', '자산총계', '매입채무', '매출채권', '부채총계', '유동부채', '유동자산', '재고자산']\n",
    "var2 = ['매출총이익', '법인세비용차감전순이익', '당기순이익']"
   ]
  },
  {
   "cell_type": "code",
   "execution_count": 21,
   "metadata": {},
   "outputs": [],
   "source": [
    "file_list1 = os.listdir(FOLDER_PATH +'재무재표 전처리/')\n",
    "file_list2 = os.listdir(FOLDER_PATH +'포괄손익계산서 전처리/')"
   ]
  },
  {
   "cell_type": "code",
   "execution_count": 22,
   "metadata": {},
   "outputs": [
    {
     "data": {
      "text/plain": [
       "['금강제강.csv', '배명금속.csv', '풍림산업.csv']"
      ]
     },
     "execution_count": 22,
     "metadata": {},
     "output_type": "execute_result"
    }
   ],
   "source": [
    "file_list1"
   ]
  },
  {
   "cell_type": "code",
   "execution_count": 23,
   "metadata": {},
   "outputs": [
    {
     "data": {
      "text/plain": [
       "['금강제강.csv', '배명금속.csv', '풍림산업.csv']"
      ]
     },
     "execution_count": 23,
     "metadata": {},
     "output_type": "execute_result"
    }
   ],
   "source": [
    "file_list2"
   ]
  },
  {
   "cell_type": "code",
   "execution_count": 24,
   "metadata": {},
   "outputs": [],
   "source": [
    "v1 = pd.read_csv(os.path.join(FOLDER_PATH + '재무재표 전처리/' + file_list1[0]))\n",
    "v2 = pd.read_csv(os.path.join(FOLDER_PATH + '포괄손익계산서 전처리/' + file_list1[0]))"
   ]
  },
  {
   "cell_type": "code",
   "execution_count": 93,
   "metadata": {},
   "outputs": [],
   "source": [
    "v1_t = ['date','company','자본총계', '자산총계','매입채무 및 기타유동채무', '매출채권 및 기타유동채권', '부채총계', '유동부채', '유동자산', '재고자산']"
   ]
  },
  {
   "cell_type": "code",
   "execution_count": null,
   "metadata": {},
   "outputs": [],
   "source": [
    "v2_t = ['date','company']"
   ]
  },
  {
   "cell_type": "code",
   "execution_count": 94,
   "metadata": {},
   "outputs": [
    {
     "data": {
      "text/html": [
       "<div>\n",
       "<style scoped>\n",
       "    .dataframe tbody tr th:only-of-type {\n",
       "        vertical-align: middle;\n",
       "    }\n",
       "\n",
       "    .dataframe tbody tr th {\n",
       "        vertical-align: top;\n",
       "    }\n",
       "\n",
       "    .dataframe thead th {\n",
       "        text-align: right;\n",
       "    }\n",
       "</style>\n",
       "<table border=\"1\" class=\"dataframe\">\n",
       "  <thead>\n",
       "    <tr style=\"text-align: right;\">\n",
       "      <th></th>\n",
       "      <th>date</th>\n",
       "      <th>company</th>\n",
       "      <th>자본총계</th>\n",
       "      <th>자산총계</th>\n",
       "      <th>매입채무 및 기타유동채무</th>\n",
       "      <th>매출채권 및 기타유동채권</th>\n",
       "      <th>부채총계</th>\n",
       "      <th>유동부채</th>\n",
       "      <th>유동자산</th>\n",
       "      <th>재고자산</th>\n",
       "    </tr>\n",
       "  </thead>\n",
       "  <tbody>\n",
       "    <tr>\n",
       "      <th>0</th>\n",
       "      <td>20111231</td>\n",
       "      <td>금강제강</td>\n",
       "      <td>6.127969e+10</td>\n",
       "      <td>1.942067e+11</td>\n",
       "      <td>3.911075e+10</td>\n",
       "      <td>4.972530e+10</td>\n",
       "      <td>1.329270e+11</td>\n",
       "      <td>1.139850e+11</td>\n",
       "      <td>1.009693e+11</td>\n",
       "      <td>3.743670e+10</td>\n",
       "    </tr>\n",
       "    <tr>\n",
       "      <th>1</th>\n",
       "      <td>20101231</td>\n",
       "      <td>금강제강</td>\n",
       "      <td>7.221150e+10</td>\n",
       "      <td>1.794819e+11</td>\n",
       "      <td>4.107451e+10</td>\n",
       "      <td>6.117835e+10</td>\n",
       "      <td>1.072704e+11</td>\n",
       "      <td>8.530256e+10</td>\n",
       "      <td>9.980691e+10</td>\n",
       "      <td>3.334325e+10</td>\n",
       "    </tr>\n",
       "    <tr>\n",
       "      <th>2</th>\n",
       "      <td>20091231</td>\n",
       "      <td>금강제강</td>\n",
       "      <td>5.524806e+10</td>\n",
       "      <td>1.201414e+11</td>\n",
       "      <td>2.102331e+10</td>\n",
       "      <td>3.778673e+10</td>\n",
       "      <td>6.489338e+10</td>\n",
       "      <td>5.099861e+10</td>\n",
       "      <td>5.743515e+10</td>\n",
       "      <td>1.416677e+10</td>\n",
       "    </tr>\n",
       "  </tbody>\n",
       "</table>\n",
       "</div>"
      ],
      "text/plain": [
       "       date company          자본총계          자산총계  매입채무 및 기타유동채무  매출채권 및 기타유동채권  \\\n",
       "0  20111231    금강제강  6.127969e+10  1.942067e+11   3.911075e+10   4.972530e+10   \n",
       "1  20101231    금강제강  7.221150e+10  1.794819e+11   4.107451e+10   6.117835e+10   \n",
       "2  20091231    금강제강  5.524806e+10  1.201414e+11   2.102331e+10   3.778673e+10   \n",
       "\n",
       "           부채총계          유동부채          유동자산          재고자산  \n",
       "0  1.329270e+11  1.139850e+11  1.009693e+11  3.743670e+10  \n",
       "1  1.072704e+11  8.530256e+10  9.980691e+10  3.334325e+10  \n",
       "2  6.489338e+10  5.099861e+10  5.743515e+10  1.416677e+10  "
      ]
     },
     "execution_count": 94,
     "metadata": {},
     "output_type": "execute_result"
    }
   ],
   "source": [
    "v1[v1_t]"
   ]
  },
  {
   "cell_type": "code",
   "execution_count": 26,
   "metadata": {},
   "outputs": [
    {
     "data": {
      "text/html": [
       "<div>\n",
       "<style scoped>\n",
       "    .dataframe tbody tr th:only-of-type {\n",
       "        vertical-align: middle;\n",
       "    }\n",
       "\n",
       "    .dataframe tbody tr th {\n",
       "        vertical-align: top;\n",
       "    }\n",
       "\n",
       "    .dataframe thead th {\n",
       "        text-align: right;\n",
       "    }\n",
       "</style>\n",
       "<table border=\"1\" class=\"dataframe\">\n",
       "  <thead>\n",
       "    <tr style=\"text-align: right;\">\n",
       "      <th></th>\n",
       "      <th>date</th>\n",
       "      <th>수익</th>\n",
       "      <th>매출원가</th>\n",
       "      <th>매출총이익</th>\n",
       "      <th>판매비</th>\n",
       "      <th>관리비</th>\n",
       "      <th>경상개발비</th>\n",
       "      <th>기타수익</th>\n",
       "      <th>기타비용(기능별)</th>\n",
       "      <th>영업이익(손실)</th>\n",
       "      <th>...</th>\n",
       "      <th>지배기업의 소유주에게 귀속되는 당기순이익(손실)</th>\n",
       "      <th>비지배지분에 귀속되는 당기순이익(손실)</th>\n",
       "      <th>기타포괄손익</th>\n",
       "      <th>보험수리적이익(손실)</th>\n",
       "      <th>기타포괄손익법인세효과</th>\n",
       "      <th>총포괄손익</th>\n",
       "      <th>포괄손익, 지배기업의 소유주에게 귀속되는 지분</th>\n",
       "      <th>포괄손익, 비지배지분</th>\n",
       "      <th>기본주당이익(손실)</th>\n",
       "      <th>company</th>\n",
       "    </tr>\n",
       "  </thead>\n",
       "  <tbody>\n",
       "    <tr>\n",
       "      <th>0</th>\n",
       "      <td>20110101-20111231</td>\n",
       "      <td>1.687744e+11</td>\n",
       "      <td>1.681825e+11</td>\n",
       "      <td>5.919071e+08</td>\n",
       "      <td>1.815242e+09</td>\n",
       "      <td>6.026654e+09</td>\n",
       "      <td>171133410.0</td>\n",
       "      <td>482096642.0</td>\n",
       "      <td>2.491642e+09</td>\n",
       "      <td>-9.430667e+09</td>\n",
       "      <td>...</td>\n",
       "      <td>-1.126087e+10</td>\n",
       "      <td>0.0</td>\n",
       "      <td>329058567.0</td>\n",
       "      <td>421869956.0</td>\n",
       "      <td>-92811389.0</td>\n",
       "      <td>-1.093181e+10</td>\n",
       "      <td>-1.093181e+10</td>\n",
       "      <td>0.0</td>\n",
       "      <td>-1672.0</td>\n",
       "      <td>금강제강</td>\n",
       "    </tr>\n",
       "    <tr>\n",
       "      <th>1</th>\n",
       "      <td>20100101-20101231</td>\n",
       "      <td>1.354578e+11</td>\n",
       "      <td>1.220133e+11</td>\n",
       "      <td>1.344448e+10</td>\n",
       "      <td>1.775374e+09</td>\n",
       "      <td>7.994726e+09</td>\n",
       "      <td>43282720.0</td>\n",
       "      <td>165800919.0</td>\n",
       "      <td>3.862113e+07</td>\n",
       "      <td>3.758273e+09</td>\n",
       "      <td>...</td>\n",
       "      <td>1.519307e+09</td>\n",
       "      <td>0.0</td>\n",
       "      <td>-195836837.0</td>\n",
       "      <td>-251072867.0</td>\n",
       "      <td>55236030.0</td>\n",
       "      <td>1.323470e+09</td>\n",
       "      <td>1.323470e+09</td>\n",
       "      <td>0.0</td>\n",
       "      <td>229.0</td>\n",
       "      <td>금강제강</td>\n",
       "    </tr>\n",
       "  </tbody>\n",
       "</table>\n",
       "<p>2 rows × 25 columns</p>\n",
       "</div>"
      ],
      "text/plain": [
       "                date            수익          매출원가         매출총이익           판매비  \\\n",
       "0  20110101-20111231  1.687744e+11  1.681825e+11  5.919071e+08  1.815242e+09   \n",
       "1  20100101-20101231  1.354578e+11  1.220133e+11  1.344448e+10  1.775374e+09   \n",
       "\n",
       "            관리비        경상개발비         기타수익     기타비용(기능별)      영업이익(손실)  ...  \\\n",
       "0  6.026654e+09  171133410.0  482096642.0  2.491642e+09 -9.430667e+09  ...   \n",
       "1  7.994726e+09   43282720.0  165800919.0  3.862113e+07  3.758273e+09  ...   \n",
       "\n",
       "   지배기업의 소유주에게 귀속되는 당기순이익(손실)  비지배지분에 귀속되는 당기순이익(손실)       기타포괄손익  \\\n",
       "0               -1.126087e+10                    0.0  329058567.0   \n",
       "1                1.519307e+09                    0.0 -195836837.0   \n",
       "\n",
       "   보험수리적이익(손실)  기타포괄손익법인세효과         총포괄손익  포괄손익, 지배기업의 소유주에게 귀속되는 지분  \\\n",
       "0  421869956.0  -92811389.0 -1.093181e+10              -1.093181e+10   \n",
       "1 -251072867.0   55236030.0  1.323470e+09               1.323470e+09   \n",
       "\n",
       "   포괄손익, 비지배지분  기본주당이익(손실)  company  \n",
       "0          0.0     -1672.0     금강제강  \n",
       "1          0.0       229.0     금강제강  \n",
       "\n",
       "[2 rows x 25 columns]"
      ]
     },
     "execution_count": 26,
     "metadata": {},
     "output_type": "execute_result"
    }
   ],
   "source": [
    "v2"
   ]
  },
  {
   "cell_type": "code",
   "execution_count": 57,
   "metadata": {},
   "outputs": [],
   "source": [
    "ll = []\n",
    "temp = 0"
   ]
  },
  {
   "cell_type": "code",
   "execution_count": 80,
   "metadata": {},
   "outputs": [
    {
     "name": "stdout",
     "output_type": "stream",
     "text": [
      "자본총계\n",
      "자산총계\n",
      "매입채무 및 기타유동채무\n",
      "장기매입채무 및 기타비유동채무\n",
      "매출채권 및 기타유동채권\n",
      "장기매출채권 및 기타비유동채권\n",
      "부채총계\n",
      "자본과부채총계\n",
      "유동부채\n",
      "비유동부채\n",
      "유동자산\n",
      "기타유동자산\n",
      "비유동자산\n",
      "재고자산\n"
     ]
    }
   ],
   "source": [
    "for i in range(len(var1)):\n",
    "    for j in range(len(v1.columns)):\n",
    "        if var1[i] in v1.columns[j]:\n",
    "            print(v1.columns[j])\n"
   ]
  },
  {
   "cell_type": "code",
   "execution_count": null,
   "metadata": {},
   "outputs": [],
   "source": [
    "#var1 = ['자본총계', '자산총계', '매입채무', '매출채권', '부채총계', '유동부채', '유동자산', '재고자산']"
   ]
  },
  {
   "cell_type": "code",
   "execution_count": 72,
   "metadata": {},
   "outputs": [
    {
     "name": "stdout",
     "output_type": "stream",
     "text": [
      "매출총이익\n",
      "법인세비용차감전순이익(손실)\n",
      "당기순이익(손실)\n",
      "지배기업의 소유주에게 귀속되는 당기순이익(손실)\n",
      "비지배지분에 귀속되는 당기순이익(손실)\n"
     ]
    }
   ],
   "source": [
    "for i in range(len(var2)):\n",
    "    for j in range(len(v2.columns)):\n",
    "        if var2[i] in v2.columns[j]:\n",
    "            print(v2.columns[j])\n"
   ]
  },
  {
   "cell_type": "code",
   "execution_count": 81,
   "metadata": {},
   "outputs": [],
   "source": [
    "v3 = pd.read_csv(os.path.join(FOLDER_PATH + '재무재표 전처리/' + file_list1[1]))"
   ]
  },
  {
   "cell_type": "code",
   "execution_count": 83,
   "metadata": {},
   "outputs": [
    {
     "name": "stdout",
     "output_type": "stream",
     "text": [
      "자본총계\n",
      "자산총계\n",
      "매입채무 및 기타유동채무\n",
      "매출채권 및 기타유동채권\n",
      "부채총계\n",
      "자본과부채총계\n",
      "유동부채\n",
      "비유동부채\n",
      "유동자산\n",
      "비유동자산\n",
      "매각예정비유동자산\n",
      "재고자산\n"
     ]
    }
   ],
   "source": [
    "for i in range(len(var1)):\n",
    "    for j in range(len(v3.columns)):\n",
    "        if var1[i] in v3.columns[j]:\n",
    "            print(v3.columns[j])\n"
   ]
  },
  {
   "cell_type": "code",
   "execution_count": 82,
   "metadata": {},
   "outputs": [],
   "source": [
    "v4 = pd.read_csv(os.path.join(FOLDER_PATH + '재무재표 전처리/' + file_list1[2]))"
   ]
  },
  {
   "cell_type": "code",
   "execution_count": 84,
   "metadata": {},
   "outputs": [
    {
     "name": "stdout",
     "output_type": "stream",
     "text": [
      "자본총계\n",
      "자산총계\n",
      "매입채무 및 기타유동채무\n",
      "장기매입채무 및 기타비유동채무\n",
      "매출채권 및 기타유동채권\n",
      "장기매출채권 및 기타비유동채권\n",
      "부채총계\n",
      "자본과부채총계\n",
      "유동부채\n",
      "기타유동부채\n",
      "비유동부채\n",
      "유동자산\n",
      "기타유동자산\n",
      "비유동자산\n",
      "기타비유동자산\n",
      "재고자산\n"
     ]
    }
   ],
   "source": [
    "for i in range(len(var1)):\n",
    "    for j in range(len(v4.columns)):\n",
    "        if var1[i] in v4.columns[j]:\n",
    "            print(v4.columns[j])\n"
   ]
  },
  {
   "cell_type": "code",
   "execution_count": 79,
   "metadata": {},
   "outputs": [
    {
     "data": {
      "text/plain": [
       "10"
      ]
     },
     "execution_count": 79,
     "metadata": {},
     "output_type": "execute_result"
    }
   ],
   "source": [
    "len('당기순이익(손실))')"
   ]
  },
  {
   "cell_type": "code",
   "execution_count": 68,
   "metadata": {},
   "outputs": [
    {
     "data": {
      "text/plain": [
       "25"
      ]
     },
     "execution_count": 68,
     "metadata": {},
     "output_type": "execute_result"
    }
   ],
   "source": [
    "len(v2.columns)"
   ]
  },
  {
   "cell_type": "code",
   "execution_count": 69,
   "metadata": {},
   "outputs": [
    {
     "data": {
      "text/plain": [
       "23"
      ]
     },
     "execution_count": 69,
     "metadata": {},
     "output_type": "execute_result"
    }
   ],
   "source": [
    "len(v3.columns)"
   ]
  },
  {
   "cell_type": "code",
   "execution_count": 71,
   "metadata": {},
   "outputs": [
    {
     "data": {
      "text/plain": [
       "38"
      ]
     },
     "execution_count": 71,
     "metadata": {},
     "output_type": "execute_result"
    }
   ],
   "source": [
    "len(v4.columns)"
   ]
  },
  {
   "cell_type": "code",
   "execution_count": null,
   "metadata": {},
   "outputs": [],
   "source": []
  }
 ],
 "metadata": {
  "kernelspec": {
   "display_name": "Python 3",
   "language": "python",
   "name": "python3"
  },
  "language_info": {
   "codemirror_mode": {
    "name": "ipython",
    "version": 3
   },
   "file_extension": ".py",
   "mimetype": "text/x-python",
   "name": "python",
   "nbconvert_exporter": "python",
   "pygments_lexer": "ipython3",
   "version": "3.7.7"
  }
 },
 "nbformat": 4,
 "nbformat_minor": 4
}
