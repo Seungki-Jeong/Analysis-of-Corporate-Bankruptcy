{
 "cells": [
  {
   "cell_type": "code",
   "execution_count": 1,
   "metadata": {},
   "outputs": [],
   "source": [
    "import pandas as pd\n",
    "import time\n",
    "import re\n",
    "import datetime"
   ]
  },
  {
   "cell_type": "code",
   "execution_count": 2,
   "metadata": {},
   "outputs": [],
   "source": [
    "from selenium import webdriver\n",
    "from bs4 import BeautifulSoup\n",
    "from urllib.request import urlopen\n",
    "from urllib.parse import urljoin"
   ]
  },
  {
   "cell_type": "code",
   "execution_count": 3,
   "metadata": {},
   "outputs": [],
   "source": [
    "driver = webdriver.Chrome('chromedriver')\n",
    "driver.implicitly_wait(3)\n",
    "driver.get('https://search.naver.com/search.naver?where=news')"
   ]
  },
  {
   "cell_type": "code",
   "execution_count": null,
   "metadata": {},
   "outputs": [],
   "source": [
    "name_list = '에이앤티앤'"
   ]
  },
  {
   "cell_type": "code",
   "execution_count": null,
   "metadata": {},
   "outputs": [],
   "source": [
    "driver.find_element_by_name('query').send_keys(name_list)\n",
    "driver.find_element_by_class_name('bt_search').click()"
   ]
  },
  {
   "cell_type": "code",
   "execution_count": null,
   "metadata": {},
   "outputs": [],
   "source": [
    "title = []\n",
    "news_date = []\n",
    "word_data = []"
   ]
  },
  {
   "cell_type": "code",
   "execution_count": null,
   "metadata": {},
   "outputs": [],
   "source": [
    "date_re = re.compile(r'\\d\\d\\d\\d.\\d\\d.\\d\\d.')"
   ]
  },
  {
   "cell_type": "code",
   "execution_count": 8,
   "metadata": {},
   "outputs": [],
   "source": [
    "while True:\n",
    "    html = driver.page_source\n",
    "    soup = BeautifulSoup(html, 'html.parser')\n",
    "    title_list = soup.find_all(class_='_sp_each_title')\n",
    "    date = soup.find_all(class_='txt_inline')\n",
    "    word = soup.find_all(class_='type01')[0].find_all('dl')\n",
    "\n",
    "    for i in title_list:\n",
    "        title.append(i.get_text())\n",
    "\n",
    "    for dates in date:\n",
    "        try:\n",
    "            match = date_re.search(dates.get_text())\n",
    "            news_date.append(match.group())\n",
    "        except:\n",
    "            date_re2 = re.compile(r'\\d')\n",
    "            match = date_re2.search(dates.get_text())\n",
    "            m = int(match.group())\n",
    "            year = str(datetime.datetime.today().year)\n",
    "            month = str(datetime.datetime.today().month)\n",
    "            day = str(datetime.datetime.today().day-m)\n",
    "            result = year + '.' + month + '.' + day + '.'\n",
    "            news_date.append(result)\n",
    "    \n",
    "    for words in word:\n",
    "        word_data.append(words.find_all('dd')[1].get_text())\n",
    "    try:\n",
    "        if soup.find_all(class_='next')[0].get_text() != '다음페이지':\n",
    "            break\n",
    "        else: \n",
    "            driver.find_element_by_class_name('next').click()\n",
    "            driver.implicitly_wait(1)\n",
    "    except:\n",
    "        if soup.find(class_='next') != '다음페이지':\n",
    "            break"
   ]
  },
  {
   "cell_type": "code",
   "execution_count": null,
   "metadata": {},
   "outputs": [],
   "source": []
  },
  {
   "cell_type": "code",
   "execution_count": 9,
   "metadata": {},
   "outputs": [
    {
     "name": "stdout",
     "output_type": "stream",
     "text": [
      "812 812 812\n"
     ]
    }
   ],
   "source": [
    "print(len(title), len(news_date), len(word_data))"
   ]
  },
  {
   "cell_type": "code",
   "execution_count": 14,
   "metadata": {},
   "outputs": [],
   "source": [
    "final_history = title + news_date"
   ]
  },
  {
   "cell_type": "code",
   "execution_count": 10,
   "metadata": {},
   "outputs": [],
   "source": [
    "df = pd.DataFrame([title, news_date, word_data])"
   ]
  },
  {
   "cell_type": "code",
   "execution_count": 11,
   "metadata": {},
   "outputs": [],
   "source": [
    "df = df.T"
   ]
  },
  {
   "cell_type": "code",
   "execution_count": 13,
   "metadata": {},
   "outputs": [
    {
     "data": {
      "text/html": [
       "<div>\n",
       "<style scoped>\n",
       "    .dataframe tbody tr th:only-of-type {\n",
       "        vertical-align: middle;\n",
       "    }\n",
       "\n",
       "    .dataframe tbody tr th {\n",
       "        vertical-align: top;\n",
       "    }\n",
       "\n",
       "    .dataframe thead th {\n",
       "        text-align: right;\n",
       "    }\n",
       "</style>\n",
       "<table border=\"1\" class=\"dataframe\">\n",
       "  <thead>\n",
       "    <tr style=\"text-align: right;\">\n",
       "      <th></th>\n",
       "      <th>0</th>\n",
       "      <th>1</th>\n",
       "      <th>2</th>\n",
       "    </tr>\n",
       "  </thead>\n",
       "  <tbody>\n",
       "    <tr>\n",
       "      <th>0</th>\n",
       "      <td>[IB토마토](Today 공시)두산건설, 2분기 885억원 당기순손실</td>\n",
       "      <td>2020.08.14.</td>\n",
       "      <td>에이앤티앤(050320), 반기보고서 감사의견 '의견거절' 에이앤티앤은 올해 반기보...</td>\n",
       "    </tr>\n",
       "    <tr>\n",
       "      <th>1</th>\n",
       "      <td>에이앤티앤, '아래스'로 상호 변경</td>\n",
       "      <td>2020.07.27.</td>\n",
       "      <td>에이앤티앤(050320)은 상호를 아래스 주식회사로 변경한다고 27일 공시했다. 합...</td>\n",
       "    </tr>\n",
       "    <tr>\n",
       "      <th>2</th>\n",
       "      <td>에이앤티앤, 특별관계자 지분변동</td>\n",
       "      <td>2020.05.28.</td>\n",
       "      <td>에이앤티앤은 주식회사 티이알 및 특별관계자의 지분율이 0%에서 13.59%로 변동했...</td>\n",
       "    </tr>\n",
       "    <tr>\n",
       "      <th>3</th>\n",
       "      <td>증선위, KT&amp;G 분식회계 '고의성 없다' 최종 결론…검찰고발 피해</td>\n",
       "      <td>2020.07.15.</td>\n",
       "      <td>상장사 에이앤티앤에 대해서는 검찰 고발과 임원 면직 권고, 과징금 부과(부과액은 금...</td>\n",
       "    </tr>\n",
       "    <tr>\n",
       "      <th>4</th>\n",
       "      <td>에이앤티앤 “회계처리 위반으로 과징금·檢고발 조치받아”</td>\n",
       "      <td>2020.07.23.</td>\n",
       "      <td>에이앤티앤(050320)은 회계처리기준 위반 행위로 인해 지난 15일 증권선물위원회...</td>\n",
       "    </tr>\n",
       "    <tr>\n",
       "      <th>...</th>\n",
       "      <td>...</td>\n",
       "      <td>...</td>\n",
       "      <td>...</td>\n",
       "    </tr>\n",
       "    <tr>\n",
       "      <th>807</th>\n",
       "      <td>[표](29일 장마감 기준) 코스피 코스닥 주식 거래 정지 종목 현황..자비스,스...</td>\n",
       "      <td>2019.10.29.</td>\n",
       "      <td>▲ 종목명 : 에이앤티앤, 에이앤티앤 거래정지일 : 2019.05.31, 에이앤티앤...</td>\n",
       "    </tr>\n",
       "    <tr>\n",
       "      <th>808</th>\n",
       "      <td>거래소 \"코스피·코스닥 상장사 중 41개사 관리종목 지정\"</td>\n",
       "      <td>2019.08.16.</td>\n",
       "      <td>라이트론, 에이앤티앤, 썬텍, 테라셈 등은 반기검토(감사)의견 비적정, 자본잠식률 ...</td>\n",
       "    </tr>\n",
       "    <tr>\n",
       "      <th>809</th>\n",
       "      <td>[표](28일 장마감 기준) 코스피 코스닥 주식 거래 정지 종목 현황...에이치엘...</td>\n",
       "      <td>2019.10.28.</td>\n",
       "      <td>▲ 종목명 : 에이앤티앤, 에이앤티앤 거래정지일 : 2019.05.31, 에이앤티앤...</td>\n",
       "    </tr>\n",
       "    <tr>\n",
       "      <th>810</th>\n",
       "      <td>[표](5일 장마감 기준) 코스피 코스닥 주식 거래 정지 종목 현황..더블유에프...</td>\n",
       "      <td>2019.12.05.</td>\n",
       "      <td>▲ 종목명 : 에이앤티앤, 에이앤티앤 거래정지일 : 2019.05.31, 에이앤티앤...</td>\n",
       "    </tr>\n",
       "    <tr>\n",
       "      <th>811</th>\n",
       "      <td>코스닥 우량 상장사 198개사, '공시내용 사전확인 절차 면제법인' 지정</td>\n",
       "      <td>2019.04.30.</td>\n",
       "      <td>경남제약, 셀바스AI, 에이앤티앤, 인터불스, EMW이나그레이트 등 28개사는 신규...</td>\n",
       "    </tr>\n",
       "  </tbody>\n",
       "</table>\n",
       "<p>812 rows × 3 columns</p>\n",
       "</div>"
      ],
      "text/plain": [
       "                                                    0            1  \\\n",
       "0              [IB토마토](Today 공시)두산건설, 2분기 885억원 당기순손실  2020.08.14.   \n",
       "1                                 에이앤티앤, '아래스'로 상호 변경  2020.07.27.   \n",
       "2                                   에이앤티앤, 특별관계자 지분변동  2020.05.28.   \n",
       "3               증선위, KT&G 분식회계 '고의성 없다' 최종 결론…검찰고발 피해  2020.07.15.   \n",
       "4                      에이앤티앤 “회계처리 위반으로 과징금·檢고발 조치받아”  2020.07.23.   \n",
       "..                                                ...          ...   \n",
       "807  [표](29일 장마감 기준) 코스피 코스닥 주식 거래 정지 종목 현황..자비스,스...  2019.10.29.   \n",
       "808                  거래소 \"코스피·코스닥 상장사 중 41개사 관리종목 지정\"  2019.08.16.   \n",
       "809  [표](28일 장마감 기준) 코스피 코스닥 주식 거래 정지 종목 현황...에이치엘...  2019.10.28.   \n",
       "810   [표](5일 장마감 기준) 코스피 코스닥 주식 거래 정지 종목 현황..더블유에프...  2019.12.05.   \n",
       "811          코스닥 우량 상장사 198개사, '공시내용 사전확인 절차 면제법인' 지정  2019.04.30.   \n",
       "\n",
       "                                                     2  \n",
       "0    에이앤티앤(050320), 반기보고서 감사의견 '의견거절' 에이앤티앤은 올해 반기보...  \n",
       "1    에이앤티앤(050320)은 상호를 아래스 주식회사로 변경한다고 27일 공시했다. 합...  \n",
       "2    에이앤티앤은 주식회사 티이알 및 특별관계자의 지분율이 0%에서 13.59%로 변동했...  \n",
       "3    상장사 에이앤티앤에 대해서는 검찰 고발과 임원 면직 권고, 과징금 부과(부과액은 금...  \n",
       "4    에이앤티앤(050320)은 회계처리기준 위반 행위로 인해 지난 15일 증권선물위원회...  \n",
       "..                                                 ...  \n",
       "807  ▲ 종목명 : 에이앤티앤, 에이앤티앤 거래정지일 : 2019.05.31, 에이앤티앤...  \n",
       "808  라이트론, 에이앤티앤, 썬텍, 테라셈 등은 반기검토(감사)의견 비적정, 자본잠식률 ...  \n",
       "809  ▲ 종목명 : 에이앤티앤, 에이앤티앤 거래정지일 : 2019.05.31, 에이앤티앤...  \n",
       "810  ▲ 종목명 : 에이앤티앤, 에이앤티앤 거래정지일 : 2019.05.31, 에이앤티앤...  \n",
       "811  경남제약, 셀바스AI, 에이앤티앤, 인터불스, EMW이나그레이트 등 28개사는 신규...  \n",
       "\n",
       "[812 rows x 3 columns]"
      ]
     },
     "execution_count": 13,
     "metadata": {},
     "output_type": "execute_result"
    }
   ],
   "source": [
    "df"
   ]
  },
  {
   "cell_type": "code",
   "execution_count": null,
   "metadata": {},
   "outputs": [],
   "source": []
  }
 ],
 "metadata": {
  "kernelspec": {
   "display_name": "Python 3.7.7 64-bit ('tf2': conda)",
   "language": "python",
   "name": "python37764bittf2condaada9f1f8f8664511a8a230abb5354df4"
  },
  "language_info": {
   "codemirror_mode": {
    "name": "ipython",
    "version": 3
   },
   "file_extension": ".py",
   "mimetype": "text/x-python",
   "name": "python",
   "nbconvert_exporter": "python",
   "pygments_lexer": "ipython3",
   "version": "3.7.7"
  }
 },
 "nbformat": 4,
 "nbformat_minor": 4
}
